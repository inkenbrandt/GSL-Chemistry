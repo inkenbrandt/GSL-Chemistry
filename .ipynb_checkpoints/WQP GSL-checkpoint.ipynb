{
 "cells": [
  {
   "cell_type": "code",
   "execution_count": 1,
   "metadata": {
    "ExecuteTime": {
     "end_time": "2017-12-13T14:41:20.666346Z",
     "start_time": "2017-12-13T14:41:20.649300Z"
    },
    "collapsed": true
   },
   "outputs": [],
   "source": [
    "%matplotlib inline\n",
    "import pandas as pd\n",
    "import platform\n",
    "import sys\n",
    "import numpy as np\n",
    "\n",
    "import pyproj\n",
    "from pyproj import Proj\n",
    "\n",
    "import matplotlib.pyplot as plt\n",
    "import matplotlib\n",
    "from pylab import rcParams\n",
    "rcParams['figure.figsize'] = 10, 10\n",
    "\n",
    "from datetime import datetime\n",
    "pd.options.mode.chained_assignment = None\n"
   ]
  },
  {
   "cell_type": "code",
   "execution_count": 2,
   "metadata": {
    "ExecuteTime": {
     "end_time": "2017-12-13T13:48:10.073363Z",
     "start_time": "2017-12-13T13:48:09.490931Z"
    },
    "collapsed": true
   },
   "outputs": [],
   "source": [
    "import wellapplication as wa"
   ]
  },
  {
   "cell_type": "code",
   "execution_count": 3,
   "metadata": {
    "ExecuteTime": {
     "end_time": "2017-12-13T13:48:10.209366Z",
     "start_time": "2017-12-13T13:48:10.206360Z"
    },
    "collapsed": true
   },
   "outputs": [],
   "source": [
    "#saveplace = \"E:/Google Drive/WORK/GSL Salinity Map/\"\n",
    "saveplace = \"E:/PROJECTS/GSL/\""
   ]
  },
  {
   "cell_type": "code",
   "execution_count": 4,
   "metadata": {
    "ExecuteTime": {
     "end_time": "2017-12-13T13:48:11.454816Z",
     "start_time": "2017-12-13T13:48:11.449803Z"
    },
    "collapsed": true
   },
   "outputs": [],
   "source": [
    "HUC8s = [16020310,16020308,16020305,16020304,16020204,16020102,16010204,16020309]\n",
    "HUC10s =[1601020505,1601020405,1602010205,1602010206,1602010207,1602020404,1602030404,1602030405,\n",
    "          1602030504,1602030505,1602030815,1602030818,1602030819,1602030905,1602030906,1602030907,\n",
    "          1602031001,1602031002,1602030904,1602030908,1602030817,1602030816]"
   ]
  },
  {
   "cell_type": "markdown",
   "metadata": {},
   "source": [
    "# WQP"
   ]
  },
  {
   "cell_type": "markdown",
   "metadata": {},
   "source": [
    "## Import from Script"
   ]
  },
  {
   "cell_type": "code",
   "execution_count": 5,
   "metadata": {
    "ExecuteTime": {
     "end_time": "2017-12-13T13:48:13.219270Z",
     "start_time": "2017-12-13T13:48:13.215258Z"
    },
    "collapsed": true
   },
   "outputs": [],
   "source": [
    "#sType=['Lake, Reservoir, Impoundment','Spring','Subsurface','Well','Wetland']\n",
    "sType=['Spring','Subsurface','Well']\n",
    "cType = ['Inorganics, Major, Metals', 'Inorganics, Major, Non-metals', 'Nutrient', 'Physical', 'Information',\n",
    "         'Inorganics, Minor, Metals','Inorganics, Minor, Non-metals','Stable Isotopes']\n",
    "sMedia = ['Water','water']"
   ]
  },
  {
   "cell_type": "code",
   "execution_count": 6,
   "metadata": {
    "ExecuteTime": {
     "end_time": "2017-12-13T14:10:29.804180Z",
     "start_time": "2017-12-13T13:48:14.090065Z"
    }
   },
   "outputs": [
    {
     "name": "stdout",
     "output_type": "stream",
     "text": [
      "https://www.waterqualitydata.us/Result/search?mimeType=csv&zip=no&siteType=Spring&siteType=Subsurface&siteType=Well&sampleMedia=Water&sampleMedia=water&bBox=-113.25%2C40.6166%2C-111.833%2C41.85&characteristicType=Inorganics%2C+Major%2C+Metals&characteristicType=Inorganics%2C+Major%2C+Non-metals&characteristicType=Nutrient&characteristicType=Physical&characteristicType=Information&characteristicType=Inorganics%2C+Minor%2C+Metals&characteristicType=Inorganics%2C+Minor%2C+Non-metals&characteristicType=Stable+Isotopes&sorted=no\n"
     ]
    }
   ],
   "source": [
    "chem = wa.WQP('-113.25,40.6166,-111.833,41.85','bBox',siteType=sType,characteristicType=cType,sampleMedia=sMedia)"
   ]
  },
  {
   "cell_type": "markdown",
   "metadata": {},
   "source": [
    "## WQP Results"
   ]
  },
  {
   "cell_type": "code",
   "execution_count": 7,
   "metadata": {
    "ExecuteTime": {
     "end_time": "2017-12-13T14:10:53.523125Z",
     "start_time": "2017-12-13T14:10:29.805184Z"
    }
   },
   "outputs": [
    {
     "data": {
      "text/plain": [
       "Index(['OrgId', 'OrgName', 'SampleId', 'SampType', 'SampMedia', 'SampleDate',\n",
       "       'SampDepth', 'SampDepthU', 'SampDepthRef', 'ProjectId', 'StationId',\n",
       "       'SampComment', 'SampMeth', 'SampMethName', 'SampEquip', 'DetectCond',\n",
       "       'Param', 'SampFrac', 'ResultValue', 'Unit', 'QualCode', 'ResultStatus',\n",
       "       'ResultComment', 'USGSPCode', 'AnalytMeth', 'AnalytMethId',\n",
       "       'MethodDescript', 'LabName', 'AnalysisDate', 'LabComments', 'LimitType',\n",
       "       'MDL', 'MDLUnit'],\n",
       "      dtype='object')"
      ]
     },
     "execution_count": 7,
     "metadata": {},
     "output_type": "execute_result"
    }
   ],
   "source": [
    "Results = chem.massage_results()\n",
    "Results.columns"
   ]
  },
  {
   "cell_type": "code",
   "execution_count": 8,
   "metadata": {
    "ExecuteTime": {
     "end_time": "2017-12-13T14:10:53.539168Z",
     "start_time": "2017-12-13T14:10:53.524128Z"
    }
   },
   "outputs": [
    {
     "data": {
      "text/plain": [
       "array([nan, 'Groundwater', 'Surface Water', 'Water QC Matrix',\n",
       "       'Ground Water', 'Water'], dtype=object)"
      ]
     },
     "execution_count": 8,
     "metadata": {},
     "output_type": "execute_result"
    }
   ],
   "source": [
    "Results['SampMedia'].unique()"
   ]
  },
  {
   "cell_type": "code",
   "execution_count": 9,
   "metadata": {
    "ExecuteTime": {
     "end_time": "2017-12-13T14:10:53.652468Z",
     "start_time": "2017-12-13T14:10:53.541173Z"
    },
    "collapsed": true
   },
   "outputs": [],
   "source": [
    "Results = Results[Results['SampMedia'] != 'Wet Fall Material']\n",
    "Results = Results[Results['SampMedia'] != 'Water QC Matrix']\n",
    "Results = Results[Results['SampMedia'] != 'Surface Water']"
   ]
  },
  {
   "cell_type": "code",
   "execution_count": 10,
   "metadata": {
    "ExecuteTime": {
     "end_time": "2017-12-13T14:10:53.721652Z",
     "start_time": "2017-12-13T14:10:53.653470Z"
    },
    "collapsed": true
   },
   "outputs": [],
   "source": [
    "def mergegw(x):\n",
    "    if x == 'Ground Water':\n",
    "        return 'Groundwater'\n",
    "    else:\n",
    "        return x\n",
    "    \n",
    "Results['SampMedia'] = Results['SampMedia'].apply(lambda x: mergegw(x),1)"
   ]
  },
  {
   "cell_type": "code",
   "execution_count": 11,
   "metadata": {
    "ExecuteTime": {
     "end_time": "2017-12-13T14:10:53.798857Z",
     "start_time": "2017-12-13T14:10:53.723657Z"
    },
    "collapsed": true
   },
   "outputs": [],
   "source": [
    "def cleanparam(x):\n",
    "    return str(x).strip().title()\n",
    "\n",
    "Results['Param'] = Results['Param'].apply(lambda x: cleanparam(x),1)"
   ]
  },
  {
   "cell_type": "code",
   "execution_count": 12,
   "metadata": {
    "ExecuteTime": {
     "end_time": "2017-12-13T14:10:53.818909Z",
     "start_time": "2017-12-13T14:10:53.800862Z"
    },
    "collapsed": true
   },
   "outputs": [],
   "source": [
    "Results['data_source'] = 'WQP'"
   ]
  },
  {
   "cell_type": "code",
   "execution_count": 13,
   "metadata": {
    "ExecuteTime": {
     "end_time": "2017-12-13T14:10:53.918172Z",
     "start_time": "2017-12-13T14:10:53.819912Z"
    },
    "collapsed": true
   },
   "outputs": [],
   "source": [
    "sample_counts = Results[['StationId','ResultValue','Param','SampMedia']].groupby(['SampMedia','Param']).count()\n",
    "sample_counts.to_csv(saveplace+'Processed_Data/WQP_samp_counts.csv')"
   ]
  },
  {
   "cell_type": "code",
   "execution_count": 14,
   "metadata": {
    "ExecuteTime": {
     "end_time": "2017-12-13T14:11:40.620108Z",
     "start_time": "2017-12-13T14:10:53.919176Z"
    },
    "collapsed": true
   },
   "outputs": [],
   "source": [
    "Results.to_csv(saveplace + 'Processed_Data/WQP_Results.csv')"
   ]
  },
  {
   "cell_type": "code",
   "execution_count": 15,
   "metadata": {
    "ExecuteTime": {
     "end_time": "2017-12-13T14:11:41.467357Z",
     "start_time": "2017-12-13T14:11:40.622113Z"
    },
    "collapsed": true
   },
   "outputs": [],
   "source": [
    "Results.to_pickle(saveplace + 'Processed_Data/WQP_Results.pickle')"
   ]
  },
  {
   "cell_type": "markdown",
   "metadata": {},
   "source": [
    "## WQP Stations"
   ]
  },
  {
   "cell_type": "code",
   "execution_count": 16,
   "metadata": {
    "ExecuteTime": {
     "end_time": "2017-12-13T14:11:41.483399Z",
     "start_time": "2017-12-13T14:11:41.468359Z"
    }
   },
   "outputs": [
    {
     "data": {
      "text/plain": [
       "Index(['OrgId', 'OrgName', 'StationId', 'StationName', 'StationType',\n",
       "       'StationComment', 'HUC8', 'Lat_Y', 'Lon_X', 'HorAcc', 'HorAccUnit',\n",
       "       'HorCollMeth', 'HorRef', 'Elev', 'ElevUnit', 'ElevAcc', 'ElevAccUnit',\n",
       "       'ElevMeth', 'ElevRef', 'StateCode', 'CountyCode', 'Aquifer', 'FmType',\n",
       "       'AquiferType', 'ConstDate', 'Depth', 'DepthUnit', 'HoleDepth',\n",
       "       'HoleDUnit'],\n",
       "      dtype='object')"
      ]
     },
     "execution_count": 16,
     "metadata": {},
     "output_type": "execute_result"
    }
   ],
   "source": [
    "Stations = chem.massage_stations()\n",
    "Stations.columns"
   ]
  },
  {
   "cell_type": "code",
   "execution_count": 17,
   "metadata": {
    "ExecuteTime": {
     "end_time": "2017-12-13T14:11:41.496433Z",
     "start_time": "2017-12-13T14:11:41.485405Z"
    },
    "collapsed": true
   },
   "outputs": [],
   "source": [
    "Stations = Stations[Stations['StationId'].isin(Results.StationId.unique())]"
   ]
  },
  {
   "cell_type": "code",
   "execution_count": null,
   "metadata": {
    "collapsed": true
   },
   "outputs": [],
   "source": []
  },
  {
   "cell_type": "code",
   "execution_count": 18,
   "metadata": {
    "ExecuteTime": {
     "end_time": "2017-12-13T14:27:04.276832Z",
     "start_time": "2017-12-13T14:19:54.556868Z"
    }
   },
   "outputs": [
    {
     "name": "stderr",
     "output_type": "stream",
     "text": [
      "C:\\Program Files\\ArcGIS\\Pro\\bin\\Python\\envs\\arcgispro-py3\\lib\\site-packages\\pandas\\core\\indexing.py:337: SettingWithCopyWarning: \n",
      "A value is trying to be set on a copy of a slice from a DataFrame.\n",
      "Try using .loc[row_indexer,col_indexer] = value instead\n",
      "\n",
      "See the caveats in the documentation: http://pandas.pydata.org/pandas-docs/stable/indexing.html#indexing-view-versus-copy\n",
      "  self.obj[key] = _infer_fill_value(value)\n",
      "C:\\Program Files\\ArcGIS\\Pro\\bin\\Python\\envs\\arcgispro-py3\\lib\\site-packages\\pandas\\core\\indexing.py:517: SettingWithCopyWarning: \n",
      "A value is trying to be set on a copy of a slice from a DataFrame.\n",
      "Try using .loc[row_indexer,col_indexer] = value instead\n",
      "\n",
      "See the caveats in the documentation: http://pandas.pydata.org/pandas-docs/stable/indexing.html#indexing-view-versus-copy\n",
      "  self.obj[item] = s\n"
     ]
    }
   ],
   "source": [
    "Stations['HUC12'] = Stations.loc[:,['Lon_X','Lat_Y']].apply(lambda x: wa.get_huc(x)[0],1)\n"
   ]
  },
  {
   "cell_type": "code",
   "execution_count": 42,
   "metadata": {
    "ExecuteTime": {
     "end_time": "2017-12-13T14:32:33.355261Z",
     "start_time": "2017-12-13T14:32:33.310141Z"
    }
   },
   "outputs": [
    {
     "name": "stderr",
     "output_type": "stream",
     "text": [
      "C:\\Program Files\\ArcGIS\\Pro\\bin\\Python\\envs\\arcgispro-py3\\lib\\site-packages\\ipykernel_launcher.py:1: SettingWithCopyWarning: \n",
      "A value is trying to be set on a copy of a slice from a DataFrame.\n",
      "Try using .loc[row_indexer,col_indexer] = value instead\n",
      "\n",
      "See the caveats in the documentation: http://pandas.pydata.org/pandas-docs/stable/indexing.html#indexing-view-versus-copy\n",
      "  \"\"\"Entry point for launching an IPython kernel.\n"
     ]
    }
   ],
   "source": [
    "Stations['HUC10'] = Stations['HUC12'].apply(lambda x: int(x[0:-2]),1)"
   ]
  },
  {
   "cell_type": "code",
   "execution_count": 19,
   "metadata": {
    "ExecuteTime": {
     "end_time": "2017-12-13T14:27:04.317941Z",
     "start_time": "2017-12-13T14:27:04.277834Z"
    }
   },
   "outputs": [
    {
     "name": "stderr",
     "output_type": "stream",
     "text": [
      "C:\\Program Files\\ArcGIS\\Pro\\bin\\Python\\envs\\arcgispro-py3\\lib\\site-packages\\ipykernel_launcher.py:1: SettingWithCopyWarning: \n",
      "A value is trying to be set on a copy of a slice from a DataFrame.\n",
      "Try using .loc[row_indexer,col_indexer] = value instead\n",
      "\n",
      "See the caveats in the documentation: http://pandas.pydata.org/pandas-docs/stable/indexing.html#indexing-view-versus-copy\n",
      "  \"\"\"Entry point for launching an IPython kernel.\n"
     ]
    }
   ],
   "source": [
    "Stations['data_source'] = \"WQP\""
   ]
  },
  {
   "cell_type": "code",
   "execution_count": 20,
   "metadata": {
    "ExecuteTime": {
     "end_time": "2017-12-13T14:27:04.722242Z",
     "start_time": "2017-12-13T14:27:04.318944Z"
    },
    "collapsed": true
   },
   "outputs": [],
   "source": [
    "Stations.to_csv(saveplace + 'Processed_Data/WQP_Stations.csv')\n",
    "Stations.to_pickle(saveplace + 'Processed_Data/WQP_Stations.pickle')"
   ]
  },
  {
   "cell_type": "markdown",
   "metadata": {},
   "source": [
    "# SDWIS"
   ]
  },
  {
   "cell_type": "code",
   "execution_count": 21,
   "metadata": {
    "ExecuteTime": {
     "end_time": "2017-12-13T14:27:05.017072Z",
     "start_time": "2017-12-13T14:27:04.724218Z"
    },
    "collapsed": true
   },
   "outputs": [],
   "source": [
    "connection_filepath = \"G:/PROJECTS/Groundwater Chemistry/\"\n",
    "sys.path.append(connection_filepath)\n",
    "import oraconnection"
   ]
  },
  {
   "cell_type": "code",
   "execution_count": 22,
   "metadata": {
    "ExecuteTime": {
     "end_time": "2017-12-13T14:27:05.226657Z",
     "start_time": "2017-12-13T14:27:05.020081Z"
    },
    "collapsed": true
   },
   "outputs": [],
   "source": [
    "connection = oraconnection.oraconnect()"
   ]
  },
  {
   "cell_type": "code",
   "execution_count": 255,
   "metadata": {
    "ExecuteTime": {
     "end_time": "2017-12-13T17:58:03.260489Z",
     "start_time": "2017-12-13T17:58:03.213865Z"
    },
    "collapsed": true
   },
   "outputs": [],
   "source": [
    "def filldate(x):\n",
    "    if pd.isnull(x['SampleDate']):\n",
    "        return x['ActDate']\n",
    "    else:\n",
    "        pass\n",
    "\n",
    "\n",
    "\n",
    "def sql_bbox(x, connection):\n",
    "    \"\"\"\n",
    "    x = list of bbox coordinates; lat top, long left, lat bottom, long right\n",
    "    returns stations, chemistry\n",
    "    \"\"\"\n",
    "    \n",
    "    SQLtext = \"\"\"\n",
    "    SELECT \n",
    "    UTV80.TINWSF.TINWSF_IS_NUMBER AS \"StationId\",\n",
    "    UTV80.TINWSF.NAME AS \"StationName\",\n",
    "    UTV80.TINWSF.TYPE_CODE AS \"StationType\",\n",
    "    UTV80.TINWSYS.TINWSYS_IS_NUMBER AS \"OrgId\",\n",
    "    UTV80.TINWSYS.NAME AS \"OrgName\",\n",
    "    UTV80.TINLOC.LATITUDE_MEASURE AS \"Lat_Y\",\n",
    "    UTV80.TINLOC.LONGITUDE_MEASURE AS \"Lon_X\",\n",
    "    UTV80.TINLOC.SRC_MAP_SCALE_NUM AS \"MapScale\",\n",
    "    UTV80.TINLOC.HORIZ_ACCURACY_MSR AS \"HorAcc\",\n",
    "    UTV80.TINLOC.HZ_COLLECT_METH_CD AS \"HorCollMeth\",\n",
    "    UTV80.TINLOC.HORIZ_REF_DATUM_CD AS \"HorRef\",\n",
    "    UTV80.TINLOC.VERTICAL_MEASURE AS \"Elev\",\n",
    "    UTV80.TINLOC.VERT_ACCURACY_MSR AS \"ElevAcc\",\n",
    "    UTV80.TINLOC.VER_COL_METH_CD AS \"ElevMeth\",\n",
    "    UTV80.TINLOC.VERT_REF_DATUM_CD AS \"ElevRef\",\n",
    "    UTV80.TINWSF.ACTIVITY_DATE AS \"ActDate\",\n",
    "    UTV80.TINWSF.ACTIVITY_STATUS_CD AS \"ActStatus\"\n",
    "\n",
    "    FROM\n",
    "    UTV80.TINWSF\n",
    "    JOIN UTV80.TINWSYS ON  UTV80.TINWSF.TINWSYS_IS_NUMBER = UTV80.TINWSYS.TINWSYS_IS_NUMBER  \n",
    "    JOIN UTV80.TINLOC ON  UTV80.TINWSF.TINWSF_IS_NUMBER = UTV80.TINLOC.TINWSF_IS_NUMBER \n",
    "\n",
    "    WHERE\n",
    "    (UTV80.TINWSF.TYPE_CODE IN('WL','SP','IN')) -- Spring, well, or intake\n",
    "    AND (UTV80.TINLOC.LATITUDE_MEASURE < {:})\n",
    "    AND (UTV80.TINLOC.LONGITUDE_MEASURE > {:})\n",
    "    AND(UTV80.TINLOC.LATITUDE_MEASURE > {:})\n",
    "    AND (UTV80.TINLOC.LONGITUDE_MEASURE < {:})\n",
    "    \"\"\"\n",
    "    SQL = SQLtext.format(x[0],x[1],x[2],x[3]) # 40.44, -111.51, 40.30, -111.35\n",
    "    stations = pd.read_sql(SQL, con = connection)\n",
    "    stations['StationName'] = stations['StationName'].apply(lambda x: str(x).strip().title(), 1)\n",
    "    \n",
    "    stlist = list(stations['StationId'].unique())\n",
    "    stlist = [str(i) for i in stlist]\n",
    "    SQLtext = \"\"\"\n",
    "    SELECT\n",
    "    UTV80.TINWSF.TYPE_CODE AS \"SampType\", \n",
    "    UTV80.TINWSF.TINWSF_IS_NUMBER AS \"StationId\", \n",
    "    UTV80.TINWSYS.TINWSYS_IS_NUMBER AS \"OrgId\", \n",
    "    UTV80.TINWSYS.NAME AS \"OrgName\", \n",
    "    UTV80.TSASAMPL.TSASAMPL_IS_NUMBER AS \"SampleId\", \n",
    "    UTV80.TSASAMPL.COLLLECTION_END_DT AS \"SampleDate\", \n",
    "    UTV80.TSASAMPL.COLLCTN_END_TIME AS \"SampleTime\", \n",
    "    UTV80.TSAANLYT.NAME AS \"Param\", \n",
    "    UTV80.TSASAR.CONCENTRATION_MSR AS \"ResultValue\", \n",
    "    UTV80.TSASAR.UOM_CODE AS \"Unit\", \n",
    "    UTV80.TSASAR.ANALYSIS_START_DT AS \"AnalysisDate\", \n",
    "    UTV80.TSASAR.DETECTN_LIMIT_NUM AS \"MDL\", \n",
    "    UTV80.TSASAR.DETECTN_LIM_UOM_CD AS \"MDLUnit\", \n",
    "    UTV80.TSAANLYT.CAS_REGISTRY_NUM AS \"CAS_Reg\", \n",
    "    UTV80.TSASAR.TSASAR_IS_NUMBER AS \"ID_NUM\",\n",
    "    UTV80.TSASAMPL.COMMENT_TEXT AS \"SamplePointComment\",\n",
    "    UTV80.TSASMPPT.DESCRIPTION_TEXT AS \"SamplePointDesc\"\n",
    "\n",
    "    FROM \n",
    "    UTV80.TINWSF -- Water System Facility (water source)\n",
    "    JOIN UTV80.TINWSYS ON -- Water System (town or water provider)\n",
    "    UTV80.TINWSF.TINWSYS_IS_NUMBER = UTV80.TINWSYS.TINWSYS_IS_NUMBER \n",
    "    JOIN UTV80.TSASMPPT ON  -- Sample point\n",
    "    UTV80.TINWSF.TINWSF_IS_NUMBER = UTV80.TSASMPPT.TINWSF0IS_NUMBER\n",
    "    JOIN UTV80.TSASAMPL ON -- Sample\n",
    "    UTV80.TSASMPPT.TSASMPPT_IS_NUMBER = UTV80.TSASAMPL.TSASMPPT_IS_NUMBER  -- Sample Point\n",
    "    JOIN UTV80.TSASAR ON -- Sample Result\n",
    "    UTV80.TSASAMPL.TSASAMPL_IS_NUMBER = UTV80.TSASAR.TSASAMPL_IS_NUMBER   -- Sample Number\n",
    "    JOIN UTV80.TSAANLYT ON -- Analyte\n",
    "    UTV80.TSASAR.TSAANLYT_IS_NUMBER = UTV80.TSAANLYT.TSAANLYT_IS_NUMBER  -- Analyte Number\n",
    "\n",
    "    WHERE (UTV80.TINWSF.TYPE_CODE IN('WL','SP','IN')) -- Spring or well or intake\n",
    "    AND UTV80.TSASMPPT.SOURCE_TYPE_CODE = 'RW' -- Raw (unfiltered) water\n",
    "    AND UTV80.TSASMPPT.TYPE_CODE IN('RW','EP','SR') -- From source\n",
    "    AND UTV80.TINWSF.TINWSF_IS_NUMBER IN('{:}') \n",
    "    ORDER BY UTV80.TINWSF.ST_ASGN_IDENT_CD\n",
    "    \"\"\"\n",
    "    \n",
    "    SQL = SQLtext.format(\"','\".join(stlist))\n",
    "    chemistry = pd.read_sql(SQL, con = connection, parse_dates=['SampleDate','SampleTime','AnalysisDate'])\n",
    "    chemistry['SampleDate'] = chemistry[[\"SampleDate\", \"SampleTime\"]].apply(lambda x:pd.to_datetime(x[0],\n",
    "                                                                                                    errors='ignore',\n",
    "                                                                                                    format=\"%Y-%m-%d %H:%M\"), 1)\n",
    "    chemistry['SampleDate'] = chemistry.apply(lambda x: filldate(x),1)\n",
    "    \n",
    "    return stations, chemistry"
   ]
  },
  {
   "cell_type": "code",
   "execution_count": 24,
   "metadata": {
    "ExecuteTime": {
     "end_time": "2017-12-13T14:27:05.352977Z",
     "start_time": "2017-12-13T14:27:05.263755Z"
    },
    "collapsed": true
   },
   "outputs": [],
   "source": [
    "def piv_chem(stations, chemistry):\n",
    "    \n",
    "    paramdict = {'nitrate-nitrite':'NO3+NO2-N', 'nitrate':'NO3', 'sulfate':'SO4',\n",
    "             'nitrite':'NO2', 'turbidity':'turb', 'silver':'Ag',\n",
    "             'barium':'Ba', 'fluoride':'F', \n",
    "             'potassium':'K', 'arsenic':'As', 'mercury':'Hg',\n",
    "             'sodium':'Na', 'selenium':'Se', 'cadmium':'Cd',\n",
    "             'copper, free':'Cu', 'zinc':'Zn', 'silica':'Si',\n",
    "             'magnesium':'Mg', 'lead':'Pb', 'calcium':'Ca',\n",
    "             'nitrogen-ammonia as (n)':'NH4-N', 'chloride':'Cl', \n",
    "             'iron':'Fe', 'manganese':'Mn', 'phosphate, total':'PO4', \n",
    "             'carbon dioxide':'CO2', 'bicarbonate as hco3':'HCO3', \n",
    "             'alkalinity, total':'Alk', 'tds':'TDS', 'hardness, carbonate':'Hard', \n",
    "             'conductivity @ 25 c umhos/cm':'Cond', \n",
    "             'hardness, total (as caco3)':'Hard','iron, dissolved':'Fe', 'ph':'pH',\n",
    "             'alkalinity, carbonate':'Alk'}\n",
    "    \n",
    "    \n",
    "    chemistry['Param'] = chemistry['Param'].apply(lambda x: str(x).strip().lower(),1)\n",
    "    chemistry['ParAbb'] = chemistry['Param'].apply(lambda x: paramdict.get(x),1)\n",
    "    chemistry.drop_duplicates(subset=['SampleId','ParAbb'],inplace=True)\n",
    "    chem_piv = chemistry.pivot(index='SampleId',columns='ParAbb',values='ResultValue')\n",
    "    chem_piv.reset_index(inplace=True)\n",
    "\n",
    "    chem_dict = chemistry[['SampleId','StationId']].set_index('SampleId').to_dict()['StationId']\n",
    "    chem_piv['StationId'] =chem_piv['SampleId'].apply(lambda x: chem_dict.get(x),1)\n",
    "    chem_piv = pd.merge(chem_piv,stations,on='StationId')\n",
    "    \n",
    "    sampdatedict = chemistry[['SampleId','SampleDate']].set_index('SampleId').to_dict()['SampleDate']\n",
    "    chem_piv['SampleDate'] = chem_piv['SampleId'].apply(lambda x: sampdatedict.get(x), 1)\n",
    "\n",
    "    chem_piv_piper = chem_piv.dropna(subset=['Ca','Na','SO4','Cl','Mg','HCO3'])\n",
    "    chem_piv_piper = chem_piv_piper[(chem_piv_piper['Na'] > 0)&(chem_piv_piper['SO4'] > 0)&(chem_piv_piper['Cl'] > 0)]\n",
    "    chem_piv_piper = reind_inc(chem_piv_piper)\n",
    "    return chem_piv, chem_piv_piper"
   ]
  },
  {
   "cell_type": "code",
   "execution_count": 25,
   "metadata": {
    "ExecuteTime": {
     "end_time": "2017-12-13T14:27:05.386064Z",
     "start_time": "2017-12-13T14:27:05.354982Z"
    },
    "collapsed": true
   },
   "outputs": [],
   "source": [
    "def reind_inc(df):\n",
    "    df['increment'] = range(0,len(df))\n",
    "    df = df.reset_index(['increment'])\n",
    "    return df\n",
    "\n",
    "\n",
    "def df_to_published_data(df,title):\n",
    "\n",
    "    df.rename(columns={'Lat_Y':'y','Lon_X':'x'},inplace=True)\n",
    "    fc = gis.content.import_data(df)\n",
    "    map1 = gis.map(location= [df.x.mean(),df.y.mean()], zoomlevel=12)\n",
    "    map1.add_layer(fc)#,{\"renderer\":\"ClassedSizeRenderer\",\"field_name\": \"TDS\"})\n",
    "    xmin = round(df.x.min()-0.1,2)\n",
    "    ymin = round(df.y.min()-0.1,2)\n",
    "    xmax = round(df.x.max()+0.1,2)\n",
    "    ymax = round(df.y.max()+0.1,2)\n",
    "\n",
    "    item_properties = {\n",
    "        \"title\": title,\n",
    "        \"tags\" : \"utah, groundwater,water quality\",\n",
    "        \"snippet\": \"Round Valley Water Quality\",\n",
    "        \"description\": \"samples collected by UGS\",\n",
    "        \"text\": json.dumps({\"featureCollection\": {\"layers\": [dict(fc.layer)]}}),\n",
    "        \"type\": \"Feature Collection\",\n",
    "        \"typeKeywords\": \"Data, Feature Collection, Singlelayer\",\n",
    "        \"extent\" : \"{:},{:},{:},{:}\".format(xmin,ymin,xmax,ymax)\n",
    "    }\n",
    "\n",
    "    item = gis.content.add(item_properties)\n",
    "    return item, map1"
   ]
  },
  {
   "cell_type": "code",
   "execution_count": 256,
   "metadata": {
    "ExecuteTime": {
     "end_time": "2017-12-13T17:59:55.272764Z",
     "start_time": "2017-12-13T17:58:10.021969Z"
    },
    "collapsed": true
   },
   "outputs": [],
   "source": [
    "sdwis_stations, sdwis_chemistry = sql_bbox([41.85, -113.25, 40.6166, -111.833],connection)\n",
    "sdwis_chem_piv, sdwis_chem_piv_piper = piv_chem(sdwis_stations, sdwis_chemistry)\n",
    "#wa.piper(chem_piv_piper,type_col='',var_col='TDS')"
   ]
  },
  {
   "cell_type": "code",
   "execution_count": 257,
   "metadata": {
    "ExecuteTime": {
     "end_time": "2017-12-13T18:02:23.533758Z",
     "start_time": "2017-12-13T18:02:23.434901Z"
    },
    "collapsed": true
   },
   "outputs": [],
   "source": [
    "sdwis_drop = ['aroclor 1016', 'aroclor 1248', 'coliform (tcr)','di(2-ethylhexyl) adipate',\n",
    "              '1,2-dichloropropane', 'dichlorodifluoromethane', 'trichlorotrifluoroethane', '1,1-dichloroethylene',\n",
    "              'trans-1,3-dichloropropene', 'atrazine', 'trans-1,2-dichloroethylene', 'dichloromethane',\n",
    "              'hexachlorobenzene', 'benzene', 'carbon, total',\n",
    "              'aldicarb sulfone', '1,2,4-trichlorobenzene', 'propachlor', 'xylenes, total', \n",
    "              'toluene', '2,4,5-tp', 'radium-228','chloroform', 'isopropylbenzene', 'di(2-ethylhexyl) phthalate',\n",
    "              '3-hydroxycarbofuran', 'lasso',\n",
    "              'dibromochloromethane', 'bhc-gamma', 'carbofuran', 'styrene',\n",
    "              'total polychlorinated biphenyls (pcb)', 'hexachlorocyclopentadiene', 'p-dichlorobenzene', 'simazine',\n",
    "              'methomyl', 'picloram', 'vinyl chloride', 'benzo(a)pyrene',\n",
    "              'hexachlorobutadiene', 'bromomethane', 'aroclor 1242', 'p-isopropyltoluene', \n",
    "              'dieldrin','methoxychlor', '1,1,1-trichloroethane', \n",
    "              'oxamyl', 'bromobenzene', 'butachlor', '1,2,4-trimethylbenzene', 'dinoseb', \n",
    "              '1,1,2-trichloroethane', 'o-chlorotoluene', 'dalapon',\n",
    "              'chloromethane', 'gamma-chlordane', 'cis-1,2-dichloroethylene',\n",
    "              'o-dichlorobenzene', 'aldicarb', '1,3-dichloropropane',\n",
    "              'chlorobenzene', 'heptachlor', 'trichloroethylene', '1,2,3-trichloropropane', \n",
    "              'aldicarb sulfoxide','1,2-dichloroethane', 'carbon tetrachloride',\n",
    "              'chlordane', 'ethylbenzene', 'sec-butylbenzene',\n",
    "              'bromodichloromethane', 'e. coli','mbas - foaming agents (surfactants)', 'bromochloromethane',\n",
    "              '1,1-dichloropropene', 'metolachlor', 'endrin','dichlorobenzenes, total', \n",
    "              'p-chlorotoluene', 'tetrachloroethylene',\n",
    "              'toxaphene', 'naphthalene', 'foaming agents (surfactants)',\n",
    "              'carbaryl', 'chloroethane', 'pentachlorophenol', 'aroclor 1254',\n",
    "              'cryptosporidium', 'trichlorofluoromethane',\n",
    "              '1,3,5-trimethylbenzene', 'dicamba', '2,2-dichloropropane',\n",
    "              '1,2,3-trichlorobenzene', '2,4-d', 'heptachlor epoxide', 'metribuzin', 'chlorine',\n",
    "              'n-butylbenzene', '1,3-dichloropropene', '1,1-dichloroethane',\n",
    "              '1,1,1,2-tetrachloroethane', 'tthm', 'bromoform', 'aldrin',\n",
    "              '1,1,2,2-tetrachloroethane', 'tert-butylbenzene',\n",
    "              'n-propylbenzene', 'gross alpha particle activity', 'radium-226','ethylene dibromide',\n",
    "              'asbestos', 'endothall', 'aroclor 1260', 'n-nitrosodi-n-propylamine',\n",
    "              'trichloroacetic acid', '38-strontium-90', '2,3,7,8-tcdd',\n",
    "              'methyl tert-butyl ether', 'diquat',\n",
    "              'bis(2-ethylhexyl) phthalate', 'm-xylene', 'aroclor 1232', 'color', 'alpha-chlordane',\n",
    "              'cis-1,3-dichloropropene', 'm-dichlorobenzene', 'dibromomethane',\n",
    "              'total haloacetic acids (haa5)', 'aroclor 1221', '1,2-dibromo-3-chloropropane',\n",
    "              'uv absorbance @254 nm','perchlorate']\n",
    "\n",
    "sdwis_chemistry = sdwis_chemistry[~sdwis_chemistry['Param'].isin(sdwis_drop)]"
   ]
  },
  {
   "cell_type": "code",
   "execution_count": 258,
   "metadata": {
    "ExecuteTime": {
     "end_time": "2017-12-13T18:02:25.976270Z",
     "start_time": "2017-12-13T18:02:25.969742Z"
    },
    "collapsed": true
   },
   "outputs": [],
   "source": [
    "sdwis_stations = sdwis_stations[sdwis_stations['StationId'].isin(sdwis_chemistry['StationId'].unique())]"
   ]
  },
  {
   "cell_type": "code",
   "execution_count": 259,
   "metadata": {
    "ExecuteTime": {
     "end_time": "2017-12-13T18:02:28.471862Z",
     "start_time": "2017-12-13T18:02:28.441282Z"
    },
    "collapsed": true
   },
   "outputs": [],
   "source": [
    "sdwis_chem_piv['data_source'] = 'SDWIS'\n",
    "sdwis_chemistry['data_source'] = 'SDWIS'\n",
    "sdwis_stations['data_source'] = 'SDWIS'"
   ]
  },
  {
   "cell_type": "code",
   "execution_count": 260,
   "metadata": {
    "ExecuteTime": {
     "end_time": "2017-12-13T18:02:31.008131Z",
     "start_time": "2017-12-13T18:02:30.985069Z"
    }
   },
   "outputs": [
    {
     "data": {
      "text/html": [
       "<div>\n",
       "<style>\n",
       "    .dataframe thead tr:only-child th {\n",
       "        text-align: right;\n",
       "    }\n",
       "\n",
       "    .dataframe thead th {\n",
       "        text-align: left;\n",
       "    }\n",
       "\n",
       "    .dataframe tbody tr th {\n",
       "        vertical-align: top;\n",
       "    }\n",
       "</style>\n",
       "<table border=\"1\" class=\"dataframe\">\n",
       "  <thead>\n",
       "    <tr style=\"text-align: right;\">\n",
       "      <th></th>\n",
       "      <th>StationId</th>\n",
       "      <th>StationName</th>\n",
       "      <th>StationType</th>\n",
       "      <th>OrgId</th>\n",
       "      <th>OrgName</th>\n",
       "      <th>Lat_Y</th>\n",
       "      <th>Lon_X</th>\n",
       "      <th>MapScale</th>\n",
       "      <th>HorAcc</th>\n",
       "      <th>HorCollMeth</th>\n",
       "      <th>HorRef</th>\n",
       "      <th>Elev</th>\n",
       "      <th>ElevAcc</th>\n",
       "      <th>ElevMeth</th>\n",
       "      <th>ElevRef</th>\n",
       "      <th>ActDate</th>\n",
       "      <th>ActStatus</th>\n",
       "      <th>data_source</th>\n",
       "    </tr>\n",
       "  </thead>\n",
       "  <tbody>\n",
       "    <tr>\n",
       "      <th>1</th>\n",
       "      <td>2994</td>\n",
       "      <td>Acme Well</td>\n",
       "      <td>WL</td>\n",
       "      <td>6</td>\n",
       "      <td>ACME WATER COMPANY</td>\n",
       "      <td>41.632167</td>\n",
       "      <td>-112.065619</td>\n",
       "      <td>24,000</td>\n",
       "      <td>15.0</td>\n",
       "      <td>018</td>\n",
       "      <td>003</td>\n",
       "      <td>1376.41</td>\n",
       "      <td>2.48</td>\n",
       "      <td>003</td>\n",
       "      <td>003</td>\n",
       "      <td>1977-06-01</td>\n",
       "      <td>A</td>\n",
       "      <td>SDWIS</td>\n",
       "    </tr>\n",
       "    <tr>\n",
       "      <th>2</th>\n",
       "      <td>5315</td>\n",
       "      <td>South #3 Spring</td>\n",
       "      <td>SP</td>\n",
       "      <td>6</td>\n",
       "      <td>ACME WATER COMPANY</td>\n",
       "      <td>41.630396</td>\n",
       "      <td>-112.060441</td>\n",
       "      <td>24,000</td>\n",
       "      <td>15.0</td>\n",
       "      <td>018</td>\n",
       "      <td>003</td>\n",
       "      <td>1426.90</td>\n",
       "      <td>2.56</td>\n",
       "      <td>003</td>\n",
       "      <td>003</td>\n",
       "      <td>1977-06-01</td>\n",
       "      <td>A</td>\n",
       "      <td>SDWIS</td>\n",
       "    </tr>\n",
       "    <tr>\n",
       "      <th>3</th>\n",
       "      <td>5314</td>\n",
       "      <td>South #2 Spring</td>\n",
       "      <td>SP</td>\n",
       "      <td>6</td>\n",
       "      <td>ACME WATER COMPANY</td>\n",
       "      <td>41.629383</td>\n",
       "      <td>-112.061361</td>\n",
       "      <td>24,000</td>\n",
       "      <td>15.0</td>\n",
       "      <td>018</td>\n",
       "      <td>003</td>\n",
       "      <td>1407.34</td>\n",
       "      <td>2.97</td>\n",
       "      <td>003</td>\n",
       "      <td>003</td>\n",
       "      <td>1977-06-01</td>\n",
       "      <td>A</td>\n",
       "      <td>SDWIS</td>\n",
       "    </tr>\n",
       "    <tr>\n",
       "      <th>4</th>\n",
       "      <td>5313</td>\n",
       "      <td>So.- #1(Unused) Spring</td>\n",
       "      <td>SP</td>\n",
       "      <td>6</td>\n",
       "      <td>ACME WATER COMPANY</td>\n",
       "      <td>41.629641</td>\n",
       "      <td>-112.060813</td>\n",
       "      <td>24,000</td>\n",
       "      <td>15.0</td>\n",
       "      <td>018</td>\n",
       "      <td>003</td>\n",
       "      <td>1417.86</td>\n",
       "      <td>2.64</td>\n",
       "      <td>003</td>\n",
       "      <td>003</td>\n",
       "      <td>1977-06-01</td>\n",
       "      <td>I</td>\n",
       "      <td>SDWIS</td>\n",
       "    </tr>\n",
       "    <tr>\n",
       "      <th>5</th>\n",
       "      <td>5312</td>\n",
       "      <td>Chokecherry Spring</td>\n",
       "      <td>SP</td>\n",
       "      <td>6</td>\n",
       "      <td>ACME WATER COMPANY</td>\n",
       "      <td>41.632683</td>\n",
       "      <td>-112.058872</td>\n",
       "      <td>24,000</td>\n",
       "      <td>15.0</td>\n",
       "      <td>018</td>\n",
       "      <td>003</td>\n",
       "      <td>1461.01</td>\n",
       "      <td>3.07</td>\n",
       "      <td>003</td>\n",
       "      <td>003</td>\n",
       "      <td>1977-06-01</td>\n",
       "      <td>A</td>\n",
       "      <td>SDWIS</td>\n",
       "    </tr>\n",
       "  </tbody>\n",
       "</table>\n",
       "</div>"
      ],
      "text/plain": [
       "   StationId             StationName StationType  OrgId             OrgName  \\\n",
       "1       2994               Acme Well          WL      6  ACME WATER COMPANY   \n",
       "2       5315         South #3 Spring          SP      6  ACME WATER COMPANY   \n",
       "3       5314         South #2 Spring          SP      6  ACME WATER COMPANY   \n",
       "4       5313  So.- #1(Unused) Spring          SP      6  ACME WATER COMPANY   \n",
       "5       5312      Chokecherry Spring          SP      6  ACME WATER COMPANY   \n",
       "\n",
       "       Lat_Y       Lon_X    MapScale  HorAcc HorCollMeth HorRef     Elev  \\\n",
       "1  41.632167 -112.065619  24,000        15.0         018    003  1376.41   \n",
       "2  41.630396 -112.060441  24,000        15.0         018    003  1426.90   \n",
       "3  41.629383 -112.061361  24,000        15.0         018    003  1407.34   \n",
       "4  41.629641 -112.060813  24,000        15.0         018    003  1417.86   \n",
       "5  41.632683 -112.058872  24,000        15.0         018    003  1461.01   \n",
       "\n",
       "   ElevAcc ElevMeth ElevRef    ActDate ActStatus data_source  \n",
       "1     2.48      003     003 1977-06-01         A       SDWIS  \n",
       "2     2.56      003     003 1977-06-01         A       SDWIS  \n",
       "3     2.97      003     003 1977-06-01         A       SDWIS  \n",
       "4     2.64      003     003 1977-06-01         I       SDWIS  \n",
       "5     3.07      003     003 1977-06-01         A       SDWIS  "
      ]
     },
     "execution_count": 260,
     "metadata": {},
     "output_type": "execute_result"
    }
   ],
   "source": [
    "sdwis_stations.head()"
   ]
  },
  {
   "cell_type": "code",
   "execution_count": 261,
   "metadata": {
    "ExecuteTime": {
     "end_time": "2017-12-13T18:05:34.451702Z",
     "start_time": "2017-12-13T18:02:33.483792Z"
    },
    "collapsed": true
   },
   "outputs": [],
   "source": [
    "sdwis_stations['HUC12'] = sdwis_stations[['Lon_X','Lat_Y']].apply(lambda x: wa.get_huc(x)[0],1)"
   ]
  },
  {
   "cell_type": "code",
   "execution_count": null,
   "metadata": {
    "collapsed": true
   },
   "outputs": [],
   "source": []
  },
  {
   "cell_type": "code",
   "execution_count": 262,
   "metadata": {
    "ExecuteTime": {
     "end_time": "2017-12-13T18:05:36.888987Z",
     "start_time": "2017-12-13T18:05:36.884476Z"
    },
    "collapsed": true
   },
   "outputs": [],
   "source": [
    "sdwis_stations['HUC10'] = sdwis_stations['HUC12'].apply(lambda x: int(x[0:-2]),1)"
   ]
  },
  {
   "cell_type": "code",
   "execution_count": null,
   "metadata": {
    "collapsed": true
   },
   "outputs": [],
   "source": []
  },
  {
   "cell_type": "code",
   "execution_count": 263,
   "metadata": {
    "ExecuteTime": {
     "end_time": "2017-12-13T18:05:40.751749Z",
     "start_time": "2017-12-13T18:05:39.330156Z"
    },
    "collapsed": true
   },
   "outputs": [],
   "source": [
    "sdwis_stations.to_pickle(saveplace + 'Processed_Data/sdwis_stations.pickle')\n",
    "sdwis_chemistry.to_pickle(saveplace + 'Processed_Data/sdwis_results.pickle')"
   ]
  },
  {
   "cell_type": "markdown",
   "metadata": {},
   "source": [
    "# AQWMS"
   ]
  },
  {
   "cell_type": "code",
   "execution_count": 264,
   "metadata": {
    "ExecuteTime": {
     "end_time": "2017-12-13T23:11:21.735110Z",
     "start_time": "2017-12-13T23:11:21.731580Z"
    },
    "collapsed": true
   },
   "outputs": [],
   "source": [
    "aqwms_file = saveplace + 'Standard Export 18665.xlsx'"
   ]
  },
  {
   "cell_type": "code",
   "execution_count": 265,
   "metadata": {
    "ExecuteTime": {
     "end_time": "2017-12-13T23:12:11.416116Z",
     "start_time": "2017-12-13T23:11:24.145544Z"
    },
    "collapsed": true
   },
   "outputs": [],
   "source": [
    "awqms = pd.read_excel(aqwms_file,skiprows=1)\n",
    "\n",
    "dropcols = []\n",
    "for column in list(awqms.describe().columns):\n",
    "    if awqms.describe().loc['count',column] == 0:\n",
    "        dropcols.append(column)\n",
    "        \n",
    "awqms.drop(dropcols, axis=1, inplace=True)\n",
    "\n",
    "awqms['SampleDate'] = awqms[[\"Activity Start Date\",\"Activity Start Time\"]].apply(lambda x: pd.to_datetime(str(x[0])[:11]+str(x[1])[-8:],\n",
    "                                                                                                                  format='%Y-%m-%d %H:%M:%S',\n",
    "                                                                                                                  errors='coerce'),1)"
   ]
  },
  {
   "cell_type": "code",
   "execution_count": 267,
   "metadata": {
    "ExecuteTime": {
     "end_time": "2017-12-13T23:13:06.152925Z",
     "start_time": "2017-12-13T23:13:06.106303Z"
    },
    "collapsed": true
   },
   "outputs": [],
   "source": [
    "ResFieldDict = {\n",
    "                \"Activity Conducting Organization1\":\"OrgName\",\n",
    "                \"Monitoring Location ID\":\"StationId\",\n",
    "                \"Monitoring Location Name\":\"StationName\", \n",
    "                \"Monitoring Location Type\":\"StationType\",\n",
    "                \"Monitoring Location State\":\"StateCode\", \n",
    "                \"Monitoring Location Latitude\":\"Lat_Y\",\n",
    "                \"Monitoring Location Longitude\":\"Lon_X\", \n",
    "                \"AnalysisStartDate\": \"AnalysisDate\", \n",
    "                \"Analytical Method ID\": \"AnalytMeth\",\n",
    "                \"Analytical Method Name\": \"AnalytMethId\",\n",
    "                \"Detection Condition\": \"DetectCond\",\n",
    "                \"Laboratory Comment\": \"LabComments\", \n",
    "                \"Laboratory Name\": \"LabName\",\n",
    "                \"Detection Limit Type1\": \"LimitType\",\n",
    "                \"Detection Limit Value1\": \"MDL\",\n",
    "                \"Detection Limit Unit1\": \"MDLUnit\",\n",
    "                \"MethodDescriptionText\": \"MethodDescript\",\n",
    "                \"Organization ID\": \"OrgId\", \n",
    "                \"Characteristic Name\": \"Param\",\n",
    "                \"Project Identifier\": \"ProjectId\", \n",
    "                \"MeasureQualifierCode\": \"QualCode\",\n",
    "                \"Result CommentText\": \"ResultComment\",\n",
    "                \"Result Status ID\": \"ResultStatus\", \n",
    "                \"Result Value\": \"ResultValue\",\n",
    "                \"Activity Comment Text\": \"SampComment\", \n",
    "                \"Activity Depth/Height\": \"SampDepth\",\n",
    "                \"Activity Depth/Altitude Reference Point\": \"SampDepthRef\",\n",
    "                \"Activity Depth/Height Unit\": \"SampDepthU\",\n",
    "                \"Sample Collection EquipmentName\": \"SampEquip\",\n",
    "                \"Sample Fraction\": \"SampFrac\", \"ActivityStartDate\": \"SampleDate\",\n",
    "                \"Activity ID\": \"SampleId\",\n",
    "                \"Activity Start Time\": \"SampleTime\", \n",
    "                \"Activity Media Subdivision\": \"SampMedia\",\n",
    "                \"Sample Collection Method ID\": \"SampMeth\",\n",
    "                \"Sample Collection Method Name\": \"SampMethName\",\n",
    "                \"Activity Type\": \"SampType\", \n",
    "                \"Monitoring Location Identifier\": \"StationId\",\n",
    "                \"Result Unit\": \"Unit\", \n",
    "                \"USGSPCode\": \"USGSPCode\"}\n",
    "\n",
    "# Rename Data\n",
    "awqms = awqms.rename(columns=ResFieldDict)"
   ]
  },
  {
   "cell_type": "code",
   "execution_count": 268,
   "metadata": {
    "ExecuteTime": {
     "end_time": "2017-12-13T23:13:08.694253Z",
     "start_time": "2017-12-13T23:13:08.649223Z"
    },
    "collapsed": true
   },
   "outputs": [],
   "source": [
    "droplist = ['Depth, data-logger (ported)', 'Velocity - stream', \n",
    "            'Biochemical oxygen demand, standard conditions', 'Total Coliform',\n",
    "            'Escherichia', 'p-Chlorophenyl phenyl ether', '4,6-Dinitro-o-cresol',\n",
    "            'Acenaphthylene', 'Butyl benzyl phthalate', '1,1,2-Trichloroethane',\n",
    "            'Bis(2-chloro-1-methylethyl) ether', \"3,3'-Dichlorobenzidine\",\n",
    "            'Dibutyl phthalate', 'Benzo[ghi]perylene', 'Nitrobenzene',\n",
    "            'Di(2-ethylhexyl) phthalate', 'm-Dichlorobenzene',\n",
    "            'Benz[a]anthracene', 'Ethylene dibromide', 'p-Dichlorobenzene',\n",
    "       'tert-Butylbenzene', 'Benzene', 'N-Nitrosodimethylamine', 'Cymene',\n",
    "       'Methylene chloride', 'meta & para Xylene mix', 'sec-Butylbenzene',\n",
    "       'Carbon tetrachloride', 'Acenaphthene', '1,1-Dichloropropene',\n",
    "       '2,4-Dinitrophenol', 'Chlorodibromomethane', 'C1-C4 Fluoranthenes',\n",
    "       'o-Chlorotoluene', 'm-Nitroaniline', 'Isophorone', 'Cumene',\n",
    "       'n-Butylbenzene', 'Dibenzofuran',\n",
    "       '1,1,1,2-Tetrachloroethane', 'trans-1,2-Dichloroethylene',\n",
    "       'Dichlorobromomethane', '2,4,6-Trichlorophenol', 'Vinyl chloride',\n",
    "       '1,2-Dichloroethane', 'Bis(2-chloroethoxy)methane',\n",
    "       '1,1-Dichloroethylene', 'o-Cresol',\n",
    "       'trans-1,3-Dichloropropene', '1,2,4-Trichlorobenzene',\n",
    "       '2,2-Dichloropropane', 'p-Bromophenyl phenyl ether',\n",
    "       'cis-1,3-Dichloropropene', 'p-Chlorotoluene',\n",
    "       'Dibenz[a,h]anthracene', 'Benzo[k]fluoranthene',\n",
    "       'C1-C4 Phenanthrenes', '1,2,3-Trichlorobenzene', 'Dibromomethane',\n",
    "       'Bis(2-chloroethyl) ether', 'o-Xylene', 'N-Nitrosodiphenylamine',\n",
    "       'p-Chloroaniline', 'Chloroethane', '2,4-Dinitrotoluene',\n",
    "       'cis-1,2-Dichloroethylene', 'Hexachlorobenzene', 'o-Nitroaniline',\n",
    "       '1,2,3-Trichloropropane', 'Trichloroethylene', '2,4-Dichlorophenol',\n",
    "       '2,6-Dinitrotoluene', 'Benzyl alcohol', 'Chlorobenzene',\n",
    "       'Ethylbenzene', 'C1-C3 Fluorenes', 'Diethyl phthalate', 'Pyrene',\n",
    "       'o-Dichlorobenzene', 'Benzoic acid', 'Indeno[1,2,3-cd]pyrene',\n",
    "       '2,4-Dimethylphenol', '1,3-Dichloropropane', 'p-Chloro-m-cresol',\n",
    "       'Tetrachloroethylene', 'Naphthalene', 'Toluene',\n",
    "       'Di-n-octyl phthalate', 'Methyl tert-butyl ether',\n",
    "       'n-Propylbenzene', 'Anthracene', 'Benzidine', '2-Methylnaphthalene',\n",
    "       'Pentachlorophenol', 'Chloromethane',\n",
    "       'Benzo(b)fluoranthene', 'Hexachloroethane',\n",
    "       '1,3,5-Trimethylbenzene', 'Tribromomethane',\n",
    "       'Hexachlorocyclopentadiene', 'Azobenzene', 'Hexachlorobutadiene',\n",
    "       'Benzo[a]pyrene', 'Halon 1011', 'Bromobenzene',\n",
    "       '2,4,5-Trichlorophenol', 'Aniline', 'Styrene',\n",
    "       '1,1,2,2-Tetrachloroethane', '2-Chloronaphthalene',\n",
    "       'o-Chlorophenol', 'p-Nitroaniline', 'N-Nitrosodi-n-propylamine',\n",
    "       'p-Nitrophenol', 'Phenol', 'Chloroform', 'Carbazole',\n",
    "       '1,2,4-Trimethylbenzene', 'Dimethyl phthalate',\n",
    "       '1,2-Dichloropropane', '1,1-Dichloroethane', 'o-Nitrophenol',\n",
    "       'C1-C4 Chrysenes', 'Cresol', 'Methyl bromide',\n",
    "       '1,2-Dibromo-3-chloropropane', '1,1,1-Trichloroethane',\n",
    "       'Chemical oxygen demand', 'Perchlorate', 'Fecal Coliform',\n",
    "       'Gasoline range organics', 'Hydrocarbons, petroleum',\n",
    "       'Diesel range organics',\n",
    "       'Chlorophyll a, uncorrected for pheophytin',\n",
    "       'Depth, Secchi disk depth', 'Total volatile solids',\n",
    "       'Oil and Grease', 'Ethylene glycol', 'Propylene glycol allyl ether',\n",
    "       'Biomass, periphyton', 'Chlorophyll a',\n",
    "       'Carbonaceous biochemical oxygen demand, standard conditions',\n",
    "       'Dibromodichloromethane',\n",
    "       'o-Xylene, mixt. with m-xylene and p-xylene', 'p-Cymene',\n",
    "       'Bis(2-chloroisopropyl) ether', 'Chrysene', 'Fluoranthene',\n",
    "       'Phenanthrene', 'Pheophytin a',\n",
    "       'Chlorophyll a, corrected for pheophytin']"
   ]
  },
  {
   "cell_type": "code",
   "execution_count": 269,
   "metadata": {
    "ExecuteTime": {
     "end_time": "2017-12-13T23:13:11.114682Z",
     "start_time": "2017-12-13T23:13:11.094040Z"
    },
    "collapsed": true
   },
   "outputs": [],
   "source": [
    "awqms = awqms[~awqms['Param'].isin(droplist)]"
   ]
  },
  {
   "cell_type": "code",
   "execution_count": 270,
   "metadata": {
    "ExecuteTime": {
     "end_time": "2017-12-13T23:13:13.522564Z",
     "start_time": "2017-12-13T23:13:13.516047Z"
    }
   },
   "outputs": [
    {
     "data": {
      "text/plain": [
       "array(['Dissolved oxygen (DO)', 'Temperature, water', 'Flow',\n",
       "       'Specific conductance', 'pH', 'Kjeldahl nitrogen',\n",
       "       'Fecal Streptococcus Group Bacteria', 'Nitrite',\n",
       "       'Total dissolved solids', 'Ammonia-nitrogen', 'Orthophosphate',\n",
       "       'Nitrate', 'Phosphate-phosphorus', 'Total suspended solids',\n",
       "       'Copper', 'Iron', 'Zinc', 'Manganese', 'Lead',\n",
       "       'Dissolved oxygen saturation', 'Bicarbonate', 'Carbon dioxide',\n",
       "       'Carbonate', 'Inorganic nitrogen (nitrate and nitrite)', 'Sulfate',\n",
       "       'Alkalinity, total', 'Nitrogen', 'Chloride', 'Aluminum', 'Arsenic',\n",
       "       'Barium', 'Boron', 'Cadmium', 'Calcium', 'Chromium',\n",
       "       'Hardness, Ca, Mg', 'Magnesium', 'Nickel', 'Potassium', 'Selenium',\n",
       "       'Silver', 'Sodium', 'Mercury', 'Hydroxide', 'Turbidity',\n",
       "       'Calcium carbonate', 'Organic carbon', 'Sum of anions',\n",
       "       'Sum of cations', 'Salinity', 'Depth', 'Silica',\n",
       "       'Settleable solids', 'Temperature, air', 'Specific gravity', 'MBAS',\n",
       "       'Fluoride', 'Chromium(VI)', 'Parathion', 'Hydrocarbons',\n",
       "       'Organic Nitrogen', 'Escherichia coli', 'Hardness, carbonate'], dtype=object)"
      ]
     },
     "execution_count": 270,
     "metadata": {},
     "output_type": "execute_result"
    }
   ],
   "source": [
    "awqms.Param.unique()"
   ]
  },
  {
   "cell_type": "code",
   "execution_count": 271,
   "metadata": {
    "ExecuteTime": {
     "end_time": "2017-12-13T23:13:15.971619Z",
     "start_time": "2017-12-13T23:13:15.966099Z"
    },
    "collapsed": true
   },
   "outputs": [],
   "source": [
    "awqms = awqms[awqms['StationType'].isin(['Well', 'Spring'])]"
   ]
  },
  {
   "cell_type": "code",
   "execution_count": 272,
   "metadata": {
    "ExecuteTime": {
     "end_time": "2017-12-13T23:13:18.375040Z",
     "start_time": "2017-12-13T23:13:18.359499Z"
    },
    "collapsed": true
   },
   "outputs": [],
   "source": [
    "matchdict = {'Specific conductance':'Cond', 'Calcium':'Ca', 'Bicarbonate':'HCO3',\n",
    "             'pH':'pH', 'Total suspended solids':'TSS', 'Sulfate':'SO4', 'Turbidity':'Turb',\n",
    "             'Inorganic nitrogen (nitrate and nitrite)':'NO3+NO2-N', 'Carbonate':'CO3', 'Ammonium':'NH4',\n",
    "             'Phosphate':'PO4', 'Chloride':'Cl', 'Carbon dioxide':'CO2', 'Magnesium':'Mg', 'Potassium':'K',\n",
    "             'Sodium':'Na', 'Total dissolved solids':'TDS','Dissolved oxygen (DO)':'DO', 'Flow':'Q', \n",
    "             'Temperature, water':'Temp','Calcium carbonate':'CaCO3', 'Alkalinity, total':'Alk',\n",
    "             'Nitrogen':'N', 'Nitrate':'NO3', 'Orthophosphate':'PO4', 'Nitrite':'NO2',\n",
    "             'Fluoride':'F', 'Silica':'Si', 'Ammonia':'NH4','Sodium plus potassium':'NaK',\n",
    "            'Arsenic':'As','Selenium':'Se','Barium':'Ba','Copper':'Cu','Zinc':'Zn','Boron':'B'}\n",
    "awqms['ParAbb'] = awqms['Param'].apply(lambda x: matchdict.get(x),1)\n",
    "awqms.drop_duplicates(subset=['SampleId','ParAbb'],inplace=True)"
   ]
  },
  {
   "cell_type": "code",
   "execution_count": 273,
   "metadata": {
    "ExecuteTime": {
     "end_time": "2017-12-13T23:13:20.743532Z",
     "start_time": "2017-12-13T23:13:20.739521Z"
    },
    "collapsed": true
   },
   "outputs": [],
   "source": [
    "awqms['data_source'] = 'awqms'"
   ]
  },
  {
   "cell_type": "code",
   "execution_count": 274,
   "metadata": {
    "ExecuteTime": {
     "end_time": "2017-12-13T23:13:23.119258Z",
     "start_time": "2017-12-13T23:13:23.110241Z"
    },
    "collapsed": true
   },
   "outputs": [],
   "source": [
    "astatcols = [\"OrgName\", \"StationId\", \"StationName\", \"StationType\", \"StateCode\", \"Lat_Y\", \"Lon_X\"]\n",
    "awqms_stations = awqms[astatcols]\n",
    "awqms_stations.drop_duplicates(inplace=True)\n",
    "awqms_stations['data_source'] = 'awqms'"
   ]
  },
  {
   "cell_type": "code",
   "execution_count": 275,
   "metadata": {
    "ExecuteTime": {
     "end_time": "2017-12-13T23:13:26.622246Z",
     "start_time": "2017-12-13T23:13:25.472041Z"
    },
    "collapsed": true
   },
   "outputs": [],
   "source": [
    "awqms_stations['HUC12'] = awqms_stations[['Lon_X','Lat_Y']].apply(lambda x: wa.get_huc(x)[0],1)\n"
   ]
  },
  {
   "cell_type": "code",
   "execution_count": 276,
   "metadata": {
    "ExecuteTime": {
     "end_time": "2017-12-13T23:13:28.979375Z",
     "start_time": "2017-12-13T23:13:28.974864Z"
    },
    "collapsed": true
   },
   "outputs": [],
   "source": [
    "awqms_stations['HUC10'] = awqms_stations['HUC12'].apply(lambda x: int(x[0:-2]),1)"
   ]
  },
  {
   "cell_type": "code",
   "execution_count": 277,
   "metadata": {
    "ExecuteTime": {
     "end_time": "2017-12-13T23:13:31.391095Z",
     "start_time": "2017-12-13T23:13:31.326604Z"
    },
    "collapsed": true
   },
   "outputs": [],
   "source": [
    "awqms.to_pickle(saveplace + 'Processed_Data/awqms_results.pickle')\n",
    "awqms_stations.to_pickle(saveplace + 'Processed_Data/awqms_stations.pickle')\n",
    "#piv_awqms_merge.to_pickle(saveplace+'Processed_Data/awqms_piv.pickle')"
   ]
  },
  {
   "cell_type": "markdown",
   "metadata": {},
   "source": [
    "# Transcribed Data"
   ]
  },
  {
   "cell_type": "code",
   "execution_count": 377,
   "metadata": {
    "ExecuteTime": {
     "end_time": "2017-12-14T21:25:11.799915Z",
     "start_time": "2017-12-14T21:25:11.796907Z"
    },
    "collapsed": true
   },
   "outputs": [],
   "source": [
    "xlfile = saveplace + \"Transcribed_Data.xlsx\""
   ]
  },
  {
   "cell_type": "code",
   "execution_count": 378,
   "metadata": {
    "ExecuteTime": {
     "end_time": "2017-12-14T21:25:15.020462Z",
     "start_time": "2017-12-14T21:25:14.675555Z"
    }
   },
   "outputs": [
    {
     "name": "stdout",
     "output_type": "stream",
     "text": [
      "['Mayo_and_Klauk', 'SS126_Stations', 'SS126_Results', 'Sheet7', 'SS135_Results', 'SS135_Stations', 'WRI97_Results', 'WRI97_Stations', 'TechPub26_Results', 'TechPub26_Stations', 'TechPub38_Results', 'TechPub38_Stations', 'TechPub33_Results', 'TechPub33_Stations', 'Cole_Stations', 'Cole_Chem']\n"
     ]
    }
   ],
   "source": [
    "xl = pd.ExcelFile(xlfile)\n",
    "\n",
    "print(xl.sheet_names)"
   ]
  },
  {
   "cell_type": "markdown",
   "metadata": {},
   "source": [
    "## Tech Pub 38"
   ]
  },
  {
   "cell_type": "code",
   "execution_count": 379,
   "metadata": {
    "ExecuteTime": {
     "end_time": "2017-12-14T21:25:17.790814Z",
     "start_time": "2017-12-14T21:25:17.773769Z"
    },
    "collapsed": true
   },
   "outputs": [],
   "source": [
    "TP38_Stations = xl.parse('TechPub38_Stations')\n",
    "TP38_Results = xl.parse('TechPub38_Results')"
   ]
  },
  {
   "cell_type": "code",
   "execution_count": 380,
   "metadata": {
    "ExecuteTime": {
     "end_time": "2017-12-14T21:25:20.615321Z",
     "start_time": "2017-12-14T21:25:20.609301Z"
    }
   },
   "outputs": [
    {
     "data": {
      "text/plain": [
       "Index(['StationName', 'StationId', 'Name', 'Altitude', 'Aquifer', 'Q_gpm',\n",
       "       'Q_code', 'MeasMon', 'MeasYr', 'Temp', 'StationType', 'YrDrilled',\n",
       "       'Depth', 'Diam', 'DTW', 'Easting', 'Northing', 'Lat_Y', 'Lon_X', 'Elev',\n",
       "       'ElevUnit', 'HUC12', 'HUC10'],\n",
       "      dtype='object')"
      ]
     },
     "execution_count": 380,
     "metadata": {},
     "output_type": "execute_result"
    }
   ],
   "source": [
    "TP38_Stations.columns"
   ]
  },
  {
   "cell_type": "code",
   "execution_count": 381,
   "metadata": {
    "ExecuteTime": {
     "end_time": "2017-12-14T21:26:59.812668Z",
     "start_time": "2017-12-14T21:25:23.565137Z"
    },
    "collapsed": true
   },
   "outputs": [],
   "source": [
    "TP38_Stations['HUC12'] = TP38_Stations[['Lon_X','Lat_Y']].apply(lambda x: wa.get_huc(x)[0],1)\n",
    "TP38_Stations['HUC10'] = TP38_Stations['HUC12'].apply(lambda x: int(x[0:-2]),1)"
   ]
  },
  {
   "cell_type": "code",
   "execution_count": 382,
   "metadata": {
    "ExecuteTime": {
     "end_time": "2017-12-14T21:27:02.514619Z",
     "start_time": "2017-12-14T21:27:02.510610Z"
    },
    "collapsed": true
   },
   "outputs": [],
   "source": [
    "TP38_Stations['data_source'] = 'DNR Tech Pub 38'"
   ]
  },
  {
   "cell_type": "code",
   "execution_count": 383,
   "metadata": {
    "ExecuteTime": {
     "end_time": "2017-12-14T21:27:05.214784Z",
     "start_time": "2017-12-14T21:27:05.210775Z"
    },
    "collapsed": true
   },
   "outputs": [],
   "source": [
    "TP38_Stations['OrgId'] = 'UTGS'\n",
    "TP38_Stations['OrgName'] = 'Utah Geological Survey'\n",
    "TP38_Stations['DepthUnit'] = 'ft'"
   ]
  },
  {
   "cell_type": "code",
   "execution_count": 384,
   "metadata": {
    "ExecuteTime": {
     "end_time": "2017-12-14T21:27:07.925978Z",
     "start_time": "2017-12-14T21:27:07.920966Z"
    },
    "collapsed": true
   },
   "outputs": [],
   "source": [
    "TP38_Stations.rename(columns={'YrDrilled':'ConstDate'},inplace=True)"
   ]
  },
  {
   "cell_type": "code",
   "execution_count": 385,
   "metadata": {
    "ExecuteTime": {
     "end_time": "2017-12-14T21:27:10.609100Z",
     "start_time": "2017-12-14T21:27:10.604087Z"
    }
   },
   "outputs": [
    {
     "data": {
      "text/plain": [
       "Index(['StationName', 'StationId', 'Name', 'Altitude', 'Aquifer', 'Q_gpm',\n",
       "       'Q_code', 'MeasMon', 'MeasYr', 'Temp', 'StationType', 'ConstDate',\n",
       "       'Depth', 'Diam', 'DTW', 'Easting', 'Northing', 'Lat_Y', 'Lon_X', 'Elev',\n",
       "       'ElevUnit', 'HUC12', 'HUC10', 'data_source', 'OrgId', 'OrgName',\n",
       "       'DepthUnit'],\n",
       "      dtype='object')"
      ]
     },
     "execution_count": 385,
     "metadata": {},
     "output_type": "execute_result"
    }
   ],
   "source": [
    "TP38_Stations.columns"
   ]
  },
  {
   "cell_type": "code",
   "execution_count": 386,
   "metadata": {
    "ExecuteTime": {
     "end_time": "2017-12-14T21:27:13.346362Z",
     "start_time": "2017-12-14T21:27:13.342355Z"
    },
    "collapsed": true
   },
   "outputs": [],
   "source": [
    "TP38_Stations.drop(['Q_gpm','MeasMon','MeasYr','Q_code','Temp','Altitude'],axis=1,inplace=True)"
   ]
  },
  {
   "cell_type": "markdown",
   "metadata": {},
   "source": [
    "## Tech Pub 26"
   ]
  },
  {
   "cell_type": "code",
   "execution_count": 387,
   "metadata": {
    "ExecuteTime": {
     "end_time": "2017-12-14T21:27:16.071595Z",
     "start_time": "2017-12-14T21:27:16.062592Z"
    },
    "collapsed": true
   },
   "outputs": [],
   "source": [
    "TP26_Stations = xl.parse('TechPub26_Stations')\n",
    "TP26_Results = xl.parse('TechPub26_Results')"
   ]
  },
  {
   "cell_type": "code",
   "execution_count": 388,
   "metadata": {
    "ExecuteTime": {
     "end_time": "2017-12-14T21:27:23.137188Z",
     "start_time": "2017-12-14T21:27:18.766747Z"
    },
    "collapsed": true
   },
   "outputs": [],
   "source": [
    "TP26_Stations['HUC12'] = TP26_Stations[['Lon_X','Lat_Y']].apply(lambda x: wa.get_huc(x)[0],1)\n",
    "TP26_Stations['HUC10'] = TP26_Stations['HUC12'].apply(lambda x: int(x[0:-2]),1)"
   ]
  },
  {
   "cell_type": "code",
   "execution_count": 389,
   "metadata": {
    "ExecuteTime": {
     "end_time": "2017-12-14T21:27:25.837353Z",
     "start_time": "2017-12-14T21:27:25.832340Z"
    },
    "collapsed": true
   },
   "outputs": [],
   "source": [
    "TP26_Stations['data_source'] = 'DNR Tech Pub 26'"
   ]
  },
  {
   "cell_type": "code",
   "execution_count": 390,
   "metadata": {
    "ExecuteTime": {
     "end_time": "2017-12-14T21:27:28.572493Z",
     "start_time": "2017-12-14T21:27:28.567479Z"
    },
    "collapsed": true
   },
   "outputs": [],
   "source": [
    "TP26_Stations['OrgId'] = 'UTGS'\n",
    "TP26_Stations['OrgName'] = 'Utah Geological Survey'\n",
    "TP26_Stations['DepthUnit'] = 'ft'"
   ]
  },
  {
   "cell_type": "code",
   "execution_count": 391,
   "metadata": {
    "ExecuteTime": {
     "end_time": "2017-12-14T21:27:31.308728Z",
     "start_time": "2017-12-14T21:27:31.303717Z"
    },
    "collapsed": true
   },
   "outputs": [],
   "source": [
    "TP26_Stations.rename(columns={'drill_date':'ConstDate','well_depth':'Depth','diam':'Diam'},inplace=True)"
   ]
  },
  {
   "cell_type": "code",
   "execution_count": 392,
   "metadata": {
    "ExecuteTime": {
     "end_time": "2017-12-14T21:27:34.041983Z",
     "start_time": "2017-12-14T21:27:34.037972Z"
    },
    "collapsed": true
   },
   "outputs": [],
   "source": [
    "TP26_Stations.drop(['Owner', 'app_num','deph_to_top'], axis=1, inplace=True)"
   ]
  },
  {
   "cell_type": "markdown",
   "metadata": {},
   "source": [
    "## Tech Pub 33"
   ]
  },
  {
   "cell_type": "code",
   "execution_count": 393,
   "metadata": {
    "ExecuteTime": {
     "end_time": "2017-12-14T21:27:36.752173Z",
     "start_time": "2017-12-14T21:27:36.744153Z"
    },
    "collapsed": true
   },
   "outputs": [],
   "source": [
    "TP33_Stations = xl.parse('TechPub33_Stations')\n",
    "TP33_Results = xl.parse('TechPub33_Results')"
   ]
  },
  {
   "cell_type": "markdown",
   "metadata": {},
   "source": [
    "## Mayo"
   ]
  },
  {
   "cell_type": "code",
   "execution_count": 394,
   "metadata": {
    "ExecuteTime": {
     "end_time": "2017-12-14T21:27:39.494450Z",
     "start_time": "2017-12-14T21:27:39.488435Z"
    },
    "collapsed": true
   },
   "outputs": [],
   "source": [
    "Mayo = xl.parse('Mayo_and_Klauk')"
   ]
  },
  {
   "cell_type": "code",
   "execution_count": 395,
   "metadata": {
    "ExecuteTime": {
     "end_time": "2017-12-14T21:27:42.198628Z",
     "start_time": "2017-12-14T21:27:42.193622Z"
    }
   },
   "outputs": [
    {
     "data": {
      "text/plain": [
       "Index(['Sample', 'Location', 'Easting', 'Northing', 'Ca', 'Mg', 'Na', 'K',\n",
       "       'HCO3', 'SO4', 'Cl', 'SiO2', '18O', '2H'],\n",
       "      dtype='object')"
      ]
     },
     "execution_count": 395,
     "metadata": {},
     "output_type": "execute_result"
    }
   ],
   "source": [
    "Mayo.columns"
   ]
  },
  {
   "cell_type": "code",
   "execution_count": 396,
   "metadata": {
    "ExecuteTime": {
     "end_time": "2017-12-14T21:27:44.915839Z",
     "start_time": "2017-12-14T21:27:44.911834Z"
    },
    "collapsed": true
   },
   "outputs": [],
   "source": [
    "Mayo['StationId'] = Mayo['Sample'].apply(lambda x: 'Mayo_'+str(x),1)"
   ]
  },
  {
   "cell_type": "code",
   "execution_count": 397,
   "metadata": {
    "ExecuteTime": {
     "end_time": "2017-12-14T21:27:47.593945Z",
     "start_time": "2017-12-14T21:27:47.571887Z"
    }
   },
   "outputs": [
    {
     "data": {
      "text/html": [
       "<div>\n",
       "<style>\n",
       "    .dataframe thead tr:only-child th {\n",
       "        text-align: right;\n",
       "    }\n",
       "\n",
       "    .dataframe thead th {\n",
       "        text-align: left;\n",
       "    }\n",
       "\n",
       "    .dataframe tbody tr th {\n",
       "        vertical-align: top;\n",
       "    }\n",
       "</style>\n",
       "<table border=\"1\" class=\"dataframe\">\n",
       "  <thead>\n",
       "    <tr style=\"text-align: right;\">\n",
       "      <th></th>\n",
       "      <th>Sample</th>\n",
       "      <th>Location</th>\n",
       "      <th>Easting</th>\n",
       "      <th>Northing</th>\n",
       "      <th>Ca</th>\n",
       "      <th>Mg</th>\n",
       "      <th>Na</th>\n",
       "      <th>K</th>\n",
       "      <th>HCO3</th>\n",
       "      <th>SO4</th>\n",
       "      <th>Cl</th>\n",
       "      <th>SiO2</th>\n",
       "      <th>18O</th>\n",
       "      <th>2H</th>\n",
       "      <th>StationId</th>\n",
       "    </tr>\n",
       "  </thead>\n",
       "  <tbody>\n",
       "    <tr>\n",
       "      <th>0</th>\n",
       "      <td>1</td>\n",
       "      <td>T3N R3W 21bba</td>\n",
       "      <td>399120.9972</td>\n",
       "      <td>4.537803e+06</td>\n",
       "      <td>33.0</td>\n",
       "      <td>11.7855</td>\n",
       "      <td>57.96</td>\n",
       "      <td>1.17</td>\n",
       "      <td>170.236872</td>\n",
       "      <td>44.16</td>\n",
       "      <td>47.790</td>\n",
       "      <td>10.0</td>\n",
       "      <td>NaN</td>\n",
       "      <td>NaN</td>\n",
       "      <td>Mayo_1</td>\n",
       "    </tr>\n",
       "    <tr>\n",
       "      <th>1</th>\n",
       "      <td>2</td>\n",
       "      <td>T3N R3W 33abb</td>\n",
       "      <td>399870.8279</td>\n",
       "      <td>4.534550e+06</td>\n",
       "      <td>36.0</td>\n",
       "      <td>12.0285</td>\n",
       "      <td>57.96</td>\n",
       "      <td>1.17</td>\n",
       "      <td>179.999560</td>\n",
       "      <td>39.84</td>\n",
       "      <td>42.834</td>\n",
       "      <td>12.0</td>\n",
       "      <td>NaN</td>\n",
       "      <td>NaN</td>\n",
       "      <td>Mayo_2</td>\n",
       "    </tr>\n",
       "    <tr>\n",
       "      <th>2</th>\n",
       "      <td>3</td>\n",
       "      <td>T3N R3W 32bcd</td>\n",
       "      <td>397620.3988</td>\n",
       "      <td>4.534089e+06</td>\n",
       "      <td>36.0</td>\n",
       "      <td>10.9350</td>\n",
       "      <td>59.11</td>\n",
       "      <td>1.17</td>\n",
       "      <td>145.830152</td>\n",
       "      <td>47.04</td>\n",
       "      <td>60.888</td>\n",
       "      <td>7.0</td>\n",
       "      <td>NaN</td>\n",
       "      <td>NaN</td>\n",
       "      <td>Mayo_3</td>\n",
       "    </tr>\n",
       "    <tr>\n",
       "      <th>3</th>\n",
       "      <td>4</td>\n",
       "      <td>T2N R3W 5bcd</td>\n",
       "      <td>397618.8113</td>\n",
       "      <td>4.532426e+06</td>\n",
       "      <td>26.0</td>\n",
       "      <td>8.9910</td>\n",
       "      <td>77.97</td>\n",
       "      <td>1.95</td>\n",
       "      <td>156.813176</td>\n",
       "      <td>57.12</td>\n",
       "      <td>53.454</td>\n",
       "      <td>9.0</td>\n",
       "      <td>-14.7</td>\n",
       "      <td>-115.3</td>\n",
       "      <td>Mayo_4</td>\n",
       "    </tr>\n",
       "    <tr>\n",
       "      <th>4</th>\n",
       "      <td>5</td>\n",
       "      <td>T2N R3W 5dcb</td>\n",
       "      <td>398211.4792</td>\n",
       "      <td>4.532265e+06</td>\n",
       "      <td>44.0</td>\n",
       "      <td>14.9445</td>\n",
       "      <td>120.06</td>\n",
       "      <td>1.95</td>\n",
       "      <td>201.965608</td>\n",
       "      <td>98.88</td>\n",
       "      <td>112.218</td>\n",
       "      <td>NaN</td>\n",
       "      <td>NaN</td>\n",
       "      <td>NaN</td>\n",
       "      <td>Mayo_5</td>\n",
       "    </tr>\n",
       "  </tbody>\n",
       "</table>\n",
       "</div>"
      ],
      "text/plain": [
       "   Sample       Location      Easting      Northing    Ca       Mg      Na  \\\n",
       "0       1  T3N R3W 21bba  399120.9972  4.537803e+06  33.0  11.7855   57.96   \n",
       "1       2  T3N R3W 33abb  399870.8279  4.534550e+06  36.0  12.0285   57.96   \n",
       "2       3  T3N R3W 32bcd  397620.3988  4.534089e+06  36.0  10.9350   59.11   \n",
       "3       4   T2N R3W 5bcd  397618.8113  4.532426e+06  26.0   8.9910   77.97   \n",
       "4       5   T2N R3W 5dcb  398211.4792  4.532265e+06  44.0  14.9445  120.06   \n",
       "\n",
       "      K        HCO3    SO4       Cl  SiO2   18O     2H StationId  \n",
       "0  1.17  170.236872  44.16   47.790  10.0   NaN    NaN    Mayo_1  \n",
       "1  1.17  179.999560  39.84   42.834  12.0   NaN    NaN    Mayo_2  \n",
       "2  1.17  145.830152  47.04   60.888   7.0   NaN    NaN    Mayo_3  \n",
       "3  1.95  156.813176  57.12   53.454   9.0 -14.7 -115.3    Mayo_4  \n",
       "4  1.95  201.965608  98.88  112.218   NaN   NaN    NaN    Mayo_5  "
      ]
     },
     "execution_count": 397,
     "metadata": {},
     "output_type": "execute_result"
    }
   ],
   "source": [
    "Mayo.head()"
   ]
  },
  {
   "cell_type": "code",
   "execution_count": 398,
   "metadata": {
    "ExecuteTime": {
     "end_time": "2017-12-14T21:27:50.306142Z",
     "start_time": "2017-12-14T21:27:50.294114Z"
    },
    "collapsed": true
   },
   "outputs": [],
   "source": [
    "p1 = Proj(init='epsg:32612')\n",
    "p2 = Proj(init='epsg:4326')\n",
    "p3 = Proj(init='epsg:26912')\n",
    "Mayo['Lon_X'] = Mayo[['Easting','Northing']].apply(lambda x: pyproj.transform(p1,p2,x[0],x[1])[0],1)\n",
    "Mayo['Lat_Y'] = Mayo[['Easting','Northing']].apply(lambda x: pyproj.transform(p1,p2,x[0],x[1])[1],1)\n",
    "# Read Processed Data"
   ]
  },
  {
   "cell_type": "code",
   "execution_count": 399,
   "metadata": {
    "ExecuteTime": {
     "end_time": "2017-12-14T21:27:58.716008Z",
     "start_time": "2017-12-14T21:27:52.985136Z"
    },
    "collapsed": true
   },
   "outputs": [],
   "source": [
    "Mayo['HUC12'] = Mayo[['Lon_X','Lat_Y']].apply(lambda x: wa.get_huc(x)[0],1)\n",
    "Mayo['HUC10'] = Mayo['HUC12'].apply(lambda x: int(x[0:-2]),1)\n"
   ]
  },
  {
   "cell_type": "code",
   "execution_count": 400,
   "metadata": {
    "ExecuteTime": {
     "end_time": "2017-12-14T21:28:01.430158Z",
     "start_time": "2017-12-14T21:28:01.426147Z"
    },
    "collapsed": true
   },
   "outputs": [],
   "source": [
    "Mayo['data_source'] = 'Mayo and Klauk'"
   ]
  },
  {
   "cell_type": "code",
   "execution_count": 401,
   "metadata": {
    "ExecuteTime": {
     "end_time": "2017-12-14T21:28:04.138344Z",
     "start_time": "2017-12-14T21:28:04.133331Z"
    },
    "collapsed": true
   },
   "outputs": [],
   "source": [
    "Mayo_Stations = Mayo[['Easting','Northing','StationId','data_source','Lon_X','Lat_Y','HUC12','HUC10']]\n"
   ]
  },
  {
   "cell_type": "markdown",
   "metadata": {},
   "source": [
    "## SS126"
   ]
  },
  {
   "cell_type": "code",
   "execution_count": 402,
   "metadata": {
    "ExecuteTime": {
     "end_time": "2017-12-14T21:28:06.824472Z",
     "start_time": "2017-12-14T21:28:06.815451Z"
    },
    "collapsed": true
   },
   "outputs": [],
   "source": [
    "SS126_Stations = xl.parse('SS126_Stations')"
   ]
  },
  {
   "cell_type": "code",
   "execution_count": 403,
   "metadata": {
    "ExecuteTime": {
     "end_time": "2017-12-14T21:28:09.513609Z",
     "start_time": "2017-12-14T21:28:09.497567Z"
    },
    "collapsed": true
   },
   "outputs": [],
   "source": [
    "SS126_Results = xl.parse('SS126_Results')"
   ]
  },
  {
   "cell_type": "code",
   "execution_count": 404,
   "metadata": {
    "ExecuteTime": {
     "end_time": "2017-12-14T21:28:12.190713Z",
     "start_time": "2017-12-14T21:28:12.186719Z"
    }
   },
   "outputs": [
    {
     "data": {
      "text/plain": [
       "Index(['Type', 'ID', 'Name', 'Location', 'Easting', 'Northing', 'Elevation',\n",
       "       'Depth_ft', 'Depth_to_bedrock_ft', 'StationId'],\n",
       "      dtype='object')"
      ]
     },
     "execution_count": 404,
     "metadata": {},
     "output_type": "execute_result"
    }
   ],
   "source": [
    "SS126_Stations.columns"
   ]
  },
  {
   "cell_type": "code",
   "execution_count": 405,
   "metadata": {
    "ExecuteTime": {
     "end_time": "2017-12-14T21:28:14.863959Z",
     "start_time": "2017-12-14T21:28:14.857951Z"
    }
   },
   "outputs": [
    {
     "data": {
      "text/plain": [
       "Index(['UDAF_Samp_No', 'ID', 'StationId', 'SampleDate', 'Easting', 'Northing',\n",
       "       'pH', 'Cond', 'TDS', 'Al', 'As', 'B', 'Ba', 'Be', 'Ca', 'Cd', 'Cl',\n",
       "       'Co', 'Cr', 'Cu', 'Fe', 'K', 'Li', 'Mg', 'Mn', 'Mo', 'Na', 'Ni',\n",
       "       'NO3-N', 'P', 'Pb', 'S', 'SO4', 'Se', 'Si', 'Sr', 'V', 'Zn', 'SAR',\n",
       "       'HCO3meq', 'HCO3', 'Temp', 'Meas_Hard_ggall', 'Hard', 'Coliform',\n",
       "       'Ecoli', 'CO2', 'Meas_Alk', 'DO', 'TSS', 'Turb', 'CO3sol', 'ID.1', '2H',\n",
       "       '18O', 'C14_PMC', 'C13', 'Tritium'],\n",
       "      dtype='object')"
      ]
     },
     "execution_count": 405,
     "metadata": {},
     "output_type": "execute_result"
    }
   ],
   "source": [
    "SS126_Results.columns"
   ]
  },
  {
   "cell_type": "code",
   "execution_count": 406,
   "metadata": {
    "ExecuteTime": {
     "end_time": "2017-12-14T21:28:17.577229Z",
     "start_time": "2017-12-14T21:28:17.540060Z"
    },
    "collapsed": true
   },
   "outputs": [],
   "source": [
    "SS126_Stations['Lon_X'] = SS126_Stations[['Easting','Northing']].apply(lambda x: pyproj.transform(p1,p2,x[0],x[1])[0],1)\n",
    "SS126_Stations['Lat_Y'] = SS126_Stations[['Easting','Northing']].apply(lambda x: pyproj.transform(p1,p2,x[0],x[1])[1],1)"
   ]
  },
  {
   "cell_type": "code",
   "execution_count": 407,
   "metadata": {
    "ExecuteTime": {
     "end_time": "2017-12-14T21:28:20.211175Z",
     "start_time": "2017-12-14T21:28:20.206137Z"
    },
    "collapsed": true
   },
   "outputs": [],
   "source": [
    "SS126_Stations.rename(columns={'Name':'StationName',\n",
    "                               'Depth_ft':'Depth', 'Elevation':'Elev',\n",
    "                              'Type':'StationType'},inplace=True)"
   ]
  },
  {
   "cell_type": "code",
   "execution_count": 408,
   "metadata": {
    "ExecuteTime": {
     "end_time": "2017-12-14T21:28:22.910338Z",
     "start_time": "2017-12-14T21:28:22.905298Z"
    },
    "collapsed": true
   },
   "outputs": [],
   "source": [
    "SS126_Stations['OrgId'] = 'UTGS'\n",
    "SS126_Stations['OrgName'] = 'Utah Geological Survey'\n",
    "SS126_Stations['DepthUnit'] = 'ft'"
   ]
  },
  {
   "cell_type": "code",
   "execution_count": 409,
   "metadata": {
    "ExecuteTime": {
     "end_time": "2017-12-14T21:28:25.647577Z",
     "start_time": "2017-12-14T21:28:25.644596Z"
    },
    "collapsed": true
   },
   "outputs": [],
   "source": [
    "SS126_Stations['data_source'] = 'UGS SS126'"
   ]
  },
  {
   "cell_type": "code",
   "execution_count": 410,
   "metadata": {
    "ExecuteTime": {
     "end_time": "2017-12-14T21:30:40.653706Z",
     "start_time": "2017-12-14T21:28:28.315657Z"
    },
    "collapsed": true
   },
   "outputs": [],
   "source": [
    "SS126_Stations['HUC12'] = SS126_Stations[['Lon_X','Lat_Y']].apply(lambda x: wa.get_huc(x)[0],1)\n",
    "SS126_Stations['HUC10'] = SS126_Stations['HUC12'].apply(lambda x: int(x[0:-2]),1)\n",
    "#SS126_Stations = SS126_Stations[SS126_Stations['HUC10'].isin(HUC10s)]\n",
    "#SS126_Results = SS126_Results[SS126_Results['StationId'].isin(SS126_Stations['StationId'].unique())]"
   ]
  },
  {
   "cell_type": "code",
   "execution_count": 411,
   "metadata": {
    "ExecuteTime": {
     "end_time": "2017-12-14T21:30:43.330717Z",
     "start_time": "2017-12-14T21:30:43.325702Z"
    }
   },
   "outputs": [
    {
     "data": {
      "text/plain": [
       "Index(['StationType', 'ID', 'StationName', 'Location', 'Easting', 'Northing',\n",
       "       'Elev', 'Depth', 'Depth_to_bedrock_ft', 'StationId', 'Lon_X', 'Lat_Y',\n",
       "       'OrgId', 'OrgName', 'DepthUnit', 'data_source', 'HUC12', 'HUC10'],\n",
       "      dtype='object')"
      ]
     },
     "execution_count": 411,
     "metadata": {},
     "output_type": "execute_result"
    }
   ],
   "source": [
    "SS126_Stations.columns"
   ]
  },
  {
   "cell_type": "markdown",
   "metadata": {},
   "source": [
    "## SS135"
   ]
  },
  {
   "cell_type": "code",
   "execution_count": null,
   "metadata": {
    "collapsed": true
   },
   "outputs": [],
   "source": []
  },
  {
   "cell_type": "code",
   "execution_count": 412,
   "metadata": {
    "ExecuteTime": {
     "end_time": "2017-12-14T21:30:46.010830Z",
     "start_time": "2017-12-14T21:30:45.998808Z"
    },
    "collapsed": true
   },
   "outputs": [],
   "source": [
    "SS135_Stations = xl.parse('SS135_Stations')\n",
    "SS135_Results = xl.parse('SS135_Results')"
   ]
  },
  {
   "cell_type": "code",
   "execution_count": 413,
   "metadata": {
    "ExecuteTime": {
     "end_time": "2017-12-14T21:30:48.709991Z",
     "start_time": "2017-12-14T21:30:48.704977Z"
    }
   },
   "outputs": [
    {
     "data": {
      "text/plain": [
       "Index(['WELL_ID', 'NORTHING', 'EASTING', 'Yr_drilled', 'OWNER', 'FACTYPETXT',\n",
       "       'SiteName', 'Data_Source', 'WIN', 'StationId'],\n",
       "      dtype='object')"
      ]
     },
     "execution_count": 413,
     "metadata": {},
     "output_type": "execute_result"
    }
   ],
   "source": [
    "SS135_Stations.columns"
   ]
  },
  {
   "cell_type": "code",
   "execution_count": 414,
   "metadata": {
    "ExecuteTime": {
     "end_time": "2017-12-14T21:30:51.421186Z",
     "start_time": "2017-12-14T21:30:51.416172Z"
    },
    "collapsed": true
   },
   "outputs": [],
   "source": [
    "SS135_Stations.rename(columns={'SiteName':'StationName','Data_Source':'data_source','FACTYPETXT':'StationType',\n",
    "                              'EASTING':'Easting','NORTHING':'Northing','Yr_drilled':'ConstDate'},inplace=True)"
   ]
  },
  {
   "cell_type": "code",
   "execution_count": 415,
   "metadata": {
    "ExecuteTime": {
     "end_time": "2017-12-14T21:30:54.123182Z",
     "start_time": "2017-12-14T21:30:54.112165Z"
    },
    "collapsed": true
   },
   "outputs": [],
   "source": [
    "SS135_Stations['Lon_X'] = SS135_Stations[['Easting','Northing']].apply(lambda x: pyproj.transform(p1,p2,x[0],x[1])[0],1)\n",
    "SS135_Stations['Lat_Y'] = SS135_Stations[['Easting','Northing']].apply(lambda x: pyproj.transform(p1,p2,x[0],x[1])[1],1)"
   ]
  },
  {
   "cell_type": "code",
   "execution_count": 416,
   "metadata": {
    "ExecuteTime": {
     "end_time": "2017-12-14T21:30:57.211378Z",
     "start_time": "2017-12-14T21:30:57.207367Z"
    },
    "collapsed": true
   },
   "outputs": [],
   "source": [
    "SS135_Stations['OrgId'] = 'UTGS'\n",
    "SS135_Stations['OrgName'] = 'Utah Geological Survey'\n",
    "SS135_Stations['data_source'] = 'UGS SS135'"
   ]
  },
  {
   "cell_type": "code",
   "execution_count": 417,
   "metadata": {
    "ExecuteTime": {
     "end_time": "2017-12-14T21:30:59.904523Z",
     "start_time": "2017-12-14T21:30:59.899511Z"
    }
   },
   "outputs": [
    {
     "data": {
      "text/plain": [
       "Index(['WELL_ID', 'Northing', 'Easting', 'ConstDate', 'OWNER', 'StationType',\n",
       "       'StationName', 'data_source', 'WIN', 'StationId', 'Lon_X', 'Lat_Y',\n",
       "       'OrgId', 'OrgName'],\n",
       "      dtype='object')"
      ]
     },
     "execution_count": 417,
     "metadata": {},
     "output_type": "execute_result"
    }
   ],
   "source": [
    "SS135_Stations.columns"
   ]
  },
  {
   "cell_type": "markdown",
   "metadata": {},
   "source": [
    "## WRI97"
   ]
  },
  {
   "cell_type": "code",
   "execution_count": 418,
   "metadata": {
    "ExecuteTime": {
     "end_time": "2017-12-14T21:31:02.642791Z",
     "start_time": "2017-12-14T21:31:02.635790Z"
    },
    "collapsed": true
   },
   "outputs": [],
   "source": [
    "WRI97_Stations =  xl.parse('WRI97_Stations')"
   ]
  },
  {
   "cell_type": "code",
   "execution_count": 419,
   "metadata": {
    "ExecuteTime": {
     "end_time": "2017-12-14T21:31:05.384573Z",
     "start_time": "2017-12-14T21:31:05.380565Z"
    },
    "collapsed": true
   },
   "outputs": [],
   "source": [
    "WRI97_Stations.rename(columns={'SiteName':'StationName','Data_Source':'data_source',\n",
    "                              'EASTING':'Easting','NORTHING':'Northing'},inplace=True)"
   ]
  },
  {
   "cell_type": "code",
   "execution_count": 420,
   "metadata": {
    "ExecuteTime": {
     "end_time": "2017-12-14T21:31:08.122842Z",
     "start_time": "2017-12-14T21:31:08.101785Z"
    },
    "collapsed": true
   },
   "outputs": [],
   "source": [
    "WRI97_Stations['Lon_X'] = WRI97_Stations[['Easting','Northing']].apply(lambda x: pyproj.transform(p1,p2,x[0],x[1])[0],1)\n",
    "WRI97_Stations['Lat_Y'] = WRI97_Stations[['Easting','Northing']].apply(lambda x: pyproj.transform(p1,p2,x[0],x[1])[1],1)"
   ]
  },
  {
   "cell_type": "code",
   "execution_count": 421,
   "metadata": {
    "ExecuteTime": {
     "end_time": "2017-12-14T21:31:10.838047Z",
     "start_time": "2017-12-14T21:31:10.833052Z"
    },
    "collapsed": true
   },
   "outputs": [],
   "source": [
    "WRI97_Stations['OrgId'] = 'USGS'\n",
    "WRI97_Stations['OrgName'] = 'United States Geological Survey'\n",
    "WRI97_Stations['data_source'] = 'WRI 97'"
   ]
  },
  {
   "cell_type": "code",
   "execution_count": 422,
   "metadata": {
    "ExecuteTime": {
     "end_time": "2017-12-14T21:31:13.578412Z",
     "start_time": "2017-12-14T21:31:13.574386Z"
    }
   },
   "outputs": [
    {
     "data": {
      "text/plain": [
       "Index(['System', 'StationType', 'StationId', 'LABEL', 'USGSCAD', 'StationName',\n",
       "       'Easting', 'Northing', 'Latitude', 'Longitude', 'Lon_X', 'Lat_Y',\n",
       "       'OrgId', 'OrgName', 'data_source'],\n",
       "      dtype='object')"
      ]
     },
     "execution_count": 422,
     "metadata": {},
     "output_type": "execute_result"
    }
   ],
   "source": [
    "WRI97_Stations.columns"
   ]
  },
  {
   "cell_type": "code",
   "execution_count": 423,
   "metadata": {
    "ExecuteTime": {
     "end_time": "2017-12-14T21:31:16.341729Z",
     "start_time": "2017-12-14T21:31:16.316664Z"
    },
    "collapsed": true
   },
   "outputs": [],
   "source": [
    "WRI97_Results = xl.parse('WRI97_Results')"
   ]
  },
  {
   "cell_type": "markdown",
   "metadata": {
    "collapsed": true
   },
   "source": [
    "## Cole"
   ]
  },
  {
   "cell_type": "code",
   "execution_count": 424,
   "metadata": {
    "ExecuteTime": {
     "end_time": "2017-12-14T21:31:19.061572Z",
     "start_time": "2017-12-14T21:31:19.054552Z"
    },
    "collapsed": true
   },
   "outputs": [],
   "source": [
    "Cole_Stations = xl.parse('Cole_Stations')"
   ]
  },
  {
   "cell_type": "code",
   "execution_count": 425,
   "metadata": {
    "ExecuteTime": {
     "end_time": "2017-12-14T21:31:21.802846Z",
     "start_time": "2017-12-14T21:31:21.795827Z"
    },
    "collapsed": true
   },
   "outputs": [],
   "source": [
    "Cole_Chem = xl.parse('Cole_Chem')"
   ]
  },
  {
   "cell_type": "code",
   "execution_count": null,
   "metadata": {
    "collapsed": true
   },
   "outputs": [],
   "source": []
  },
  {
   "cell_type": "code",
   "execution_count": null,
   "metadata": {
    "collapsed": true
   },
   "outputs": [],
   "source": []
  },
  {
   "cell_type": "code",
   "execution_count": null,
   "metadata": {
    "collapsed": true
   },
   "outputs": [],
   "source": []
  },
  {
   "cell_type": "markdown",
   "metadata": {},
   "source": [
    "## Combine Transcribed Data"
   ]
  },
  {
   "cell_type": "code",
   "execution_count": 426,
   "metadata": {
    "ExecuteTime": {
     "end_time": "2017-12-14T21:31:24.529080Z",
     "start_time": "2017-12-14T21:31:24.522076Z"
    }
   },
   "outputs": [
    {
     "name": "stdout",
     "output_type": "stream",
     "text": [
      "Index(['StationName', 'StationId', 'Name', 'Aquifer', 'StationType',\n",
      "       'ConstDate', 'Depth', 'Diam', 'DTW', 'Easting', 'Northing', 'Lat_Y',\n",
      "       'Lon_X', 'Elev', 'ElevUnit', 'HUC12', 'HUC10', 'data_source', 'OrgId',\n",
      "       'OrgName', 'DepthUnit'],\n",
      "      dtype='object')\n",
      "Index(['StationName', 'StationId', 'ConstDate', 'Depth', 'Diam', 'wl_ft',\n",
      "       'wl_date', 'Lon_X', 'Lat_Y', 'HUC12', 'HUC10', 'data_source', 'OrgId',\n",
      "       'OrgName', 'DepthUnit'],\n",
      "      dtype='object')\n",
      "Index(['Easting', 'Northing', 'StationId', 'data_source', 'Lon_X', 'Lat_Y',\n",
      "       'HUC12', 'HUC10'],\n",
      "      dtype='object')\n",
      "Index(['System', 'StationType', 'StationId', 'LABEL', 'USGSCAD', 'StationName',\n",
      "       'Easting', 'Northing', 'Latitude', 'Longitude', 'Lon_X', 'Lat_Y',\n",
      "       'OrgId', 'OrgName', 'data_source'],\n",
      "      dtype='object')\n",
      "Index(['StationType', 'ID', 'StationName', 'Location', 'Easting', 'Northing',\n",
      "       'Elev', 'Depth', 'Depth_to_bedrock_ft', 'StationId', 'Lon_X', 'Lat_Y',\n",
      "       'OrgId', 'OrgName', 'DepthUnit', 'data_source', 'HUC12', 'HUC10'],\n",
      "      dtype='object')\n",
      "Index(['WELL_ID', 'Northing', 'Easting', 'ConstDate', 'OWNER', 'StationType',\n",
      "       'StationName', 'data_source', 'WIN', 'StationId', 'Lon_X', 'Lat_Y',\n",
      "       'OrgId', 'OrgName'],\n",
      "      dtype='object')\n",
      "Index(['StationName', 'StationType', 'data_source', 'samp_date', 'Lon_X',\n",
      "       'Lat_Y', 'StationId', 'SampleId'],\n",
      "      dtype='object')\n"
     ]
    }
   ],
   "source": [
    "stat_data_set = [TP38_Stations, TP26_Stations, Mayo_Stations, \n",
    "                 WRI97_Stations, SS126_Stations, SS135_Stations,\n",
    "                Cole_Stations]\n",
    "for stat in stat_data_set:\n",
    "    print(stat.columns)"
   ]
  },
  {
   "cell_type": "code",
   "execution_count": 427,
   "metadata": {
    "ExecuteTime": {
     "end_time": "2017-12-14T21:31:27.258353Z",
     "start_time": "2017-12-14T21:31:27.238269Z"
    },
    "collapsed": true
   },
   "outputs": [],
   "source": [
    "transcribed = pd.concat([TP38_Stations,TP26_Stations,Mayo_Stations, \n",
    "                         WRI97_Stations,SS126_Stations,SS135_Stations,\n",
    "                        Cole_Stations])"
   ]
  },
  {
   "cell_type": "code",
   "execution_count": 428,
   "metadata": {
    "ExecuteTime": {
     "end_time": "2017-12-14T21:31:30.010727Z",
     "start_time": "2017-12-14T21:31:29.966509Z"
    },
    "collapsed": true
   },
   "outputs": [],
   "source": [
    "transcribed.columns\n",
    "transcribed.to_pickle(saveplace + 'Processed_Data/Trans_stations.pickle')"
   ]
  },
  {
   "cell_type": "code",
   "execution_count": 429,
   "metadata": {
    "ExecuteTime": {
     "end_time": "2017-12-14T21:31:32.806715Z",
     "start_time": "2017-12-14T21:31:32.679802Z"
    },
    "collapsed": true
   },
   "outputs": [],
   "source": [
    "trans_chem = pd.concat([SS126_Results, SS135_Results,\n",
    "                        WRI97_Results, TP26_Results,\n",
    "                        TP38_Results, TP33_Results,\n",
    "                        Mayo, Cole_Chem])\n",
    "trans_chem.to_pickle(saveplace + 'Processed_Data/Trans_results.pickle')"
   ]
  },
  {
   "cell_type": "code",
   "execution_count": null,
   "metadata": {
    "collapsed": true
   },
   "outputs": [],
   "source": []
  },
  {
   "cell_type": "code",
   "execution_count": null,
   "metadata": {
    "collapsed": true
   },
   "outputs": [],
   "source": []
  },
  {
   "cell_type": "markdown",
   "metadata": {},
   "source": [
    "# Read Stored Data"
   ]
  },
  {
   "cell_type": "markdown",
   "metadata": {},
   "source": [
    "Skip to this if you are happy with the currently processed data."
   ]
  },
  {
   "cell_type": "code",
   "execution_count": 6,
   "metadata": {
    "ExecuteTime": {
     "end_time": "2017-12-14T21:31:37.651044Z",
     "start_time": "2017-12-14T21:31:35.510791Z"
    },
    "collapsed": true
   },
   "outputs": [],
   "source": [
    "wqp_results = pd.read_pickle(saveplace + 'Processed_Data/WQP_Results.pickle')\n",
    "wqp_stations = pd.read_pickle(saveplace + 'Processed_Data/WQP_Stations.pickle')\n",
    "awqm_results = pd.read_pickle(\n",
    "    saveplace + 'Processed_Data/awqms_results.pickle')\n",
    "awqm_stations = pd.read_pickle(\n",
    "    saveplace + 'Processed_Data/awqms_stations.pickle')\n",
    "sdwis_stations = pd.read_pickle(\n",
    "    saveplace + 'Processed_Data/sdwis_stations.pickle')\n",
    "sdwis_chemistry = pd.read_pickle(\n",
    "    saveplace + 'Processed_Data/sdwis_results.pickle')\n",
    "transcribed = pd.read_pickle(\n",
    "    saveplace + 'Processed_Data/Trans_stations.pickle')\n",
    "trans_chem = pd.read_pickle(saveplace + 'Processed_Data/Trans_results.pickle')"
   ]
  },
  {
   "cell_type": "markdown",
   "metadata": {
    "ExecuteTime": {
     "end_time": "2017-12-13T14:46:59.302239Z",
     "start_time": "2017-12-13T14:46:59.299211Z"
    }
   },
   "source": [
    "## Concatonate Chemistry Data"
   ]
  },
  {
   "cell_type": "code",
   "execution_count": 7,
   "metadata": {
    "ExecuteTime": {
     "end_time": "2017-12-14T21:32:21.003475Z",
     "start_time": "2017-12-14T21:32:20.346734Z"
    },
    "collapsed": true
   },
   "outputs": [],
   "source": [
    "chem = pd.concat([wqp_results,awqm_results,sdwis_chemistry])"
   ]
  },
  {
   "cell_type": "code",
   "execution_count": 8,
   "metadata": {
    "ExecuteTime": {
     "end_time": "2017-12-14T21:32:24.004441Z",
     "start_time": "2017-12-14T21:32:23.996425Z"
    }
   },
   "outputs": [
    {
     "data": {
      "text/plain": [
       "Index(['Activity Comment', 'Activity End Time', 'Activity End Time Zone',\n",
       "       'Activity Media', 'Activity Relative Depth', 'Activity Start Date',\n",
       "       'Activity Start Time Zone', 'Analysis Start Date', 'AnalysisDate',\n",
       "       'AnalytMeth', 'AnalytMethId', 'Analytical Method Context',\n",
       "       'Analytical Method Description', 'Analytical Method Qualifier',\n",
       "       'CAS_Reg', 'Chain of Custody ID', 'Data Logger Line', 'DetectCond',\n",
       "       'Detection Limit Type2', 'Detection Limit Unit2',\n",
       "       'Detection Limit Value2', 'Equipment ID', 'ID_NUM', 'Lab Batch ID',\n",
       "       'Lab Sample ID', 'Lab Sample Preparation Method Context1',\n",
       "       'Lab Sample Preparation Method ID1',\n",
       "       'Lab Sample Preparation Method Name1',\n",
       "       'Lab Sample Preparation Start Date1', 'LabComments', 'LabName',\n",
       "       'Laboratory Accreditation Indicator', 'Lat_Y', 'LimitType', 'Lon_X',\n",
       "       'MDL', 'MDLUnit', 'Method Speciation', 'MethodDescript', 'OrgId',\n",
       "       'OrgName', 'ParAbb', 'Param', 'Project ID1', 'Project ID2',\n",
       "       'Project ID3', 'ProjectId', 'QualCode', 'Result Comment',\n",
       "       'Result Depth/Height', 'Result Depth/Height Unit', 'Result Qualifier',\n",
       "       'Result UID', 'ResultComment', 'ResultStatus', 'ResultValue',\n",
       "       'SampComment', 'SampDepth', 'SampDepthRef', 'SampDepthU', 'SampEquip',\n",
       "       'SampFrac', 'SampMedia', 'SampMeth', 'SampMethName', 'SampType',\n",
       "       'Sample Collection Method Context', 'SampleDate', 'SampleId',\n",
       "       'SamplePointComment', 'SamplePointDesc', 'SampleTime', 'StateCode',\n",
       "       'StationId', 'StationName', 'StationType', 'Substance Dilution Factor1',\n",
       "       'Time Basis', 'USGSPCode', 'Unit', 'Value Type', 'data_source'],\n",
       "      dtype='object')"
      ]
     },
     "execution_count": 8,
     "metadata": {},
     "output_type": "execute_result"
    }
   ],
   "source": [
    "chem.columns"
   ]
  },
  {
   "cell_type": "code",
   "execution_count": 9,
   "metadata": {
    "ExecuteTime": {
     "end_time": "2017-12-14T21:32:34.191474Z",
     "start_time": "2017-12-14T21:32:27.114695Z"
    },
    "collapsed": true
   },
   "outputs": [],
   "source": [
    "ParAbb = {\"Alkalinity\": \"Alk\", \"Alkalinity, Carbonate as CaCO3\": \"Alk\", \"Alkalinity, total\": \"Alk\",\n",
    "          \"Arsenic\": \"As\", \"Calcium\": \"Ca\", \"Chloride\": \"Cl\", \"Carbon dioxide\": \"CO2\", \"Carbonate\": \"CO3\",\n",
    "          \"Carbonate (CO3)\": \"CO3\", \"Specific conductance\": \"Cond\", \"Conductivity\": \"Cond\", \"Copper\": \"Cu\",\n",
    "          \"Depth\": \"Depth\", \"Dissolved oxygen (DO)\": \"DO\", \"Iron\": \"Fe\",\n",
    "          \"Hardness, Ca, Mg\": \"Hard\", \"Total hardness -- SDWA NPDWR\": \"Hard\", \"Hydrogen Ion\":\"H_ion\",\n",
    "          \"Bicarbonate\": \"HCO3\", \"Potassium\": \"K\", \"Magnesium\": \"Mg\", \"Kjeldahl nitrogen\": \"N\",\n",
    "          \"Nitrogen, mixed forms (NH3), (NH4), organic, (NO2) and (NO3)\": \"N\", \"Nitrogen\": \"N\", \"Sodium\": \"Na\",\n",
    "          \"Sodium plus potassium\": \"NaK\", \"Ammonia-nitrogen\": \"NH3_N\", \"Ammonia-nitrogen as N\": \"N\",\n",
    "          \"Nitrite\": \"NO2\",\n",
    "          \"Nitrate\": \"NO3\", \"Nitrate as N\": \"N\", \"pH, lab\": \"pH\", \"pH\": \"pH\", \"Phosphate-phosphorus\": \"PO4\",\n",
    "          \"Orthophosphate\": \"PO4\", \"Phosphate\": \"PO4\", \"Stream flow, instantaneous\": \"Q\", \"Flow\": \"Q\",\n",
    "          \"Flow rate, instantaneous\": \"Q\", \"Silica\": \"Si\", \"Sulfate\": \"SO4\", \"Sulfate as SO4\": \"SO4\",\n",
    "          \"Boron\": \"B\", \"Barium\": \"Ba\", \"Bromine\": \"Br\", \"Lithium\": \"Li\", \"Manganese\": \"Mn\", \"Strontium\": \"Sr\",\n",
    "          \"Total dissolved solids\": \"TDS\", \"Temperature, water\": \"Temp\",\n",
    "          \"Total Organic Carbon\": \"TOC\", \"delta Dueterium\": \"d2H\", \"delta Oxygen 18\": \"d18O\",\n",
    "          \"delta Carbon 13 from Bicarbonate\": \"d13CHCO3\", \"delta Oxygen 18 from Bicarbonate\": \"d18OHCO3\",\n",
    "          \"Total suspended solids\": \"TSS\", \"Turbidity\": \"Turb\",\n",
    "          'Oxygen':'O', 'Salinity':'Salinity', 'Hardness, Non-Carbonate':'Hard_NonCO3', 'Fluoride':'F', \n",
    "          'Inorganic Nitrogen (Nitrate And Nitrite)':'N', 'Specific Gravity':\"Spec_Grav\", \n",
    "          'Bromide':'Br', 'Sodium Adsorption Ratio [(Na)/(Sq Root Of 1/2 Ca + Mg)]':'SAR', 'Selenium':'Se', \n",
    "          'Mercury':'Hg', 'Oxygen-18':'d18O', 'Zinc':'Zn', 'Deuterium':\"d2H\", 'Phosphorus':'Phosphorus', \n",
    "          'Chromium':'Cr', 'Nickel':'Ni', 'Depth To Water Level Below Land Surface':'DTW', \n",
    "          'Inorganic Nitrogen (Nitrate And Nitrite) As N':'N', 'Vanadium':'V', 'Cobalt':'Co', \n",
    "          'Lead':'Pb', 'Aluminum':'Al', 'Ammonium':'NH4', 'Cadmium':'Cd', 'Antimony':'Sb', 'Iodide':'I', 'Thallium':'Th', \n",
    "          'Argon':'Ar', 'Carbon, Isotope Of Mass 13':'C13', 'Beryllium':'Be', \n",
    "          'Sulfur-34/Sulfur-32 Ratio':'S34_S32', 'Silver':'Ag', 'Sulfide':'Sulfide', 'Neon':'Ne', \n",
    "          'Nitrogen-15/14 Ratio':'N15_N14', 'Helium-4':'He4', 'Krypton':'Kr', 'Helium':'He', 'Hydrogen':'H', \n",
    "          'Partial Pressure Of Dissolved Gases':'Part_P_Gasses'}\n",
    "\n",
    "def getpar(x):\n",
    "    if x[0] is None:\n",
    "        return ParAbb.get(x[1])\n",
    "    else:\n",
    "        return x[0]\n",
    "    \n",
    "chem['ParAbb'] = chem[['ParAbb','Param']].apply(lambda x: getpar(x),1)\n",
    "        "
   ]
  },
  {
   "cell_type": "code",
   "execution_count": 10,
   "metadata": {
    "ExecuteTime": {
     "end_time": "2017-12-14T21:32:42.295014Z",
     "start_time": "2017-12-14T21:32:36.995917Z"
    },
    "collapsed": true
   },
   "outputs": [],
   "source": [
    "chem.drop_duplicates(subset=['SampleId','StationId','ParAbb'],inplace=True)\n",
    "chem['stat_and_samp_Id'] = chem[['SampleId','StationId']].apply(lambda x: '{:} : {:}'.format(x[0],x[1]),1)\n",
    "chem_piv = chem.pivot(index='stat_and_samp_Id',columns='ParAbb',values='ResultValue')\n",
    "chem_piv['StationId'] = pd.Series({x: str(x).split(' : ')[0] for x in chem_piv.index})\n",
    "chem_piv['SampleId'] = pd.Series({x: str(x).split(' : ')[1] for x in chem_piv.index})\n",
    "chem_sub = chem[['stat_and_samp_Id','SampleDate']]\n",
    "chem_sub.set_index('stat_and_samp_Id',inplace=True)"
   ]
  },
  {
   "cell_type": "code",
   "execution_count": 11,
   "metadata": {
    "ExecuteTime": {
     "end_time": "2017-12-14T21:32:45.545607Z",
     "start_time": "2017-12-14T21:32:44.994146Z"
    },
    "collapsed": true,
    "scrolled": false
   },
   "outputs": [],
   "source": [
    "chem_piv1 = pd.merge(chem_piv,chem_sub,left_index=True,right_index=True,how='left')"
   ]
  },
  {
   "cell_type": "code",
   "execution_count": null,
   "metadata": {
    "collapsed": true
   },
   "outputs": [],
   "source": []
  },
  {
   "cell_type": "code",
   "execution_count": 12,
   "metadata": {
    "ExecuteTime": {
     "end_time": "2017-12-14T21:55:49.194293Z",
     "start_time": "2017-12-14T21:55:47.701333Z"
    },
    "collapsed": true
   },
   "outputs": [],
   "source": [
    "def fillNullLat(x):\n",
    "    if pd.notnull(x['Lat_Y']):\n",
    "        return x['Lat_Y']\n",
    "    elif pd.isnull(x['Lat_Y']) and pd.notnull(x['Latitude']):\n",
    "        return x['Latitude']\n",
    "    elif pd.notnull(x['Northing']):\n",
    "        return pyproj.transform(p1,p2,x['Easting'],x['Northing'])[1]\n",
    "    else:\n",
    "        return x['Lat_Y']\n",
    "\n",
    "def fillNullLon(x):\n",
    "    if pd.notnull(x['Lon_X']):\n",
    "        return x['Lon_X']\n",
    "    elif pd.isnull(x['Lon_X']) and pd.notnull(x['Longitude']):\n",
    "        return x['Longitude']\n",
    "    elif pd.notnull(x['Easting']):\n",
    "        return pyproj.transform(p1,p2,x['Easting'],x['Northing'])[1]\n",
    "    else:\n",
    "        return x['Lon_X']\n",
    "    \n",
    "    \n",
    "stations = pd.concat([transcribed,wqp_stations,awqm_stations,sdwis_stations],axis=0)#,verify_integrity=True)\n",
    "all_chem = pd.concat([trans_chem,chem_piv1], axis=0)\n",
    "stations['Lat_Y'] = stations.apply(lambda x: fillNullLat(x),1)\n",
    "stations['Lon_X'] = stations.apply(lambda x: fillNullLon(x),1)\n",
    "\n",
    "\n",
    "all_chem.drop(['Lat_Y','Lon_X','Northing','Easting','HUC10','HUC12','ID','SampleId',\n",
    "               'StationName','StationType','Location','data_source','Lab '],axis=1,inplace=True)\n",
    "\n",
    "stations.drop(['Latitude','Longitude'],axis=1,inplace=True)\n"
   ]
  },
  {
   "cell_type": "code",
   "execution_count": 13,
   "metadata": {
    "ExecuteTime": {
     "end_time": "2017-12-14T21:55:52.912126Z",
     "start_time": "2017-12-14T21:55:52.319558Z"
    },
    "collapsed": true
   },
   "outputs": [],
   "source": [
    "chem_stations = pd.merge(all_chem,stations,on='StationId',how='outer')"
   ]
  },
  {
   "cell_type": "code",
   "execution_count": 14,
   "metadata": {
    "ExecuteTime": {
     "end_time": "2017-12-14T21:55:56.015342Z",
     "start_time": "2017-12-14T21:55:55.999299Z"
    },
    "collapsed": true
   },
   "outputs": [],
   "source": [
    "chem_cols = ['18O','2H','Ag','Al','Alk','As','B','Ba',\n",
    "             'Be','Br','C13','C14','C14_PMC','C14err','CaCO3','CO2','CO3','CO3sol','Ca','Cd',\n",
    "             'Cl','Co','Coliform','Cond','Cr','Cu','D','DO','Derr','Ecoli','F',\n",
    "             'Fe','HCO3','HCO3meq','HP04','Hard','Hard_CaCO3','Hg','I',\n",
    "             'ID.1','K','Li','Meas_Alk','Meas_Hard_ggall','Mg','Mn','Mo',\n",
    "             'NO2','NO2+NO3-N','NO3','NO3-N','Na','NaK','Ni','NonCO3_hard',\n",
    "             'NonCaCO3_Hard','O18','O18err','P','PO4','Pb','S','SAR','SO4','Se','Si',\n",
    "             'SiO2','Sr','TDS','TDScalc','TSS','Temp','Trit','Trit_err','Tritium','Turb',\n",
    "             'V','Zn','density','hard','pH','temp','NH3_N','NO3+NO2-N','Q']"
   ]
  },
  {
   "cell_type": "code",
   "execution_count": 15,
   "metadata": {
    "ExecuteTime": {
     "end_time": "2017-12-14T22:05:35.116864Z",
     "start_time": "2017-12-14T21:55:59.199772Z"
    }
   },
   "outputs": [
    {
     "name": "stdout",
     "output_type": "stream",
     "text": [
      "CaCO3\n"
     ]
    }
   ],
   "source": [
    "for col in chem_cols:\n",
    "    if col in chem_stations.columns:\n",
    "        chem_stations[col].replace('[*]?',np.NaN)\n",
    "        chem_stations[col].replace('c',np.NaN)\n",
    "        for row in chem_stations.index:\n",
    "            if chem_stations.loc[row,col] == '-' or chem_stations.loc[row,col] == '- ' or chem_stations.loc[row,col] == ' - ' or chem_stations.loc[row,col] == '\\xa0-\\xa0':\n",
    "                chem_stations.loc[row,col] = np.NaN\n",
    "    else:\n",
    "        print(col)"
   ]
  },
  {
   "cell_type": "code",
   "execution_count": 16,
   "metadata": {
    "ExecuteTime": {
     "end_time": "2017-12-14T22:05:39.447196Z",
     "start_time": "2017-12-14T22:05:37.957150Z"
    },
    "collapsed": true
   },
   "outputs": [],
   "source": [
    "def convtime(x,fmt='%H:%M'):\n",
    "    try:\n",
    "        return pd.to_datetime(x,errors='coerce').strftime(fmt)\n",
    "    except:\n",
    "        return pd.NaT\n",
    "\n",
    "    \n",
    "    \n",
    "chem_stations['SampleTime'] = chem_stations['SampleDate'].apply(lambda x: convtime(x,fmt='%H:%M'),1)\n",
    "chem_stations['SampleDate'] = chem_stations['SampleDate'].apply(lambda x: convtime(x,fmt='%Y-%m-%d'),1)"
   ]
  },
  {
   "cell_type": "code",
   "execution_count": 17,
   "metadata": {
    "ExecuteTime": {
     "end_time": "2017-12-14T22:06:04.998770Z",
     "start_time": "2017-12-14T22:05:42.242663Z"
    },
    "collapsed": true
   },
   "outputs": [],
   "source": [
    "def newSampId(x):\n",
    "    if pd.notnull(x[0]):\n",
    "        return x[0]\n",
    "    else:\n",
    "        try:\n",
    "            return '{:}-{:%Y-%m-%d}'.format(x[1],\n",
    "                                            pd.to_datetime(\n",
    "                                                x[2], errors='coerce'))\n",
    "        except:\n",
    "            return '{:}-nodate'.format(x[1])\n",
    "\n",
    "\n",
    "chem_stations['SampleId'] = chem_stations[['SampleId', 'StationId', 'SampleDate']].apply(lambda x: newSampId(x), 1)"
   ]
  },
  {
   "cell_type": "code",
   "execution_count": 18,
   "metadata": {
    "ExecuteTime": {
     "end_time": "2017-12-14T22:09:06.292990Z",
     "start_time": "2017-12-14T22:09:04.685234Z"
    },
    "collapsed": true
   },
   "outputs": [],
   "source": [
    "chem_stations.drop_duplicates(inplace=True)\n",
    "chem_stations.dropna(subset=['Lat_Y','Lon_X'],axis=0,inplace=True)"
   ]
  },
  {
   "cell_type": "code",
   "execution_count": 20,
   "metadata": {
    "ExecuteTime": {
     "end_time": "2017-12-14T22:37:01.203969Z",
     "start_time": "2017-12-14T22:37:01.102707Z"
    },
    "collapsed": true
   },
   "outputs": [],
   "source": [
    "def check_nak(x):\n",
    "    if x[0] == 0 and x[2] > 0:\n",
    "        return x[2]\n",
    "    else:\n",
    "        return x[0] + x[1]\n",
    "    \n",
    "def convertIons(df):\n",
    "    \"\"\"Convert major ion concentrations from mg/L to meq\n",
    "    This function uses conversion factors to convert the concentrations of major ions from mg/L to meq.  It also\n",
    "    appends a field to the input database listing the Cation-Anion pair that have the highest meq concentrations.\n",
    "    :param df: DataFrame containing chemistry data; must have fields labeled as abbreviations of the major ions; Na, K,\n",
    "    NaK, Ca, Mg, Cl, HCO3, CO3, and SO4\n",
    "    :returns: appends convert fields onto DataFrame with the suffix `_meq` and adds the fields 'water type', 'CBE'\n",
    "    (charge balance), 'EC' (Sum(anions+cations))\n",
    "    \"\"\"\n",
    "    # Conversion factors from mg/L to meq/L\n",
    "    d = {'Ca': 0.04990269, 'Mg': 0.082287595, 'Na': 0.043497608, 'K': 0.02557656, 'Cl': 0.028206596, 'NaK': 0.043497608,\n",
    "         'HCO3': 0.016388838, 'CO3': 0.033328223, 'SO4': 0.020833333, 'NO2': 0.021736513, 'NO3': 0.016129032}\n",
    "    anions = ['Cl', 'HCO3', 'CO3', 'SO4']\n",
    "    cations = ['Na', 'K', 'Ca', 'Mg', 'NaK']\n",
    "    par_list = ['Ca','Na','Mg','SO4','Cl','K','HCO3','CO3','NaK']\n",
    "    \n",
    "    \n",
    "    def stupid_mult(x):\n",
    "        if pd.isnull(x) or pd.isnull(pd.to_numeric(x,errors='coerce')):\n",
    "            return 0\n",
    "        else: \n",
    "            return pd.to_numeric(x)\n",
    "    \n",
    "    for name in par_list:\n",
    "        df[name + '_meq'] = df[name].apply(lambda x: float(d.get(name, 0.0)) * stupid_mult(x), 1)\n",
    "\n",
    "\n",
    "    df['NaK_meq'] = df[['Na_meq', 'K_meq','NaK_meq']].apply(lambda x: check_nak(x), 1)\n",
    "\n",
    "    df['anions'] = 0\n",
    "    df['cations'] = 0\n",
    "\n",
    "    for ion in anions:\n",
    "        if ion in df.columns:\n",
    "            df['anions'] += df[ion + '_meq']\n",
    "    for ion in cations:\n",
    "        if ion in df.columns:\n",
    "            df['cations'] += df[ion + '_meq']\n",
    "\n",
    "    df['total_ions'] = df['cations'] + df['anions']\n",
    "    df['EC'] = df['anions'] - df['cations']\n",
    "    df['CBE'] = df['EC'] / (df['anions'] + df['cations'])\n",
    "    df['maj_cation'] = df[['Ca_meq','Mg_meq','Na_meq','K_meq','NaK_meq']].idxmax(axis=1)\n",
    "    df['maj_anion'] = df[['Cl_meq','SO4_meq','HCO3_meq','CO3_meq']].idxmax(axis=1)\n",
    "    df['water_type'] = df[['maj_cation','maj_anion']].apply(lambda x: str(x[0])[:-4]+'-'+str(x[1])[:-4],1)\n",
    "    return df"
   ]
  },
  {
   "cell_type": "code",
   "execution_count": 66,
   "metadata": {},
   "outputs": [],
   "source": [
    "chem_stations['IsNewest']= 0\n",
    "chem_stations['SampleDate'] = pd.to_datetime(chem_stations['SampleDate'])\n",
    "ch_dates = chem_stations.sort_values(['StationId','SampleDate'],ascending=False)\n",
    "ch_dates = ch_dates.drop_duplicates(subset='StationId',keep='first')\n",
    "last_samp = ch_dates['SampleId']\n",
    "chem_stations.loc[(chem_stations[\"SampleId\"].isin(last_samp)),'IsNewest'] = 1\n",
    "#chem_stations[['StationId','SampleId','SampleDate','IsNewest']]\n",
    "chem_stations.drop_duplicates(inplace=True)"
   ]
  },
  {
   "cell_type": "code",
   "execution_count": 67,
   "metadata": {},
   "outputs": [
    {
     "data": {
      "text/plain": [
       "3267"
      ]
     },
     "execution_count": 67,
     "metadata": {},
     "output_type": "execute_result"
    }
   ],
   "source": [
    "len(chem_stations)"
   ]
  },
  {
   "cell_type": "code",
   "execution_count": null,
   "metadata": {
    "ExecuteTime": {
     "end_time": "2017-12-14T21:18:47.022122Z",
     "start_time": "2017-12-14T21:11:39.414Z"
    },
    "collapsed": true
   },
   "outputs": [],
   "source": [
    "import scipy.stats as sp\n",
    "import statsmodels.api as sm\n",
    "\n",
    "alkrelate = chem_stations.dropna(subset=['HCO3','Alk'])\n",
    "alkrelate\n",
    "plt.scatter(alkrelate['Alk'],alkrelate['HCO3'])\n",
    "x = alkrelate['Alk'] \n",
    "y = alkrelate['HCO3']\n",
    "\n",
    "xa = sm.add_constant(x)\n",
    "\n",
    "est = sm.RLM(y.astype(float), xa.astype(float)).fit()\n",
    "r2 = sm.WLS(y.astype(float), xa.astype(float), weights=est.weights).fit().rsquared\n",
    "slope = est.params[1]\n",
    "\n",
    "#x_prime = np.linspace(np.min(x0), np.max(x0), 100)[:, np.newaxis]\n",
    "#x_prime = sm.add_constant(x_prime)\n",
    "#y_hat = est.predict(x_prime)\n",
    "\n",
    "const = est.params[0]\n",
    "#y2 = [i * slope + const for i in x0]\n",
    "\n",
    "\n",
    "\n",
    "#slope, intercept, r_value, p_value, std_err = sp.linregress(x,y)\n",
    "plt.plot(x,[i*slope+const for i in x],color='red')\n",
    "print(r2)\n",
    "\n",
    "for ind in chem_stations.index:\n",
    "    if pd.isnull(chem_stations.loc[ind,'HCO3']) and pd.notnull(chem_stations.loc[ind,'Alk']):\n",
    "        chem_stations.loc[ind,'HCO3'] = chem_stations.loc[ind,'Alk']*slope + const\n",
    "        "
   ]
  },
  {
   "cell_type": "code",
   "execution_count": null,
   "metadata": {
    "ExecuteTime": {
     "end_time": "2017-12-14T21:18:47.025131Z",
     "start_time": "2017-12-14T21:16:57.935Z"
    },
    "collapsed": true
   },
   "outputs": [],
   "source": [
    "chem_stations['complete'] = 0\n",
    "par_list = ['Ca', 'Na', 'Mg', 'SO4', 'Cl', 'K', 'HCO3', 'CO3', 'NaK']\n",
    "main_par = ['Ca', 'Na', 'Mg', 'SO4', 'Cl']\n",
    "for i in chem_stations.index:\n",
    "    dfrow = chem_stations.loc[i, par_list]\n",
    "    if chem_stations.loc[i, main_par].notnull().all() and (pd.isnull(dfrow['CO3']) or '<' in str(dfrow['CO3'])):\n",
    "        dfrow['CO3'] = 0\n",
    "    if dfrow[main_par].notnull().all() and (pd.isnull(dfrow['NaK']) or '<' in str(dfrow['NaK'])):\n",
    "        dfrow['NaK'] = 0\n",
    "    if dfrow.isnull().any():\n",
    "        pass\n",
    "    elif dfrow.str.contains('<').any():\n",
    "        pass\n",
    "    else:\n",
    "        dfrow = pd.to_numeric(chem_stations.loc[i, par_list], errors='coerce')\n",
    "        chem_stations.loc[i, 'complete'] = 1"
   ]
  },
  {
   "cell_type": "code",
   "execution_count": null,
   "metadata": {
    "ExecuteTime": {
     "end_time": "2017-12-14T21:18:47.028138Z",
     "start_time": "2017-12-14T21:16:59.321Z"
    },
    "collapsed": true
   },
   "outputs": [],
   "source": [
    "chem_stations['Elev'] = chem_stations[['Lon_X','Lat_Y']].apply(lambda x: wa.get_elev(x),1)\n"
   ]
  },
  {
   "cell_type": "code",
   "execution_count": null,
   "metadata": {
    "ExecuteTime": {
     "end_time": "2017-12-14T21:18:47.030645Z",
     "start_time": "2017-12-14T21:17:00.402Z"
    },
    "collapsed": true
   },
   "outputs": [],
   "source": [
    "df = chem_stations[chem_stations['complete']==1]\n",
    "df1 = convertIons(df)"
   ]
  },
  {
   "cell_type": "code",
   "execution_count": null,
   "metadata": {
    "ExecuteTime": {
     "end_time": "2017-12-14T21:18:47.033152Z",
     "start_time": "2017-12-14T21:17:01.709Z"
    },
    "collapsed": true
   },
   "outputs": [],
   "source": [
    "df2 = chem_stations[chem_stations['complete'] == 0]\n",
    "df3 = pd.concat([df1,df2])"
   ]
  },
  {
   "cell_type": "code",
   "execution_count": null,
   "metadata": {
    "ExecuteTime": {
     "end_time": "2017-12-14T21:18:47.036159Z",
     "start_time": "2017-12-14T21:17:03.254Z"
    },
    "collapsed": true
   },
   "outputs": [],
   "source": [
    "df3.drop_duplicates(subset=['SampleId'],inplace=True)"
   ]
  },
  {
   "cell_type": "code",
   "execution_count": null,
   "metadata": {
    "ExecuteTime": {
     "end_time": "2017-12-14T21:18:47.039173Z",
     "start_time": "2017-12-14T21:17:04.442Z"
    },
    "collapsed": true
   },
   "outputs": [],
   "source": [
    "df3.to_csv(saveplace+'chem_stations12.csv')"
   ]
  },
  {
   "cell_type": "markdown",
   "metadata": {
    "ExecuteTime": {
     "end_time": "2017-12-13T23:28:23.532496Z",
     "start_time": "2017-12-13T23:18:38.046Z"
    }
   },
   "source": [
    "## Extras"
   ]
  },
  {
   "cell_type": "code",
   "execution_count": 101,
   "metadata": {
    "collapsed": true
   },
   "outputs": [],
   "source": [
    "import simplekml\n",
    "kml = simplekml.Kml()\n",
    "chem_stations.apply(lambda X: kml.newpoint(coords=[( X[\"Lon_X\"],X[\"Lat_Y\"])]) ,axis=1)\n",
    "kml.save(path = saveplace+\"data.kml\")"
   ]
  },
  {
   "cell_type": "code",
   "execution_count": null,
   "metadata": {
    "collapsed": true
   },
   "outputs": [],
   "source": [
    "['Mayo_and_Klauk',\n",
    " 'SS126_Stations',\n",
    " 'SS126_Results',\n",
    " 'Sheet7',\n",
    " 'SS135_Results',\n",
    " 'SS135_Stations',\n",
    " 'WRI97_Results',\n",
    " 'WRI97_Stations',\n",
    " 'TechPub26_Results',\n",
    " 'TechPub26_Stations',\n",
    " 'TechPub38_Results',\n",
    " 'TechPub38_Stations',\n",
    " 'TechPub33_Results',\n",
    " 'TechPub33_Stations']"
   ]
  },
  {
   "cell_type": "code",
   "execution_count": 101,
   "metadata": {},
   "outputs": [
    {
     "data": {
      "text/plain": [
       "Index(['OrgId', 'OrgName', 'StationId', 'StationName', 'StationType',\n",
       "       'StationComment', 'HUC8', 'Lat_Y', 'Lon_X', 'HorAcc', 'HorAccUnit',\n",
       "       'HorCollMeth', 'HorRef', 'Elev', 'ElevUnit', 'ElevAcc', 'ElevAccUnit',\n",
       "       'ElevMeth', 'ElevRef', 'StateCode', 'CountyCode', 'Aquifer', 'FmType',\n",
       "       'AquiferType', 'ConstDate', 'Depth', 'DepthUnit', 'HoleDepth',\n",
       "       'HoleDUnit', 'HUC12', 'HUC10', 'data_source'],\n",
       "      dtype='object')"
      ]
     },
     "execution_count": 101,
     "metadata": {},
     "output_type": "execute_result"
    }
   ],
   "source": [
    "wqp_stations.columns"
   ]
  },
  {
   "cell_type": "code",
   "execution_count": 32,
   "metadata": {},
   "outputs": [
    {
     "data": {
      "text/plain": [
       "Index(['OrgId', 'OrgName', 'StationId', 'StationName', 'StationType',\n",
       "       'StationComment', 'HUC8', 'Lat_Y', 'Lon_X', 'HorAcc', 'HorAccUnit',\n",
       "       'HorCollMeth', 'HorRef', 'Elev', 'ElevUnit', 'ElevAcc', 'ElevAccUnit',\n",
       "       'ElevMeth', 'ElevRef', 'StateCode', 'CountyCode', 'Aquifer', 'FmType',\n",
       "       'AquiferType', 'ConstDate', 'Depth', 'DepthUnit', 'HoleDepth',\n",
       "       'HoleDUnit', 'HUC12', 'HUC10', 'data_source'],\n",
       "      dtype='object')"
      ]
     },
     "execution_count": 32,
     "metadata": {},
     "output_type": "execute_result"
    }
   ],
   "source": [
    "wqpcols"
   ]
  },
  {
   "cell_type": "code",
   "execution_count": 31,
   "metadata": {
    "collapsed": true
   },
   "outputs": [],
   "source": [
    "wqpcols = wqp_stations.columns\n",
    "for col in awqm_stations.columns:\n",
    "    if col not in wqpcols:\n",
    "        print(col)"
   ]
  },
  {
   "cell_type": "code",
   "execution_count": 117,
   "metadata": {},
   "outputs": [
    {
     "ename": "KeyboardInterrupt",
     "evalue": "",
     "output_type": "error",
     "traceback": [
      "\u001b[1;31m---------------------------------------------------------------------------\u001b[0m",
      "\u001b[1;31mTypeError\u001b[0m                                 Traceback (most recent call last)",
      "\u001b[1;32mC:\\Program Files\\ArcGIS\\Pro\\bin\\Python\\envs\\arcgispro-py3\\lib\\site-packages\\requests\\packages\\urllib3\\connectionpool.py\u001b[0m in \u001b[0;36m_make_request\u001b[1;34m(self, conn, method, url, timeout, chunked, **httplib_request_kw)\u001b[0m\n\u001b[0;32m    378\u001b[0m             \u001b[1;32mtry\u001b[0m\u001b[1;33m:\u001b[0m  \u001b[1;31m# Python 2.7, use buffering of HTTP responses\u001b[0m\u001b[1;33m\u001b[0m\u001b[0m\n\u001b[1;32m--> 379\u001b[1;33m                 \u001b[0mhttplib_response\u001b[0m \u001b[1;33m=\u001b[0m \u001b[0mconn\u001b[0m\u001b[1;33m.\u001b[0m\u001b[0mgetresponse\u001b[0m\u001b[1;33m(\u001b[0m\u001b[0mbuffering\u001b[0m\u001b[1;33m=\u001b[0m\u001b[1;32mTrue\u001b[0m\u001b[1;33m)\u001b[0m\u001b[1;33m\u001b[0m\u001b[0m\n\u001b[0m\u001b[0;32m    380\u001b[0m             \u001b[1;32mexcept\u001b[0m \u001b[0mTypeError\u001b[0m\u001b[1;33m:\u001b[0m  \u001b[1;31m# Python 2.6 and older, Python 3\u001b[0m\u001b[1;33m\u001b[0m\u001b[0m\n",
      "\u001b[1;31mTypeError\u001b[0m: getresponse() got an unexpected keyword argument 'buffering'",
      "\nDuring handling of the above exception, another exception occurred:\n",
      "\u001b[1;31mKeyboardInterrupt\u001b[0m                         Traceback (most recent call last)",
      "\u001b[1;32m<ipython-input-117-dc351dd21cf3>\u001b[0m in \u001b[0;36m<module>\u001b[1;34m()\u001b[0m\n\u001b[1;32m----> 1\u001b[1;33m \u001b[0mall_stations\u001b[0m\u001b[1;33m[\u001b[0m\u001b[1;34m'Elev'\u001b[0m\u001b[1;33m]\u001b[0m \u001b[1;33m=\u001b[0m \u001b[0mall_stations\u001b[0m\u001b[1;33m[\u001b[0m\u001b[1;33m[\u001b[0m\u001b[1;34m'Lon_X'\u001b[0m\u001b[1;33m,\u001b[0m\u001b[1;34m'Lat_Y'\u001b[0m\u001b[1;33m]\u001b[0m\u001b[1;33m]\u001b[0m\u001b[1;33m.\u001b[0m\u001b[0mapply\u001b[0m\u001b[1;33m(\u001b[0m\u001b[1;32mlambda\u001b[0m \u001b[0mx\u001b[0m\u001b[1;33m:\u001b[0m \u001b[0mwa\u001b[0m\u001b[1;33m.\u001b[0m\u001b[0mget_elev\u001b[0m\u001b[1;33m(\u001b[0m\u001b[0mx\u001b[0m\u001b[1;33m)\u001b[0m\u001b[1;33m,\u001b[0m\u001b[1;36m1\u001b[0m\u001b[1;33m)\u001b[0m\u001b[1;33m\u001b[0m\u001b[0m\n\u001b[0m",
      "\u001b[1;32mC:\\Program Files\\ArcGIS\\Pro\\bin\\Python\\envs\\arcgispro-py3\\lib\\site-packages\\pandas\\core\\frame.py\u001b[0m in \u001b[0;36mapply\u001b[1;34m(self, func, axis, broadcast, raw, reduce, args, **kwds)\u001b[0m\n\u001b[0;32m   4358\u001b[0m                         \u001b[0mf\u001b[0m\u001b[1;33m,\u001b[0m \u001b[0maxis\u001b[0m\u001b[1;33m,\u001b[0m\u001b[1;33m\u001b[0m\u001b[0m\n\u001b[0;32m   4359\u001b[0m                         \u001b[0mreduce\u001b[0m\u001b[1;33m=\u001b[0m\u001b[0mreduce\u001b[0m\u001b[1;33m,\u001b[0m\u001b[1;33m\u001b[0m\u001b[0m\n\u001b[1;32m-> 4360\u001b[1;33m                         ignore_failures=ignore_failures)\n\u001b[0m\u001b[0;32m   4361\u001b[0m             \u001b[1;32melse\u001b[0m\u001b[1;33m:\u001b[0m\u001b[1;33m\u001b[0m\u001b[0m\n\u001b[0;32m   4362\u001b[0m                 \u001b[1;32mreturn\u001b[0m \u001b[0mself\u001b[0m\u001b[1;33m.\u001b[0m\u001b[0m_apply_broadcast\u001b[0m\u001b[1;33m(\u001b[0m\u001b[0mf\u001b[0m\u001b[1;33m,\u001b[0m \u001b[0maxis\u001b[0m\u001b[1;33m)\u001b[0m\u001b[1;33m\u001b[0m\u001b[0m\n",
      "\u001b[1;32mC:\\Program Files\\ArcGIS\\Pro\\bin\\Python\\envs\\arcgispro-py3\\lib\\site-packages\\pandas\\core\\frame.py\u001b[0m in \u001b[0;36m_apply_standard\u001b[1;34m(self, func, axis, ignore_failures, reduce)\u001b[0m\n\u001b[0;32m   4454\u001b[0m             \u001b[1;32mtry\u001b[0m\u001b[1;33m:\u001b[0m\u001b[1;33m\u001b[0m\u001b[0m\n\u001b[0;32m   4455\u001b[0m                 \u001b[1;32mfor\u001b[0m \u001b[0mi\u001b[0m\u001b[1;33m,\u001b[0m \u001b[0mv\u001b[0m \u001b[1;32min\u001b[0m \u001b[0menumerate\u001b[0m\u001b[1;33m(\u001b[0m\u001b[0mseries_gen\u001b[0m\u001b[1;33m)\u001b[0m\u001b[1;33m:\u001b[0m\u001b[1;33m\u001b[0m\u001b[0m\n\u001b[1;32m-> 4456\u001b[1;33m                     \u001b[0mresults\u001b[0m\u001b[1;33m[\u001b[0m\u001b[0mi\u001b[0m\u001b[1;33m]\u001b[0m \u001b[1;33m=\u001b[0m \u001b[0mfunc\u001b[0m\u001b[1;33m(\u001b[0m\u001b[0mv\u001b[0m\u001b[1;33m)\u001b[0m\u001b[1;33m\u001b[0m\u001b[0m\n\u001b[0m\u001b[0;32m   4457\u001b[0m                     \u001b[0mkeys\u001b[0m\u001b[1;33m.\u001b[0m\u001b[0mappend\u001b[0m\u001b[1;33m(\u001b[0m\u001b[0mv\u001b[0m\u001b[1;33m.\u001b[0m\u001b[0mname\u001b[0m\u001b[1;33m)\u001b[0m\u001b[1;33m\u001b[0m\u001b[0m\n\u001b[0;32m   4458\u001b[0m             \u001b[1;32mexcept\u001b[0m \u001b[0mException\u001b[0m \u001b[1;32mas\u001b[0m \u001b[0me\u001b[0m\u001b[1;33m:\u001b[0m\u001b[1;33m\u001b[0m\u001b[0m\n",
      "\u001b[1;32m<ipython-input-117-dc351dd21cf3>\u001b[0m in \u001b[0;36m<lambda>\u001b[1;34m(x)\u001b[0m\n\u001b[1;32m----> 1\u001b[1;33m \u001b[0mall_stations\u001b[0m\u001b[1;33m[\u001b[0m\u001b[1;34m'Elev'\u001b[0m\u001b[1;33m]\u001b[0m \u001b[1;33m=\u001b[0m \u001b[0mall_stations\u001b[0m\u001b[1;33m[\u001b[0m\u001b[1;33m[\u001b[0m\u001b[1;34m'Lon_X'\u001b[0m\u001b[1;33m,\u001b[0m\u001b[1;34m'Lat_Y'\u001b[0m\u001b[1;33m]\u001b[0m\u001b[1;33m]\u001b[0m\u001b[1;33m.\u001b[0m\u001b[0mapply\u001b[0m\u001b[1;33m(\u001b[0m\u001b[1;32mlambda\u001b[0m \u001b[0mx\u001b[0m\u001b[1;33m:\u001b[0m \u001b[0mwa\u001b[0m\u001b[1;33m.\u001b[0m\u001b[0mget_elev\u001b[0m\u001b[1;33m(\u001b[0m\u001b[0mx\u001b[0m\u001b[1;33m)\u001b[0m\u001b[1;33m,\u001b[0m\u001b[1;36m1\u001b[0m\u001b[1;33m)\u001b[0m\u001b[1;33m\u001b[0m\u001b[0m\n\u001b[0m",
      "\u001b[1;32mC:\\Program Files\\ArcGIS\\Pro\\bin\\Python\\envs\\arcgispro-py3\\lib\\site-packages\\wellapplication\\usgs.py\u001b[0m in \u001b[0;36mget_elev\u001b[1;34m(x, units)\u001b[0m\n\u001b[0;32m    338\u001b[0m     \u001b[1;32mwhile\u001b[0m \u001b[0mattempts\u001b[0m \u001b[1;33m<\u001b[0m \u001b[1;36m4\u001b[0m\u001b[1;33m:\u001b[0m\u001b[1;33m\u001b[0m\u001b[0m\n\u001b[0;32m    339\u001b[0m          \u001b[1;32mtry\u001b[0m\u001b[1;33m:\u001b[0m\u001b[1;33m\u001b[0m\u001b[0m\n\u001b[1;32m--> 340\u001b[1;33m              \u001b[0mresponse\u001b[0m \u001b[1;33m=\u001b[0m \u001b[0mrequests\u001b[0m\u001b[1;33m.\u001b[0m\u001b[0mget\u001b[0m\u001b[1;33m(\u001b[0m\u001b[0melev_url\u001b[0m\u001b[1;33m,\u001b[0m \u001b[0mparams\u001b[0m\u001b[1;33m=\u001b[0m\u001b[0mvalues\u001b[0m\u001b[1;33m)\u001b[0m\u001b[1;33m.\u001b[0m\u001b[0mjson\u001b[0m\u001b[1;33m(\u001b[0m\u001b[1;33m)\u001b[0m\u001b[1;33m\u001b[0m\u001b[0m\n\u001b[0m\u001b[0;32m    341\u001b[0m              \u001b[0mg\u001b[0m \u001b[1;33m=\u001b[0m \u001b[0mfloat\u001b[0m\u001b[1;33m(\u001b[0m\u001b[0mresponse\u001b[0m\u001b[1;33m[\u001b[0m\u001b[1;34m'USGS_Elevation_Point_Query_Service'\u001b[0m\u001b[1;33m]\u001b[0m\u001b[1;33m[\u001b[0m\u001b[1;34m'Elevation_Query'\u001b[0m\u001b[1;33m]\u001b[0m\u001b[1;33m[\u001b[0m\u001b[1;34m'Elevation'\u001b[0m\u001b[1;33m]\u001b[0m\u001b[1;33m)\u001b[0m\u001b[1;33m\u001b[0m\u001b[0m\n\u001b[0;32m    342\u001b[0m              \u001b[1;32mbreak\u001b[0m\u001b[1;33m\u001b[0m\u001b[0m\n",
      "\u001b[1;32mC:\\Program Files\\ArcGIS\\Pro\\bin\\Python\\envs\\arcgispro-py3\\lib\\site-packages\\requests\\api.py\u001b[0m in \u001b[0;36mget\u001b[1;34m(url, params, **kwargs)\u001b[0m\n\u001b[0;32m     70\u001b[0m \u001b[1;33m\u001b[0m\u001b[0m\n\u001b[0;32m     71\u001b[0m     \u001b[0mkwargs\u001b[0m\u001b[1;33m.\u001b[0m\u001b[0msetdefault\u001b[0m\u001b[1;33m(\u001b[0m\u001b[1;34m'allow_redirects'\u001b[0m\u001b[1;33m,\u001b[0m \u001b[1;32mTrue\u001b[0m\u001b[1;33m)\u001b[0m\u001b[1;33m\u001b[0m\u001b[0m\n\u001b[1;32m---> 72\u001b[1;33m     \u001b[1;32mreturn\u001b[0m \u001b[0mrequest\u001b[0m\u001b[1;33m(\u001b[0m\u001b[1;34m'get'\u001b[0m\u001b[1;33m,\u001b[0m \u001b[0murl\u001b[0m\u001b[1;33m,\u001b[0m \u001b[0mparams\u001b[0m\u001b[1;33m=\u001b[0m\u001b[0mparams\u001b[0m\u001b[1;33m,\u001b[0m \u001b[1;33m**\u001b[0m\u001b[0mkwargs\u001b[0m\u001b[1;33m)\u001b[0m\u001b[1;33m\u001b[0m\u001b[0m\n\u001b[0m\u001b[0;32m     73\u001b[0m \u001b[1;33m\u001b[0m\u001b[0m\n\u001b[0;32m     74\u001b[0m \u001b[1;33m\u001b[0m\u001b[0m\n",
      "\u001b[1;32mC:\\Program Files\\ArcGIS\\Pro\\bin\\Python\\envs\\arcgispro-py3\\lib\\site-packages\\requests\\api.py\u001b[0m in \u001b[0;36mrequest\u001b[1;34m(method, url, **kwargs)\u001b[0m\n\u001b[0;32m     56\u001b[0m     \u001b[1;31m# cases, and look like a memory leak in others.\u001b[0m\u001b[1;33m\u001b[0m\u001b[1;33m\u001b[0m\u001b[0m\n\u001b[0;32m     57\u001b[0m     \u001b[1;32mwith\u001b[0m \u001b[0msessions\u001b[0m\u001b[1;33m.\u001b[0m\u001b[0mSession\u001b[0m\u001b[1;33m(\u001b[0m\u001b[1;33m)\u001b[0m \u001b[1;32mas\u001b[0m \u001b[0msession\u001b[0m\u001b[1;33m:\u001b[0m\u001b[1;33m\u001b[0m\u001b[0m\n\u001b[1;32m---> 58\u001b[1;33m         \u001b[1;32mreturn\u001b[0m \u001b[0msession\u001b[0m\u001b[1;33m.\u001b[0m\u001b[0mrequest\u001b[0m\u001b[1;33m(\u001b[0m\u001b[0mmethod\u001b[0m\u001b[1;33m=\u001b[0m\u001b[0mmethod\u001b[0m\u001b[1;33m,\u001b[0m \u001b[0murl\u001b[0m\u001b[1;33m=\u001b[0m\u001b[0murl\u001b[0m\u001b[1;33m,\u001b[0m \u001b[1;33m**\u001b[0m\u001b[0mkwargs\u001b[0m\u001b[1;33m)\u001b[0m\u001b[1;33m\u001b[0m\u001b[0m\n\u001b[0m\u001b[0;32m     59\u001b[0m \u001b[1;33m\u001b[0m\u001b[0m\n\u001b[0;32m     60\u001b[0m \u001b[1;33m\u001b[0m\u001b[0m\n",
      "\u001b[1;32mC:\\Program Files\\ArcGIS\\Pro\\bin\\Python\\envs\\arcgispro-py3\\lib\\site-packages\\requests\\sessions.py\u001b[0m in \u001b[0;36mrequest\u001b[1;34m(self, method, url, params, data, headers, cookies, files, auth, timeout, allow_redirects, proxies, hooks, stream, verify, cert, json)\u001b[0m\n\u001b[0;32m    516\u001b[0m         }\n\u001b[0;32m    517\u001b[0m         \u001b[0msend_kwargs\u001b[0m\u001b[1;33m.\u001b[0m\u001b[0mupdate\u001b[0m\u001b[1;33m(\u001b[0m\u001b[0msettings\u001b[0m\u001b[1;33m)\u001b[0m\u001b[1;33m\u001b[0m\u001b[0m\n\u001b[1;32m--> 518\u001b[1;33m         \u001b[0mresp\u001b[0m \u001b[1;33m=\u001b[0m \u001b[0mself\u001b[0m\u001b[1;33m.\u001b[0m\u001b[0msend\u001b[0m\u001b[1;33m(\u001b[0m\u001b[0mprep\u001b[0m\u001b[1;33m,\u001b[0m \u001b[1;33m**\u001b[0m\u001b[0msend_kwargs\u001b[0m\u001b[1;33m)\u001b[0m\u001b[1;33m\u001b[0m\u001b[0m\n\u001b[0m\u001b[0;32m    519\u001b[0m \u001b[1;33m\u001b[0m\u001b[0m\n\u001b[0;32m    520\u001b[0m         \u001b[1;32mreturn\u001b[0m \u001b[0mresp\u001b[0m\u001b[1;33m\u001b[0m\u001b[0m\n",
      "\u001b[1;32mC:\\Program Files\\ArcGIS\\Pro\\bin\\Python\\envs\\arcgispro-py3\\lib\\site-packages\\requests\\sessions.py\u001b[0m in \u001b[0;36msend\u001b[1;34m(self, request, **kwargs)\u001b[0m\n\u001b[0;32m    637\u001b[0m \u001b[1;33m\u001b[0m\u001b[0m\n\u001b[0;32m    638\u001b[0m         \u001b[1;31m# Send the request\u001b[0m\u001b[1;33m\u001b[0m\u001b[1;33m\u001b[0m\u001b[0m\n\u001b[1;32m--> 639\u001b[1;33m         \u001b[0mr\u001b[0m \u001b[1;33m=\u001b[0m \u001b[0madapter\u001b[0m\u001b[1;33m.\u001b[0m\u001b[0msend\u001b[0m\u001b[1;33m(\u001b[0m\u001b[0mrequest\u001b[0m\u001b[1;33m,\u001b[0m \u001b[1;33m**\u001b[0m\u001b[0mkwargs\u001b[0m\u001b[1;33m)\u001b[0m\u001b[1;33m\u001b[0m\u001b[0m\n\u001b[0m\u001b[0;32m    640\u001b[0m \u001b[1;33m\u001b[0m\u001b[0m\n\u001b[0;32m    641\u001b[0m         \u001b[1;31m# Total elapsed time of the request (approximately)\u001b[0m\u001b[1;33m\u001b[0m\u001b[1;33m\u001b[0m\u001b[0m\n",
      "\u001b[1;32mC:\\Program Files\\ArcGIS\\Pro\\bin\\Python\\envs\\arcgispro-py3\\lib\\site-packages\\requests\\adapters.py\u001b[0m in \u001b[0;36msend\u001b[1;34m(self, request, stream, timeout, verify, cert, proxies)\u001b[0m\n\u001b[0;32m    436\u001b[0m                     \u001b[0mdecode_content\u001b[0m\u001b[1;33m=\u001b[0m\u001b[1;32mFalse\u001b[0m\u001b[1;33m,\u001b[0m\u001b[1;33m\u001b[0m\u001b[0m\n\u001b[0;32m    437\u001b[0m                     \u001b[0mretries\u001b[0m\u001b[1;33m=\u001b[0m\u001b[0mself\u001b[0m\u001b[1;33m.\u001b[0m\u001b[0mmax_retries\u001b[0m\u001b[1;33m,\u001b[0m\u001b[1;33m\u001b[0m\u001b[0m\n\u001b[1;32m--> 438\u001b[1;33m                     \u001b[0mtimeout\u001b[0m\u001b[1;33m=\u001b[0m\u001b[0mtimeout\u001b[0m\u001b[1;33m\u001b[0m\u001b[0m\n\u001b[0m\u001b[0;32m    439\u001b[0m                 )\n\u001b[0;32m    440\u001b[0m \u001b[1;33m\u001b[0m\u001b[0m\n",
      "\u001b[1;32mC:\\Program Files\\ArcGIS\\Pro\\bin\\Python\\envs\\arcgispro-py3\\lib\\site-packages\\requests\\packages\\urllib3\\connectionpool.py\u001b[0m in \u001b[0;36murlopen\u001b[1;34m(self, method, url, body, headers, retries, redirect, assert_same_host, timeout, pool_timeout, release_conn, chunked, body_pos, **response_kw)\u001b[0m\n\u001b[0;32m    598\u001b[0m                                                   \u001b[0mtimeout\u001b[0m\u001b[1;33m=\u001b[0m\u001b[0mtimeout_obj\u001b[0m\u001b[1;33m,\u001b[0m\u001b[1;33m\u001b[0m\u001b[0m\n\u001b[0;32m    599\u001b[0m                                                   \u001b[0mbody\u001b[0m\u001b[1;33m=\u001b[0m\u001b[0mbody\u001b[0m\u001b[1;33m,\u001b[0m \u001b[0mheaders\u001b[0m\u001b[1;33m=\u001b[0m\u001b[0mheaders\u001b[0m\u001b[1;33m,\u001b[0m\u001b[1;33m\u001b[0m\u001b[0m\n\u001b[1;32m--> 600\u001b[1;33m                                                   chunked=chunked)\n\u001b[0m\u001b[0;32m    601\u001b[0m \u001b[1;33m\u001b[0m\u001b[0m\n\u001b[0;32m    602\u001b[0m             \u001b[1;31m# If we're going to release the connection in ``finally:``, then\u001b[0m\u001b[1;33m\u001b[0m\u001b[1;33m\u001b[0m\u001b[0m\n",
      "\u001b[1;32mC:\\Program Files\\ArcGIS\\Pro\\bin\\Python\\envs\\arcgispro-py3\\lib\\site-packages\\requests\\packages\\urllib3\\connectionpool.py\u001b[0m in \u001b[0;36m_make_request\u001b[1;34m(self, conn, method, url, timeout, chunked, **httplib_request_kw)\u001b[0m\n\u001b[0;32m    380\u001b[0m             \u001b[1;32mexcept\u001b[0m \u001b[0mTypeError\u001b[0m\u001b[1;33m:\u001b[0m  \u001b[1;31m# Python 2.6 and older, Python 3\u001b[0m\u001b[1;33m\u001b[0m\u001b[0m\n\u001b[0;32m    381\u001b[0m                 \u001b[1;32mtry\u001b[0m\u001b[1;33m:\u001b[0m\u001b[1;33m\u001b[0m\u001b[0m\n\u001b[1;32m--> 382\u001b[1;33m                     \u001b[0mhttplib_response\u001b[0m \u001b[1;33m=\u001b[0m \u001b[0mconn\u001b[0m\u001b[1;33m.\u001b[0m\u001b[0mgetresponse\u001b[0m\u001b[1;33m(\u001b[0m\u001b[1;33m)\u001b[0m\u001b[1;33m\u001b[0m\u001b[0m\n\u001b[0m\u001b[0;32m    383\u001b[0m                 \u001b[1;32mexcept\u001b[0m \u001b[0mException\u001b[0m \u001b[1;32mas\u001b[0m \u001b[0me\u001b[0m\u001b[1;33m:\u001b[0m\u001b[1;33m\u001b[0m\u001b[0m\n\u001b[0;32m    384\u001b[0m                     \u001b[1;31m# Remove the TypeError from the exception chain in Python 3;\u001b[0m\u001b[1;33m\u001b[0m\u001b[1;33m\u001b[0m\u001b[0m\n",
      "\u001b[1;32mC:\\Program Files\\ArcGIS\\Pro\\bin\\Python\\envs\\arcgispro-py3\\lib\\http\\client.py\u001b[0m in \u001b[0;36mgetresponse\u001b[1;34m(self)\u001b[0m\n\u001b[0;32m   1196\u001b[0m         \u001b[1;32mtry\u001b[0m\u001b[1;33m:\u001b[0m\u001b[1;33m\u001b[0m\u001b[0m\n\u001b[0;32m   1197\u001b[0m             \u001b[1;32mtry\u001b[0m\u001b[1;33m:\u001b[0m\u001b[1;33m\u001b[0m\u001b[0m\n\u001b[1;32m-> 1198\u001b[1;33m                 \u001b[0mresponse\u001b[0m\u001b[1;33m.\u001b[0m\u001b[0mbegin\u001b[0m\u001b[1;33m(\u001b[0m\u001b[1;33m)\u001b[0m\u001b[1;33m\u001b[0m\u001b[0m\n\u001b[0m\u001b[0;32m   1199\u001b[0m             \u001b[1;32mexcept\u001b[0m \u001b[0mConnectionError\u001b[0m\u001b[1;33m:\u001b[0m\u001b[1;33m\u001b[0m\u001b[0m\n\u001b[0;32m   1200\u001b[0m                 \u001b[0mself\u001b[0m\u001b[1;33m.\u001b[0m\u001b[0mclose\u001b[0m\u001b[1;33m(\u001b[0m\u001b[1;33m)\u001b[0m\u001b[1;33m\u001b[0m\u001b[0m\n",
      "\u001b[1;32mC:\\Program Files\\ArcGIS\\Pro\\bin\\Python\\envs\\arcgispro-py3\\lib\\http\\client.py\u001b[0m in \u001b[0;36mbegin\u001b[1;34m(self)\u001b[0m\n\u001b[0;32m    295\u001b[0m         \u001b[1;31m# read until we get a non-100 response\u001b[0m\u001b[1;33m\u001b[0m\u001b[1;33m\u001b[0m\u001b[0m\n\u001b[0;32m    296\u001b[0m         \u001b[1;32mwhile\u001b[0m \u001b[1;32mTrue\u001b[0m\u001b[1;33m:\u001b[0m\u001b[1;33m\u001b[0m\u001b[0m\n\u001b[1;32m--> 297\u001b[1;33m             \u001b[0mversion\u001b[0m\u001b[1;33m,\u001b[0m \u001b[0mstatus\u001b[0m\u001b[1;33m,\u001b[0m \u001b[0mreason\u001b[0m \u001b[1;33m=\u001b[0m \u001b[0mself\u001b[0m\u001b[1;33m.\u001b[0m\u001b[0m_read_status\u001b[0m\u001b[1;33m(\u001b[0m\u001b[1;33m)\u001b[0m\u001b[1;33m\u001b[0m\u001b[0m\n\u001b[0m\u001b[0;32m    298\u001b[0m             \u001b[1;32mif\u001b[0m \u001b[0mstatus\u001b[0m \u001b[1;33m!=\u001b[0m \u001b[0mCONTINUE\u001b[0m\u001b[1;33m:\u001b[0m\u001b[1;33m\u001b[0m\u001b[0m\n\u001b[0;32m    299\u001b[0m                 \u001b[1;32mbreak\u001b[0m\u001b[1;33m\u001b[0m\u001b[0m\n",
      "\u001b[1;32mC:\\Program Files\\ArcGIS\\Pro\\bin\\Python\\envs\\arcgispro-py3\\lib\\http\\client.py\u001b[0m in \u001b[0;36m_read_status\u001b[1;34m(self)\u001b[0m\n\u001b[0;32m    256\u001b[0m \u001b[1;33m\u001b[0m\u001b[0m\n\u001b[0;32m    257\u001b[0m     \u001b[1;32mdef\u001b[0m \u001b[0m_read_status\u001b[0m\u001b[1;33m(\u001b[0m\u001b[0mself\u001b[0m\u001b[1;33m)\u001b[0m\u001b[1;33m:\u001b[0m\u001b[1;33m\u001b[0m\u001b[0m\n\u001b[1;32m--> 258\u001b[1;33m         \u001b[0mline\u001b[0m \u001b[1;33m=\u001b[0m \u001b[0mstr\u001b[0m\u001b[1;33m(\u001b[0m\u001b[0mself\u001b[0m\u001b[1;33m.\u001b[0m\u001b[0mfp\u001b[0m\u001b[1;33m.\u001b[0m\u001b[0mreadline\u001b[0m\u001b[1;33m(\u001b[0m\u001b[0m_MAXLINE\u001b[0m \u001b[1;33m+\u001b[0m \u001b[1;36m1\u001b[0m\u001b[1;33m)\u001b[0m\u001b[1;33m,\u001b[0m \u001b[1;34m\"iso-8859-1\"\u001b[0m\u001b[1;33m)\u001b[0m\u001b[1;33m\u001b[0m\u001b[0m\n\u001b[0m\u001b[0;32m    259\u001b[0m         \u001b[1;32mif\u001b[0m \u001b[0mlen\u001b[0m\u001b[1;33m(\u001b[0m\u001b[0mline\u001b[0m\u001b[1;33m)\u001b[0m \u001b[1;33m>\u001b[0m \u001b[0m_MAXLINE\u001b[0m\u001b[1;33m:\u001b[0m\u001b[1;33m\u001b[0m\u001b[0m\n\u001b[0;32m    260\u001b[0m             \u001b[1;32mraise\u001b[0m \u001b[0mLineTooLong\u001b[0m\u001b[1;33m(\u001b[0m\u001b[1;34m\"status line\"\u001b[0m\u001b[1;33m)\u001b[0m\u001b[1;33m\u001b[0m\u001b[0m\n",
      "\u001b[1;32mC:\\Program Files\\ArcGIS\\Pro\\bin\\Python\\envs\\arcgispro-py3\\lib\\socket.py\u001b[0m in \u001b[0;36mreadinto\u001b[1;34m(self, b)\u001b[0m\n\u001b[0;32m    574\u001b[0m         \u001b[1;32mwhile\u001b[0m \u001b[1;32mTrue\u001b[0m\u001b[1;33m:\u001b[0m\u001b[1;33m\u001b[0m\u001b[0m\n\u001b[0;32m    575\u001b[0m             \u001b[1;32mtry\u001b[0m\u001b[1;33m:\u001b[0m\u001b[1;33m\u001b[0m\u001b[0m\n\u001b[1;32m--> 576\u001b[1;33m                 \u001b[1;32mreturn\u001b[0m \u001b[0mself\u001b[0m\u001b[1;33m.\u001b[0m\u001b[0m_sock\u001b[0m\u001b[1;33m.\u001b[0m\u001b[0mrecv_into\u001b[0m\u001b[1;33m(\u001b[0m\u001b[0mb\u001b[0m\u001b[1;33m)\u001b[0m\u001b[1;33m\u001b[0m\u001b[0m\n\u001b[0m\u001b[0;32m    577\u001b[0m             \u001b[1;32mexcept\u001b[0m \u001b[0mtimeout\u001b[0m\u001b[1;33m:\u001b[0m\u001b[1;33m\u001b[0m\u001b[0m\n\u001b[0;32m    578\u001b[0m                 \u001b[0mself\u001b[0m\u001b[1;33m.\u001b[0m\u001b[0m_timeout_occurred\u001b[0m \u001b[1;33m=\u001b[0m \u001b[1;32mTrue\u001b[0m\u001b[1;33m\u001b[0m\u001b[0m\n",
      "\u001b[1;31mKeyboardInterrupt\u001b[0m: "
     ]
    }
   ],
   "source": [
    "all_stations['Elev'] = all_stations[['Lon_X','Lat_Y']].apply(lambda x: wa.get_elev(x),1)"
   ]
  },
  {
   "cell_type": "code",
   "execution_count": 119,
   "metadata": {},
   "outputs": [
    {
     "data": {
      "text/html": [
       "<div>\n",
       "<style>\n",
       "    .dataframe thead tr:only-child th {\n",
       "        text-align: right;\n",
       "    }\n",
       "\n",
       "    .dataframe thead th {\n",
       "        text-align: left;\n",
       "    }\n",
       "\n",
       "    .dataframe tbody tr th {\n",
       "        vertical-align: top;\n",
       "    }\n",
       "</style>\n",
       "<table border=\"1\" class=\"dataframe\">\n",
       "  <thead>\n",
       "    <tr style=\"text-align: right;\">\n",
       "      <th></th>\n",
       "      <th>ActDate</th>\n",
       "      <th>ActStatus</th>\n",
       "      <th>Aquifer</th>\n",
       "      <th>AquiferType</th>\n",
       "      <th>ConstDate</th>\n",
       "      <th>CountyCode</th>\n",
       "      <th>Depth</th>\n",
       "      <th>DepthUnit</th>\n",
       "      <th>Depth_to_bedrock_ft</th>\n",
       "      <th>Easting</th>\n",
       "      <th>...</th>\n",
       "      <th>StationComment</th>\n",
       "      <th>StationId</th>\n",
       "      <th>StationName</th>\n",
       "      <th>StationType</th>\n",
       "      <th>System</th>\n",
       "      <th>USGSCAD</th>\n",
       "      <th>WELL_ID</th>\n",
       "      <th>WIN</th>\n",
       "      <th>Yr_drilled</th>\n",
       "      <th>data_source</th>\n",
       "    </tr>\n",
       "  </thead>\n",
       "  <tbody>\n",
       "    <tr>\n",
       "      <th>0</th>\n",
       "      <td>NaT</td>\n",
       "      <td>NaN</td>\n",
       "      <td>NaN</td>\n",
       "      <td>NaN</td>\n",
       "      <td>NaN</td>\n",
       "      <td>NaN</td>\n",
       "      <td>NaN</td>\n",
       "      <td>NaN</td>\n",
       "      <td>NaN</td>\n",
       "      <td>377718.1681</td>\n",
       "      <td>...</td>\n",
       "      <td>NaN</td>\n",
       "      <td>WRI97_148</td>\n",
       "      <td>(C-2-5)5ccc-2</td>\n",
       "      <td>Well</td>\n",
       "      <td>Deep</td>\n",
       "      <td>4039581122648</td>\n",
       "      <td>NaN</td>\n",
       "      <td>NaN</td>\n",
       "      <td>NaN</td>\n",
       "      <td>WRI 97</td>\n",
       "    </tr>\n",
       "    <tr>\n",
       "      <th>1</th>\n",
       "      <td>NaT</td>\n",
       "      <td>NaN</td>\n",
       "      <td>NaN</td>\n",
       "      <td>NaN</td>\n",
       "      <td>NaN</td>\n",
       "      <td>NaN</td>\n",
       "      <td>NaN</td>\n",
       "      <td>NaN</td>\n",
       "      <td>NaN</td>\n",
       "      <td>378707.2462</td>\n",
       "      <td>...</td>\n",
       "      <td>NaN</td>\n",
       "      <td>WRI97_149</td>\n",
       "      <td>(C-2-5)5dcd-4</td>\n",
       "      <td>Well</td>\n",
       "      <td>Deep</td>\n",
       "      <td>4039591122606</td>\n",
       "      <td>NaN</td>\n",
       "      <td>NaN</td>\n",
       "      <td>NaN</td>\n",
       "      <td>WRI 97</td>\n",
       "    </tr>\n",
       "    <tr>\n",
       "      <th>2</th>\n",
       "      <td>NaT</td>\n",
       "      <td>NaN</td>\n",
       "      <td>NaN</td>\n",
       "      <td>NaN</td>\n",
       "      <td>NaN</td>\n",
       "      <td>NaN</td>\n",
       "      <td>NaN</td>\n",
       "      <td>NaN</td>\n",
       "      <td>NaN</td>\n",
       "      <td>378824.5944</td>\n",
       "      <td>...</td>\n",
       "      <td>NaN</td>\n",
       "      <td>WRI97_154</td>\n",
       "      <td>(C-2-5)17abd-1</td>\n",
       "      <td>Well</td>\n",
       "      <td>Deep</td>\n",
       "      <td>4038501122559</td>\n",
       "      <td>NaN</td>\n",
       "      <td>NaN</td>\n",
       "      <td>NaN</td>\n",
       "      <td>WRI 97</td>\n",
       "    </tr>\n",
       "    <tr>\n",
       "      <th>3</th>\n",
       "      <td>NaT</td>\n",
       "      <td>NaN</td>\n",
       "      <td>NaN</td>\n",
       "      <td>NaN</td>\n",
       "      <td>NaN</td>\n",
       "      <td>NaN</td>\n",
       "      <td>NaN</td>\n",
       "      <td>NaN</td>\n",
       "      <td>NaN</td>\n",
       "      <td>379947.7846</td>\n",
       "      <td>...</td>\n",
       "      <td>NaN</td>\n",
       "      <td>WRI97_153</td>\n",
       "      <td>(C-2-5)16baa-1</td>\n",
       "      <td>Well</td>\n",
       "      <td>Deep</td>\n",
       "      <td>4039051122512</td>\n",
       "      <td>NaN</td>\n",
       "      <td>NaN</td>\n",
       "      <td>NaN</td>\n",
       "      <td>WRI 97</td>\n",
       "    </tr>\n",
       "    <tr>\n",
       "      <th>4</th>\n",
       "      <td>NaT</td>\n",
       "      <td>NaN</td>\n",
       "      <td>NaN</td>\n",
       "      <td>NaN</td>\n",
       "      <td>NaN</td>\n",
       "      <td>NaN</td>\n",
       "      <td>NaN</td>\n",
       "      <td>NaN</td>\n",
       "      <td>NaN</td>\n",
       "      <td>383451.4678</td>\n",
       "      <td>...</td>\n",
       "      <td>NaN</td>\n",
       "      <td>WRI97_152</td>\n",
       "      <td>(C-2-5)14dbb-1</td>\n",
       "      <td>Well</td>\n",
       "      <td>Deep</td>\n",
       "      <td>4038401122242</td>\n",
       "      <td>NaN</td>\n",
       "      <td>NaN</td>\n",
       "      <td>NaN</td>\n",
       "      <td>WRI 97</td>\n",
       "    </tr>\n",
       "    <tr>\n",
       "      <th>5</th>\n",
       "      <td>NaT</td>\n",
       "      <td>NaN</td>\n",
       "      <td>NaN</td>\n",
       "      <td>NaN</td>\n",
       "      <td>NaN</td>\n",
       "      <td>NaN</td>\n",
       "      <td>NaN</td>\n",
       "      <td>NaN</td>\n",
       "      <td>NaN</td>\n",
       "      <td>384909.9386</td>\n",
       "      <td>...</td>\n",
       "      <td>NaN</td>\n",
       "      <td>WRI97_151</td>\n",
       "      <td>(C-2-5)13acc-1</td>\n",
       "      <td>Well</td>\n",
       "      <td>Deep</td>\n",
       "      <td>4038441122140</td>\n",
       "      <td>NaN</td>\n",
       "      <td>NaN</td>\n",
       "      <td>NaN</td>\n",
       "      <td>WRI 97</td>\n",
       "    </tr>\n",
       "    <tr>\n",
       "      <th>6</th>\n",
       "      <td>NaT</td>\n",
       "      <td>NaN</td>\n",
       "      <td>NaN</td>\n",
       "      <td>NaN</td>\n",
       "      <td>NaN</td>\n",
       "      <td>NaN</td>\n",
       "      <td>NaN</td>\n",
       "      <td>NaN</td>\n",
       "      <td>NaN</td>\n",
       "      <td>387776.5883</td>\n",
       "      <td>...</td>\n",
       "      <td>NaN</td>\n",
       "      <td>WRI97_110</td>\n",
       "      <td>(C-2-4)8cdc-1</td>\n",
       "      <td>Well</td>\n",
       "      <td>Deep</td>\n",
       "      <td>4039131121939</td>\n",
       "      <td>NaN</td>\n",
       "      <td>NaN</td>\n",
       "      <td>NaN</td>\n",
       "      <td>WRI 97</td>\n",
       "    </tr>\n",
       "    <tr>\n",
       "      <th>7</th>\n",
       "      <td>NaT</td>\n",
       "      <td>NaN</td>\n",
       "      <td>NaN</td>\n",
       "      <td>NaN</td>\n",
       "      <td>NaN</td>\n",
       "      <td>NaN</td>\n",
       "      <td>NaN</td>\n",
       "      <td>NaN</td>\n",
       "      <td>NaN</td>\n",
       "      <td>393040.4948</td>\n",
       "      <td>...</td>\n",
       "      <td>NaN</td>\n",
       "      <td>WRI97_109</td>\n",
       "      <td>(C-2-4)2abb-1</td>\n",
       "      <td>Well</td>\n",
       "      <td>Deep</td>\n",
       "      <td>4040511121556</td>\n",
       "      <td>NaN</td>\n",
       "      <td>NaN</td>\n",
       "      <td>NaN</td>\n",
       "      <td>WRI 97</td>\n",
       "    </tr>\n",
       "    <tr>\n",
       "      <th>8</th>\n",
       "      <td>NaT</td>\n",
       "      <td>NaN</td>\n",
       "      <td>NaN</td>\n",
       "      <td>NaN</td>\n",
       "      <td>NaN</td>\n",
       "      <td>NaN</td>\n",
       "      <td>NaN</td>\n",
       "      <td>NaN</td>\n",
       "      <td>NaN</td>\n",
       "      <td>393208.1352</td>\n",
       "      <td>...</td>\n",
       "      <td>NaN</td>\n",
       "      <td>WRI97_108</td>\n",
       "      <td>(C-2-4)2aba-1</td>\n",
       "      <td>Well</td>\n",
       "      <td>Deep</td>\n",
       "      <td>4040541121549</td>\n",
       "      <td>NaN</td>\n",
       "      <td>NaN</td>\n",
       "      <td>NaN</td>\n",
       "      <td>WRI 97</td>\n",
       "    </tr>\n",
       "    <tr>\n",
       "      <th>9</th>\n",
       "      <td>NaT</td>\n",
       "      <td>NaN</td>\n",
       "      <td>NaN</td>\n",
       "      <td>NaN</td>\n",
       "      <td>NaN</td>\n",
       "      <td>NaN</td>\n",
       "      <td>NaN</td>\n",
       "      <td>NaN</td>\n",
       "      <td>NaN</td>\n",
       "      <td>391229.9792</td>\n",
       "      <td>...</td>\n",
       "      <td>NaN</td>\n",
       "      <td>WRI97_111</td>\n",
       "      <td>(C-2-4)10cda-1</td>\n",
       "      <td>Well</td>\n",
       "      <td>Deep</td>\n",
       "      <td>4039191121712</td>\n",
       "      <td>NaN</td>\n",
       "      <td>NaN</td>\n",
       "      <td>NaN</td>\n",
       "      <td>WRI 97</td>\n",
       "    </tr>\n",
       "    <tr>\n",
       "      <th>10</th>\n",
       "      <td>NaT</td>\n",
       "      <td>NaN</td>\n",
       "      <td>NaN</td>\n",
       "      <td>NaN</td>\n",
       "      <td>NaN</td>\n",
       "      <td>NaN</td>\n",
       "      <td>NaN</td>\n",
       "      <td>NaN</td>\n",
       "      <td>NaN</td>\n",
       "      <td>388899.7785</td>\n",
       "      <td>...</td>\n",
       "      <td>NaN</td>\n",
       "      <td>WRI97_115</td>\n",
       "      <td>(C-2-4)20aad-1</td>\n",
       "      <td>Well</td>\n",
       "      <td>Deep</td>\n",
       "      <td>4038061121850</td>\n",
       "      <td>NaN</td>\n",
       "      <td>NaN</td>\n",
       "      <td>NaN</td>\n",
       "      <td>WRI 97</td>\n",
       "    </tr>\n",
       "    <tr>\n",
       "      <th>11</th>\n",
       "      <td>NaT</td>\n",
       "      <td>NaN</td>\n",
       "      <td>NaN</td>\n",
       "      <td>NaN</td>\n",
       "      <td>NaN</td>\n",
       "      <td>NaN</td>\n",
       "      <td>NaN</td>\n",
       "      <td>NaN</td>\n",
       "      <td>NaN</td>\n",
       "      <td>379243.6952</td>\n",
       "      <td>...</td>\n",
       "      <td>NaN</td>\n",
       "      <td>WRI97_158</td>\n",
       "      <td>(C-2-5)21cbb-1</td>\n",
       "      <td>Well</td>\n",
       "      <td>Deep</td>\n",
       "      <td>4037451122540</td>\n",
       "      <td>NaN</td>\n",
       "      <td>NaN</td>\n",
       "      <td>NaN</td>\n",
       "      <td>WRI 97</td>\n",
       "    </tr>\n",
       "    <tr>\n",
       "      <th>12</th>\n",
       "      <td>NaT</td>\n",
       "      <td>NaN</td>\n",
       "      <td>NaN</td>\n",
       "      <td>NaN</td>\n",
       "      <td>NaN</td>\n",
       "      <td>NaN</td>\n",
       "      <td>NaN</td>\n",
       "      <td>NaN</td>\n",
       "      <td>NaN</td>\n",
       "      <td>378472.5497</td>\n",
       "      <td>...</td>\n",
       "      <td>NaN</td>\n",
       "      <td>WRI97_157</td>\n",
       "      <td>(C-2-5)20acc-1</td>\n",
       "      <td>Well</td>\n",
       "      <td>Deep</td>\n",
       "      <td>4037481122613</td>\n",
       "      <td>NaN</td>\n",
       "      <td>NaN</td>\n",
       "      <td>NaN</td>\n",
       "      <td>WRI 97</td>\n",
       "    </tr>\n",
       "    <tr>\n",
       "      <th>13</th>\n",
       "      <td>NaT</td>\n",
       "      <td>NaN</td>\n",
       "      <td>NaN</td>\n",
       "      <td>NaN</td>\n",
       "      <td>NaN</td>\n",
       "      <td>NaN</td>\n",
       "      <td>NaN</td>\n",
       "      <td>NaN</td>\n",
       "      <td>NaN</td>\n",
       "      <td>376812.9104</td>\n",
       "      <td>...</td>\n",
       "      <td>NaN</td>\n",
       "      <td>WRI97_155</td>\n",
       "      <td>(C-2-5)18dcc-2</td>\n",
       "      <td>Well</td>\n",
       "      <td>Deep</td>\n",
       "      <td>4038171122724</td>\n",
       "      <td>NaN</td>\n",
       "      <td>NaN</td>\n",
       "      <td>NaN</td>\n",
       "      <td>WRI 97</td>\n",
       "    </tr>\n",
       "    <tr>\n",
       "      <th>14</th>\n",
       "      <td>NaT</td>\n",
       "      <td>NaN</td>\n",
       "      <td>NaN</td>\n",
       "      <td>NaN</td>\n",
       "      <td>NaN</td>\n",
       "      <td>NaN</td>\n",
       "      <td>NaN</td>\n",
       "      <td>NaN</td>\n",
       "      <td>NaN</td>\n",
       "      <td>376762.6183</td>\n",
       "      <td>...</td>\n",
       "      <td>NaN</td>\n",
       "      <td>WRI97_150</td>\n",
       "      <td>(C-2-5)7dcb-1</td>\n",
       "      <td>Well</td>\n",
       "      <td>Deep</td>\n",
       "      <td>4039141122728</td>\n",
       "      <td>NaN</td>\n",
       "      <td>NaN</td>\n",
       "      <td>NaN</td>\n",
       "      <td>WRI 97</td>\n",
       "    </tr>\n",
       "    <tr>\n",
       "      <th>15</th>\n",
       "      <td>NaT</td>\n",
       "      <td>NaN</td>\n",
       "      <td>NaN</td>\n",
       "      <td>NaN</td>\n",
       "      <td>NaN</td>\n",
       "      <td>NaN</td>\n",
       "      <td>NaN</td>\n",
       "      <td>NaN</td>\n",
       "      <td>NaN</td>\n",
       "      <td>376745.8542</td>\n",
       "      <td>...</td>\n",
       "      <td>NaN</td>\n",
       "      <td>WRI97_156</td>\n",
       "      <td>(C-2-5)19dcc-1</td>\n",
       "      <td>Well</td>\n",
       "      <td>Deep</td>\n",
       "      <td>4037201122726</td>\n",
       "      <td>NaN</td>\n",
       "      <td>NaN</td>\n",
       "      <td>NaN</td>\n",
       "      <td>WRI 97</td>\n",
       "    </tr>\n",
       "    <tr>\n",
       "      <th>16</th>\n",
       "      <td>NaT</td>\n",
       "      <td>NaN</td>\n",
       "      <td>NaN</td>\n",
       "      <td>NaN</td>\n",
       "      <td>NaN</td>\n",
       "      <td>NaN</td>\n",
       "      <td>NaN</td>\n",
       "      <td>NaN</td>\n",
       "      <td>NaN</td>\n",
       "      <td>374348.5974</td>\n",
       "      <td>...</td>\n",
       "      <td>NaN</td>\n",
       "      <td>WRI97_179</td>\n",
       "      <td>(C-2-6)14ddd-1</td>\n",
       "      <td>Well</td>\n",
       "      <td>Deep</td>\n",
       "      <td>4038111122909</td>\n",
       "      <td>NaN</td>\n",
       "      <td>NaN</td>\n",
       "      <td>NaN</td>\n",
       "      <td>WRI 97</td>\n",
       "    </tr>\n",
       "    <tr>\n",
       "      <th>17</th>\n",
       "      <td>NaT</td>\n",
       "      <td>NaN</td>\n",
       "      <td>NaN</td>\n",
       "      <td>NaN</td>\n",
       "      <td>NaN</td>\n",
       "      <td>NaN</td>\n",
       "      <td>NaN</td>\n",
       "      <td>NaN</td>\n",
       "      <td>NaN</td>\n",
       "      <td>372806.3065</td>\n",
       "      <td>...</td>\n",
       "      <td>NaN</td>\n",
       "      <td>WRI97_180</td>\n",
       "      <td>(C-2-6)23cbb-1</td>\n",
       "      <td>Well</td>\n",
       "      <td>Deep</td>\n",
       "      <td>4038021123015</td>\n",
       "      <td>NaN</td>\n",
       "      <td>NaN</td>\n",
       "      <td>NaN</td>\n",
       "      <td>WRI 97</td>\n",
       "    </tr>\n",
       "    <tr>\n",
       "      <th>18</th>\n",
       "      <td>NaT</td>\n",
       "      <td>NaN</td>\n",
       "      <td>NaN</td>\n",
       "      <td>NaN</td>\n",
       "      <td>NaN</td>\n",
       "      <td>NaN</td>\n",
       "      <td>NaN</td>\n",
       "      <td>NaN</td>\n",
       "      <td>NaN</td>\n",
       "      <td>375421.4956</td>\n",
       "      <td>...</td>\n",
       "      <td>NaN</td>\n",
       "      <td>WRI97_181</td>\n",
       "      <td>(C-2-6)25abd-1</td>\n",
       "      <td>Well</td>\n",
       "      <td>Deep</td>\n",
       "      <td>4037061122822</td>\n",
       "      <td>NaN</td>\n",
       "      <td>NaN</td>\n",
       "      <td>NaN</td>\n",
       "      <td>WRI 97</td>\n",
       "    </tr>\n",
       "    <tr>\n",
       "      <th>19</th>\n",
       "      <td>NaT</td>\n",
       "      <td>NaN</td>\n",
       "      <td>NaN</td>\n",
       "      <td>NaN</td>\n",
       "      <td>NaN</td>\n",
       "      <td>NaN</td>\n",
       "      <td>NaN</td>\n",
       "      <td>NaN</td>\n",
       "      <td>NaN</td>\n",
       "      <td>373979.7887</td>\n",
       "      <td>...</td>\n",
       "      <td>NaN</td>\n",
       "      <td>WRI97_182</td>\n",
       "      <td>(C-2-6)26dac-1</td>\n",
       "      <td>Well</td>\n",
       "      <td>Deep</td>\n",
       "      <td>4036441122923</td>\n",
       "      <td>NaN</td>\n",
       "      <td>NaN</td>\n",
       "      <td>NaN</td>\n",
       "      <td>WRI 97</td>\n",
       "    </tr>\n",
       "    <tr>\n",
       "      <th>20</th>\n",
       "      <td>NaT</td>\n",
       "      <td>NaN</td>\n",
       "      <td>NaN</td>\n",
       "      <td>NaN</td>\n",
       "      <td>NaN</td>\n",
       "      <td>NaN</td>\n",
       "      <td>NaN</td>\n",
       "      <td>NaN</td>\n",
       "      <td>NaN</td>\n",
       "      <td>375220.3272</td>\n",
       "      <td>...</td>\n",
       "      <td>NaN</td>\n",
       "      <td>WRI97_183</td>\n",
       "      <td>(C-2-6)36acc-2</td>\n",
       "      <td>Well</td>\n",
       "      <td>Deep</td>\n",
       "      <td>4036011122829</td>\n",
       "      <td>NaN</td>\n",
       "      <td>NaN</td>\n",
       "      <td>NaN</td>\n",
       "      <td>WRI 97</td>\n",
       "    </tr>\n",
       "    <tr>\n",
       "      <th>21</th>\n",
       "      <td>NaT</td>\n",
       "      <td>NaN</td>\n",
       "      <td>NaN</td>\n",
       "      <td>NaN</td>\n",
       "      <td>NaN</td>\n",
       "      <td>NaN</td>\n",
       "      <td>NaN</td>\n",
       "      <td>NaN</td>\n",
       "      <td>NaN</td>\n",
       "      <td>376343.5174</td>\n",
       "      <td>...</td>\n",
       "      <td>NaN</td>\n",
       "      <td>WRI97_168</td>\n",
       "      <td>(C-2-5)31cca-1</td>\n",
       "      <td>Well</td>\n",
       "      <td>Deep</td>\n",
       "      <td>4035411122741</td>\n",
       "      <td>NaN</td>\n",
       "      <td>NaN</td>\n",
       "      <td>NaN</td>\n",
       "      <td>WRI 97</td>\n",
       "    </tr>\n",
       "    <tr>\n",
       "      <th>22</th>\n",
       "      <td>NaT</td>\n",
       "      <td>NaN</td>\n",
       "      <td>NaN</td>\n",
       "      <td>NaN</td>\n",
       "      <td>NaN</td>\n",
       "      <td>NaN</td>\n",
       "      <td>NaN</td>\n",
       "      <td>NaN</td>\n",
       "      <td>NaN</td>\n",
       "      <td>376511.1578</td>\n",
       "      <td>...</td>\n",
       "      <td>NaN</td>\n",
       "      <td>WRI97_167</td>\n",
       "      <td>(C-2-5)31bdd-4</td>\n",
       "      <td>Well</td>\n",
       "      <td>Deep</td>\n",
       "      <td>4035601122734</td>\n",
       "      <td>NaN</td>\n",
       "      <td>NaN</td>\n",
       "      <td>NaN</td>\n",
       "      <td>WRI 97</td>\n",
       "    </tr>\n",
       "    <tr>\n",
       "      <th>23</th>\n",
       "      <td>NaT</td>\n",
       "      <td>NaN</td>\n",
       "      <td>NaN</td>\n",
       "      <td>NaN</td>\n",
       "      <td>NaN</td>\n",
       "      <td>NaN</td>\n",
       "      <td>NaN</td>\n",
       "      <td>NaN</td>\n",
       "      <td>NaN</td>\n",
       "      <td>376159.1131</td>\n",
       "      <td>...</td>\n",
       "      <td>NaN</td>\n",
       "      <td>WRI97_164</td>\n",
       "      <td>(C-2-5)30ccc-2</td>\n",
       "      <td>Well</td>\n",
       "      <td>Deep</td>\n",
       "      <td>4036251122750</td>\n",
       "      <td>NaN</td>\n",
       "      <td>NaN</td>\n",
       "      <td>NaN</td>\n",
       "      <td>WRI 97</td>\n",
       "    </tr>\n",
       "    <tr>\n",
       "      <th>24</th>\n",
       "      <td>NaT</td>\n",
       "      <td>NaN</td>\n",
       "      <td>NaN</td>\n",
       "      <td>NaN</td>\n",
       "      <td>NaN</td>\n",
       "      <td>NaN</td>\n",
       "      <td>NaN</td>\n",
       "      <td>NaN</td>\n",
       "      <td>NaN</td>\n",
       "      <td>376075.2929</td>\n",
       "      <td>...</td>\n",
       "      <td>NaN</td>\n",
       "      <td>WRI97_163</td>\n",
       "      <td>(C-2-5)30bcc-1</td>\n",
       "      <td>Well</td>\n",
       "      <td>Deep</td>\n",
       "      <td>4036531122754</td>\n",
       "      <td>NaN</td>\n",
       "      <td>NaN</td>\n",
       "      <td>NaN</td>\n",
       "      <td>WRI 97</td>\n",
       "    </tr>\n",
       "    <tr>\n",
       "      <th>25</th>\n",
       "      <td>NaT</td>\n",
       "      <td>NaN</td>\n",
       "      <td>NaN</td>\n",
       "      <td>NaN</td>\n",
       "      <td>NaN</td>\n",
       "      <td>NaN</td>\n",
       "      <td>NaN</td>\n",
       "      <td>NaN</td>\n",
       "      <td>NaN</td>\n",
       "      <td>376863.2025</td>\n",
       "      <td>...</td>\n",
       "      <td>NaN</td>\n",
       "      <td>WRI97_166</td>\n",
       "      <td>(C-2-5)30dcc-1</td>\n",
       "      <td>Well</td>\n",
       "      <td>Deep</td>\n",
       "      <td>4036251122720</td>\n",
       "      <td>NaN</td>\n",
       "      <td>NaN</td>\n",
       "      <td>NaN</td>\n",
       "      <td>WRI 97</td>\n",
       "    </tr>\n",
       "    <tr>\n",
       "      <th>26</th>\n",
       "      <td>NaT</td>\n",
       "      <td>NaN</td>\n",
       "      <td>NaN</td>\n",
       "      <td>NaN</td>\n",
       "      <td>NaN</td>\n",
       "      <td>NaN</td>\n",
       "      <td>NaN</td>\n",
       "      <td>NaN</td>\n",
       "      <td>NaN</td>\n",
       "      <td>377516.9998</td>\n",
       "      <td>...</td>\n",
       "      <td>NaN</td>\n",
       "      <td>WRI97_165</td>\n",
       "      <td>(C-2-5)30daa-1</td>\n",
       "      <td>Well</td>\n",
       "      <td>Deep</td>\n",
       "      <td>4036501122653</td>\n",
       "      <td>NaN</td>\n",
       "      <td>NaN</td>\n",
       "      <td>NaN</td>\n",
       "      <td>WRI 97</td>\n",
       "    </tr>\n",
       "    <tr>\n",
       "      <th>27</th>\n",
       "      <td>NaT</td>\n",
       "      <td>NaN</td>\n",
       "      <td>NaN</td>\n",
       "      <td>NaN</td>\n",
       "      <td>NaN</td>\n",
       "      <td>NaN</td>\n",
       "      <td>NaN</td>\n",
       "      <td>NaN</td>\n",
       "      <td>NaN</td>\n",
       "      <td>378824.5944</td>\n",
       "      <td>...</td>\n",
       "      <td>NaN</td>\n",
       "      <td>WRI97_161</td>\n",
       "      <td>(C-2-5)29adc-2</td>\n",
       "      <td>Well</td>\n",
       "      <td>Deep</td>\n",
       "      <td>4036551122557</td>\n",
       "      <td>NaN</td>\n",
       "      <td>NaN</td>\n",
       "      <td>NaN</td>\n",
       "      <td>WRI 97</td>\n",
       "    </tr>\n",
       "    <tr>\n",
       "      <th>28</th>\n",
       "      <td>NaT</td>\n",
       "      <td>NaN</td>\n",
       "      <td>NaN</td>\n",
       "      <td>NaN</td>\n",
       "      <td>NaN</td>\n",
       "      <td>NaN</td>\n",
       "      <td>NaN</td>\n",
       "      <td>NaN</td>\n",
       "      <td>NaN</td>\n",
       "      <td>378740.7742</td>\n",
       "      <td>...</td>\n",
       "      <td>NaN</td>\n",
       "      <td>WRI97_162</td>\n",
       "      <td>(C-2-5)29dcd-5</td>\n",
       "      <td>Well</td>\n",
       "      <td>Deep</td>\n",
       "      <td>4036271122560</td>\n",
       "      <td>NaN</td>\n",
       "      <td>NaN</td>\n",
       "      <td>NaN</td>\n",
       "      <td>WRI 97</td>\n",
       "    </tr>\n",
       "    <tr>\n",
       "      <th>29</th>\n",
       "      <td>NaT</td>\n",
       "      <td>NaN</td>\n",
       "      <td>NaN</td>\n",
       "      <td>NaN</td>\n",
       "      <td>NaN</td>\n",
       "      <td>NaN</td>\n",
       "      <td>NaN</td>\n",
       "      <td>NaN</td>\n",
       "      <td>NaN</td>\n",
       "      <td>378422.2576</td>\n",
       "      <td>...</td>\n",
       "      <td>NaN</td>\n",
       "      <td>WRI97_169</td>\n",
       "      <td>(C-2-5)32abc-3</td>\n",
       "      <td>Well</td>\n",
       "      <td>Deep</td>\n",
       "      <td>4036131122613</td>\n",
       "      <td>NaN</td>\n",
       "      <td>NaN</td>\n",
       "      <td>NaN</td>\n",
       "      <td>WRI 97</td>\n",
       "    </tr>\n",
       "    <tr>\n",
       "      <th>...</th>\n",
       "      <td>...</td>\n",
       "      <td>...</td>\n",
       "      <td>...</td>\n",
       "      <td>...</td>\n",
       "      <td>...</td>\n",
       "      <td>...</td>\n",
       "      <td>...</td>\n",
       "      <td>...</td>\n",
       "      <td>...</td>\n",
       "      <td>...</td>\n",
       "      <td>...</td>\n",
       "      <td>...</td>\n",
       "      <td>...</td>\n",
       "      <td>...</td>\n",
       "      <td>...</td>\n",
       "      <td>...</td>\n",
       "      <td>...</td>\n",
       "      <td>...</td>\n",
       "      <td>...</td>\n",
       "      <td>...</td>\n",
       "      <td>...</td>\n",
       "    </tr>\n",
       "    <tr>\n",
       "      <th>1509</th>\n",
       "      <td>NaT</td>\n",
       "      <td>NaN</td>\n",
       "      <td>NaN</td>\n",
       "      <td>NaN</td>\n",
       "      <td>NaN</td>\n",
       "      <td>35.0</td>\n",
       "      <td>NaN</td>\n",
       "      <td>NaN</td>\n",
       "      <td>NaN</td>\n",
       "      <td>NaN</td>\n",
       "      <td>...</td>\n",
       "      <td>NaN</td>\n",
       "      <td>UTAHDWQ-5998030</td>\n",
       "      <td>KENNECOTT MAGNA SMELTER WELL 640A</td>\n",
       "      <td>Well</td>\n",
       "      <td>NaN</td>\n",
       "      <td>NaN</td>\n",
       "      <td>NaN</td>\n",
       "      <td>NaN</td>\n",
       "      <td>NaN</td>\n",
       "      <td>WQP</td>\n",
       "    </tr>\n",
       "    <tr>\n",
       "      <th>1510</th>\n",
       "      <td>NaT</td>\n",
       "      <td>NaN</td>\n",
       "      <td>NaN</td>\n",
       "      <td>NaN</td>\n",
       "      <td>NaN</td>\n",
       "      <td>35.0</td>\n",
       "      <td>NaN</td>\n",
       "      <td>NaN</td>\n",
       "      <td>NaN</td>\n",
       "      <td>NaN</td>\n",
       "      <td>...</td>\n",
       "      <td>NaN</td>\n",
       "      <td>UTAHDWQ-5998040</td>\n",
       "      <td>KENNECOTT TAILINGS WELL NET 604B</td>\n",
       "      <td>Well</td>\n",
       "      <td>NaN</td>\n",
       "      <td>NaN</td>\n",
       "      <td>NaN</td>\n",
       "      <td>NaN</td>\n",
       "      <td>NaN</td>\n",
       "      <td>WQP</td>\n",
       "    </tr>\n",
       "    <tr>\n",
       "      <th>1511</th>\n",
       "      <td>NaT</td>\n",
       "      <td>NaN</td>\n",
       "      <td>NaN</td>\n",
       "      <td>NaN</td>\n",
       "      <td>NaN</td>\n",
       "      <td>35.0</td>\n",
       "      <td>NaN</td>\n",
       "      <td>NaN</td>\n",
       "      <td>NaN</td>\n",
       "      <td>NaN</td>\n",
       "      <td>...</td>\n",
       "      <td>NaN</td>\n",
       "      <td>UTAHDWQ-5998050</td>\n",
       "      <td>KENNECOTT TAILINGS WELL NET 640B</td>\n",
       "      <td>Well</td>\n",
       "      <td>NaN</td>\n",
       "      <td>NaN</td>\n",
       "      <td>NaN</td>\n",
       "      <td>NaN</td>\n",
       "      <td>NaN</td>\n",
       "      <td>WQP</td>\n",
       "    </tr>\n",
       "    <tr>\n",
       "      <th>1512</th>\n",
       "      <td>NaT</td>\n",
       "      <td>NaN</td>\n",
       "      <td>NaN</td>\n",
       "      <td>NaN</td>\n",
       "      <td>NaN</td>\n",
       "      <td>45.0</td>\n",
       "      <td>NaN</td>\n",
       "      <td>NaN</td>\n",
       "      <td>NaN</td>\n",
       "      <td>NaN</td>\n",
       "      <td>...</td>\n",
       "      <td>NaN</td>\n",
       "      <td>UTAHDWQ-5998090</td>\n",
       "      <td>Envirocare GW 29</td>\n",
       "      <td>Well</td>\n",
       "      <td>NaN</td>\n",
       "      <td>NaN</td>\n",
       "      <td>NaN</td>\n",
       "      <td>NaN</td>\n",
       "      <td>NaN</td>\n",
       "      <td>WQP</td>\n",
       "    </tr>\n",
       "    <tr>\n",
       "      <th>1513</th>\n",
       "      <td>NaT</td>\n",
       "      <td>NaN</td>\n",
       "      <td>NaN</td>\n",
       "      <td>NaN</td>\n",
       "      <td>NaN</td>\n",
       "      <td>45.0</td>\n",
       "      <td>NaN</td>\n",
       "      <td>NaN</td>\n",
       "      <td>NaN</td>\n",
       "      <td>NaN</td>\n",
       "      <td>...</td>\n",
       "      <td>NaN</td>\n",
       "      <td>UTAHDWQ-5998120</td>\n",
       "      <td>ENVIROCARE GW-20</td>\n",
       "      <td>Well</td>\n",
       "      <td>NaN</td>\n",
       "      <td>NaN</td>\n",
       "      <td>NaN</td>\n",
       "      <td>NaN</td>\n",
       "      <td>NaN</td>\n",
       "      <td>WQP</td>\n",
       "    </tr>\n",
       "    <tr>\n",
       "      <th>1514</th>\n",
       "      <td>NaT</td>\n",
       "      <td>NaN</td>\n",
       "      <td>NaN</td>\n",
       "      <td>NaN</td>\n",
       "      <td>NaN</td>\n",
       "      <td>45.0</td>\n",
       "      <td>NaN</td>\n",
       "      <td>NaN</td>\n",
       "      <td>NaN</td>\n",
       "      <td>NaN</td>\n",
       "      <td>...</td>\n",
       "      <td>NaN</td>\n",
       "      <td>UTAHDWQ-5998130</td>\n",
       "      <td>ENVIROCARE GW-24</td>\n",
       "      <td>Well</td>\n",
       "      <td>NaN</td>\n",
       "      <td>NaN</td>\n",
       "      <td>NaN</td>\n",
       "      <td>NaN</td>\n",
       "      <td>NaN</td>\n",
       "      <td>WQP</td>\n",
       "    </tr>\n",
       "    <tr>\n",
       "      <th>1515</th>\n",
       "      <td>NaT</td>\n",
       "      <td>NaN</td>\n",
       "      <td>NaN</td>\n",
       "      <td>NaN</td>\n",
       "      <td>NaN</td>\n",
       "      <td>45.0</td>\n",
       "      <td>NaN</td>\n",
       "      <td>NaN</td>\n",
       "      <td>NaN</td>\n",
       "      <td>NaN</td>\n",
       "      <td>...</td>\n",
       "      <td>NaN</td>\n",
       "      <td>UTAHDWQ-5998140</td>\n",
       "      <td>ENVIROCARE GW 37</td>\n",
       "      <td>Well</td>\n",
       "      <td>NaN</td>\n",
       "      <td>NaN</td>\n",
       "      <td>NaN</td>\n",
       "      <td>NaN</td>\n",
       "      <td>NaN</td>\n",
       "      <td>WQP</td>\n",
       "    </tr>\n",
       "    <tr>\n",
       "      <th>1516</th>\n",
       "      <td>NaT</td>\n",
       "      <td>NaN</td>\n",
       "      <td>NaN</td>\n",
       "      <td>NaN</td>\n",
       "      <td>NaN</td>\n",
       "      <td>45.0</td>\n",
       "      <td>NaN</td>\n",
       "      <td>NaN</td>\n",
       "      <td>NaN</td>\n",
       "      <td>NaN</td>\n",
       "      <td>...</td>\n",
       "      <td>NaN</td>\n",
       "      <td>UTAHDWQ-5998150</td>\n",
       "      <td>ENVIROCARE GW 57</td>\n",
       "      <td>Well</td>\n",
       "      <td>NaN</td>\n",
       "      <td>NaN</td>\n",
       "      <td>NaN</td>\n",
       "      <td>NaN</td>\n",
       "      <td>NaN</td>\n",
       "      <td>WQP</td>\n",
       "    </tr>\n",
       "    <tr>\n",
       "      <th>1517</th>\n",
       "      <td>NaT</td>\n",
       "      <td>NaN</td>\n",
       "      <td>NaN</td>\n",
       "      <td>NaN</td>\n",
       "      <td>NaN</td>\n",
       "      <td>45.0</td>\n",
       "      <td>NaN</td>\n",
       "      <td>NaN</td>\n",
       "      <td>NaN</td>\n",
       "      <td>NaN</td>\n",
       "      <td>...</td>\n",
       "      <td>NaN</td>\n",
       "      <td>UTAHDWQ-5998160</td>\n",
       "      <td>ENVIROCARE GW 28</td>\n",
       "      <td>Well</td>\n",
       "      <td>NaN</td>\n",
       "      <td>NaN</td>\n",
       "      <td>NaN</td>\n",
       "      <td>NaN</td>\n",
       "      <td>NaN</td>\n",
       "      <td>WQP</td>\n",
       "    </tr>\n",
       "    <tr>\n",
       "      <th>1518</th>\n",
       "      <td>NaT</td>\n",
       "      <td>NaN</td>\n",
       "      <td>NaN</td>\n",
       "      <td>NaN</td>\n",
       "      <td>NaN</td>\n",
       "      <td>45.0</td>\n",
       "      <td>NaN</td>\n",
       "      <td>NaN</td>\n",
       "      <td>NaN</td>\n",
       "      <td>NaN</td>\n",
       "      <td>...</td>\n",
       "      <td>NaN</td>\n",
       "      <td>UTAHDWQ-5998170</td>\n",
       "      <td>ENVIROCARE GW 58</td>\n",
       "      <td>Well</td>\n",
       "      <td>NaN</td>\n",
       "      <td>NaN</td>\n",
       "      <td>NaN</td>\n",
       "      <td>NaN</td>\n",
       "      <td>NaN</td>\n",
       "      <td>WQP</td>\n",
       "    </tr>\n",
       "    <tr>\n",
       "      <th>1519</th>\n",
       "      <td>NaT</td>\n",
       "      <td>NaN</td>\n",
       "      <td>NaN</td>\n",
       "      <td>NaN</td>\n",
       "      <td>NaN</td>\n",
       "      <td>45.0</td>\n",
       "      <td>NaN</td>\n",
       "      <td>NaN</td>\n",
       "      <td>NaN</td>\n",
       "      <td>NaN</td>\n",
       "      <td>...</td>\n",
       "      <td>NaN</td>\n",
       "      <td>UTAHDWQ-5998180</td>\n",
       "      <td>ENVIROCARE GW 26</td>\n",
       "      <td>Well</td>\n",
       "      <td>NaN</td>\n",
       "      <td>NaN</td>\n",
       "      <td>NaN</td>\n",
       "      <td>NaN</td>\n",
       "      <td>NaN</td>\n",
       "      <td>WQP</td>\n",
       "    </tr>\n",
       "    <tr>\n",
       "      <th>1520</th>\n",
       "      <td>NaT</td>\n",
       "      <td>NaN</td>\n",
       "      <td>NaN</td>\n",
       "      <td>NaN</td>\n",
       "      <td>NaN</td>\n",
       "      <td>45.0</td>\n",
       "      <td>NaN</td>\n",
       "      <td>NaN</td>\n",
       "      <td>NaN</td>\n",
       "      <td>NaN</td>\n",
       "      <td>...</td>\n",
       "      <td>NaN</td>\n",
       "      <td>UTAHDWQ-5998190</td>\n",
       "      <td>ENVIROCARE GW 27</td>\n",
       "      <td>Well</td>\n",
       "      <td>NaN</td>\n",
       "      <td>NaN</td>\n",
       "      <td>NaN</td>\n",
       "      <td>NaN</td>\n",
       "      <td>NaN</td>\n",
       "      <td>WQP</td>\n",
       "    </tr>\n",
       "    <tr>\n",
       "      <th>1521</th>\n",
       "      <td>NaT</td>\n",
       "      <td>NaN</td>\n",
       "      <td>NaN</td>\n",
       "      <td>NaN</td>\n",
       "      <td>NaN</td>\n",
       "      <td>45.0</td>\n",
       "      <td>NaN</td>\n",
       "      <td>NaN</td>\n",
       "      <td>NaN</td>\n",
       "      <td>NaN</td>\n",
       "      <td>...</td>\n",
       "      <td>NaN</td>\n",
       "      <td>UTAHDWQ-5998210</td>\n",
       "      <td>ENVIROCARE GW 38</td>\n",
       "      <td>Well</td>\n",
       "      <td>NaN</td>\n",
       "      <td>NaN</td>\n",
       "      <td>NaN</td>\n",
       "      <td>NaN</td>\n",
       "      <td>NaN</td>\n",
       "      <td>WQP</td>\n",
       "    </tr>\n",
       "    <tr>\n",
       "      <th>1522</th>\n",
       "      <td>NaT</td>\n",
       "      <td>NaN</td>\n",
       "      <td>NaN</td>\n",
       "      <td>NaN</td>\n",
       "      <td>NaN</td>\n",
       "      <td>45.0</td>\n",
       "      <td>NaN</td>\n",
       "      <td>NaN</td>\n",
       "      <td>NaN</td>\n",
       "      <td>NaN</td>\n",
       "      <td>...</td>\n",
       "      <td>NaN</td>\n",
       "      <td>UTAHDWQ-5998220</td>\n",
       "      <td>ENVIROCARE P-3 POND</td>\n",
       "      <td>Well</td>\n",
       "      <td>NaN</td>\n",
       "      <td>NaN</td>\n",
       "      <td>NaN</td>\n",
       "      <td>NaN</td>\n",
       "      <td>NaN</td>\n",
       "      <td>WQP</td>\n",
       "    </tr>\n",
       "    <tr>\n",
       "      <th>1523</th>\n",
       "      <td>NaT</td>\n",
       "      <td>NaN</td>\n",
       "      <td>NaN</td>\n",
       "      <td>NaN</td>\n",
       "      <td>NaN</td>\n",
       "      <td>45.0</td>\n",
       "      <td>NaN</td>\n",
       "      <td>NaN</td>\n",
       "      <td>NaN</td>\n",
       "      <td>NaN</td>\n",
       "      <td>...</td>\n",
       "      <td>NaN</td>\n",
       "      <td>UTAHDWQ-5998230</td>\n",
       "      <td>ENVIROCARE GW 60</td>\n",
       "      <td>Well</td>\n",
       "      <td>NaN</td>\n",
       "      <td>NaN</td>\n",
       "      <td>NaN</td>\n",
       "      <td>NaN</td>\n",
       "      <td>NaN</td>\n",
       "      <td>WQP</td>\n",
       "    </tr>\n",
       "    <tr>\n",
       "      <th>1524</th>\n",
       "      <td>NaT</td>\n",
       "      <td>NaN</td>\n",
       "      <td>NaN</td>\n",
       "      <td>NaN</td>\n",
       "      <td>NaN</td>\n",
       "      <td>45.0</td>\n",
       "      <td>NaN</td>\n",
       "      <td>NaN</td>\n",
       "      <td>NaN</td>\n",
       "      <td>NaN</td>\n",
       "      <td>...</td>\n",
       "      <td>NaN</td>\n",
       "      <td>UTAHDWQ-5998240</td>\n",
       "      <td>ENVIROCARE GW 63</td>\n",
       "      <td>Well</td>\n",
       "      <td>NaN</td>\n",
       "      <td>NaN</td>\n",
       "      <td>NaN</td>\n",
       "      <td>NaN</td>\n",
       "      <td>NaN</td>\n",
       "      <td>WQP</td>\n",
       "    </tr>\n",
       "    <tr>\n",
       "      <th>1525</th>\n",
       "      <td>NaT</td>\n",
       "      <td>NaN</td>\n",
       "      <td>NaN</td>\n",
       "      <td>NaN</td>\n",
       "      <td>NaN</td>\n",
       "      <td>45.0</td>\n",
       "      <td>NaN</td>\n",
       "      <td>NaN</td>\n",
       "      <td>NaN</td>\n",
       "      <td>NaN</td>\n",
       "      <td>...</td>\n",
       "      <td>NaN</td>\n",
       "      <td>UTAHDWQ-5998250</td>\n",
       "      <td>ENVIROCARE GW 19A</td>\n",
       "      <td>Well</td>\n",
       "      <td>NaN</td>\n",
       "      <td>NaN</td>\n",
       "      <td>NaN</td>\n",
       "      <td>NaN</td>\n",
       "      <td>NaN</td>\n",
       "      <td>WQP</td>\n",
       "    </tr>\n",
       "    <tr>\n",
       "      <th>1526</th>\n",
       "      <td>NaT</td>\n",
       "      <td>NaN</td>\n",
       "      <td>NaN</td>\n",
       "      <td>NaN</td>\n",
       "      <td>NaN</td>\n",
       "      <td>45.0</td>\n",
       "      <td>NaN</td>\n",
       "      <td>NaN</td>\n",
       "      <td>NaN</td>\n",
       "      <td>NaN</td>\n",
       "      <td>...</td>\n",
       "      <td>NaN</td>\n",
       "      <td>UTAHDWQ-5998260</td>\n",
       "      <td>ENVIROCARE GW 36</td>\n",
       "      <td>Well</td>\n",
       "      <td>NaN</td>\n",
       "      <td>NaN</td>\n",
       "      <td>NaN</td>\n",
       "      <td>NaN</td>\n",
       "      <td>NaN</td>\n",
       "      <td>WQP</td>\n",
       "    </tr>\n",
       "    <tr>\n",
       "      <th>1527</th>\n",
       "      <td>NaT</td>\n",
       "      <td>NaN</td>\n",
       "      <td>NaN</td>\n",
       "      <td>NaN</td>\n",
       "      <td>NaN</td>\n",
       "      <td>45.0</td>\n",
       "      <td>NaN</td>\n",
       "      <td>NaN</td>\n",
       "      <td>NaN</td>\n",
       "      <td>NaN</td>\n",
       "      <td>...</td>\n",
       "      <td>NaN</td>\n",
       "      <td>UTAHGS-404425112384801</td>\n",
       "      <td>Big (Timpie) Spring (C- 1- 7) 9ccc-S1</td>\n",
       "      <td>Spring</td>\n",
       "      <td>NaN</td>\n",
       "      <td>NaN</td>\n",
       "      <td>NaN</td>\n",
       "      <td>NaN</td>\n",
       "      <td>NaN</td>\n",
       "      <td>WQP</td>\n",
       "    </tr>\n",
       "    <tr>\n",
       "      <th>1528</th>\n",
       "      <td>NaT</td>\n",
       "      <td>NaN</td>\n",
       "      <td>NaN</td>\n",
       "      <td>NaN</td>\n",
       "      <td>NaN</td>\n",
       "      <td>35.0</td>\n",
       "      <td>NaN</td>\n",
       "      <td>NaN</td>\n",
       "      <td>NaN</td>\n",
       "      <td>NaN</td>\n",
       "      <td>...</td>\n",
       "      <td>NaN</td>\n",
       "      <td>UTAHGS-404508112522401</td>\n",
       "      <td>Grateful Tomato Garden</td>\n",
       "      <td>Well</td>\n",
       "      <td>NaN</td>\n",
       "      <td>NaN</td>\n",
       "      <td>NaN</td>\n",
       "      <td>NaN</td>\n",
       "      <td>NaN</td>\n",
       "      <td>WQP</td>\n",
       "    </tr>\n",
       "    <tr>\n",
       "      <th>1529</th>\n",
       "      <td>NaT</td>\n",
       "      <td>NaN</td>\n",
       "      <td>NaN</td>\n",
       "      <td>NaN</td>\n",
       "      <td>NaN</td>\n",
       "      <td>35.0</td>\n",
       "      <td>NaN</td>\n",
       "      <td>NaN</td>\n",
       "      <td>NaN</td>\n",
       "      <td>NaN</td>\n",
       "      <td>...</td>\n",
       "      <td>NaN</td>\n",
       "      <td>UTAHGS-404724111562501</td>\n",
       "      <td>Elementary Well</td>\n",
       "      <td>Well</td>\n",
       "      <td>NaN</td>\n",
       "      <td>NaN</td>\n",
       "      <td>NaN</td>\n",
       "      <td>NaN</td>\n",
       "      <td>NaN</td>\n",
       "      <td>WQP</td>\n",
       "    </tr>\n",
       "    <tr>\n",
       "      <th>1530</th>\n",
       "      <td>NaT</td>\n",
       "      <td>NaN</td>\n",
       "      <td>NaN</td>\n",
       "      <td>NaN</td>\n",
       "      <td>NaN</td>\n",
       "      <td>11.0</td>\n",
       "      <td>NaN</td>\n",
       "      <td>NaN</td>\n",
       "      <td>NaN</td>\n",
       "      <td>NaN</td>\n",
       "      <td>...</td>\n",
       "      <td>NaN</td>\n",
       "      <td>UTAHGS-405456111522501</td>\n",
       "      <td>Church Well</td>\n",
       "      <td>Well</td>\n",
       "      <td>NaN</td>\n",
       "      <td>NaN</td>\n",
       "      <td>NaN</td>\n",
       "      <td>NaN</td>\n",
       "      <td>NaN</td>\n",
       "      <td>WQP</td>\n",
       "    </tr>\n",
       "    <tr>\n",
       "      <th>1531</th>\n",
       "      <td>NaT</td>\n",
       "      <td>NaN</td>\n",
       "      <td>NaN</td>\n",
       "      <td>NaN</td>\n",
       "      <td>NaN</td>\n",
       "      <td>11.0</td>\n",
       "      <td>NaN</td>\n",
       "      <td>NaN</td>\n",
       "      <td>NaN</td>\n",
       "      <td>NaN</td>\n",
       "      <td>...</td>\n",
       "      <td>NaN</td>\n",
       "      <td>UTAHGS-410008111545401</td>\n",
       "      <td>Oak Ridge Country Club</td>\n",
       "      <td>Well</td>\n",
       "      <td>NaN</td>\n",
       "      <td>NaN</td>\n",
       "      <td>NaN</td>\n",
       "      <td>NaN</td>\n",
       "      <td>NaN</td>\n",
       "      <td>WQP</td>\n",
       "    </tr>\n",
       "    <tr>\n",
       "      <th>1532</th>\n",
       "      <td>NaT</td>\n",
       "      <td>NaN</td>\n",
       "      <td>NaN</td>\n",
       "      <td>NaN</td>\n",
       "      <td>NaN</td>\n",
       "      <td>11.0</td>\n",
       "      <td>NaN</td>\n",
       "      <td>NaN</td>\n",
       "      <td>NaN</td>\n",
       "      <td>NaN</td>\n",
       "      <td>...</td>\n",
       "      <td>NaN</td>\n",
       "      <td>UTAHGS-410619111542501</td>\n",
       "      <td>Iron View</td>\n",
       "      <td>Well</td>\n",
       "      <td>NaN</td>\n",
       "      <td>NaN</td>\n",
       "      <td>NaN</td>\n",
       "      <td>NaN</td>\n",
       "      <td>NaN</td>\n",
       "      <td>WQP</td>\n",
       "    </tr>\n",
       "    <tr>\n",
       "      <th>1533</th>\n",
       "      <td>NaT</td>\n",
       "      <td>NaN</td>\n",
       "      <td>NaN</td>\n",
       "      <td>NaN</td>\n",
       "      <td>NaN</td>\n",
       "      <td>57.0</td>\n",
       "      <td>NaN</td>\n",
       "      <td>NaN</td>\n",
       "      <td>NaN</td>\n",
       "      <td>NaN</td>\n",
       "      <td>...</td>\n",
       "      <td>NaN</td>\n",
       "      <td>UTAHGS-411830111581501</td>\n",
       "      <td>Stump</td>\n",
       "      <td>Well</td>\n",
       "      <td>NaN</td>\n",
       "      <td>NaN</td>\n",
       "      <td>NaN</td>\n",
       "      <td>NaN</td>\n",
       "      <td>NaN</td>\n",
       "      <td>WQP</td>\n",
       "    </tr>\n",
       "    <tr>\n",
       "      <th>1534</th>\n",
       "      <td>NaT</td>\n",
       "      <td>NaN</td>\n",
       "      <td>NaN</td>\n",
       "      <td>NaN</td>\n",
       "      <td>NaN</td>\n",
       "      <td>3.0</td>\n",
       "      <td>NaN</td>\n",
       "      <td>NaN</td>\n",
       "      <td>NaN</td>\n",
       "      <td>NaN</td>\n",
       "      <td>...</td>\n",
       "      <td>NaN</td>\n",
       "      <td>UTAHGS-412857111554601</td>\n",
       "      <td>Maple Spring</td>\n",
       "      <td>Spring</td>\n",
       "      <td>NaN</td>\n",
       "      <td>NaN</td>\n",
       "      <td>NaN</td>\n",
       "      <td>NaN</td>\n",
       "      <td>NaN</td>\n",
       "      <td>WQP</td>\n",
       "    </tr>\n",
       "    <tr>\n",
       "      <th>1535</th>\n",
       "      <td>NaT</td>\n",
       "      <td>NaN</td>\n",
       "      <td>NaN</td>\n",
       "      <td>NaN</td>\n",
       "      <td>NaN</td>\n",
       "      <td>3.0</td>\n",
       "      <td>NaN</td>\n",
       "      <td>NaN</td>\n",
       "      <td>NaN</td>\n",
       "      <td>NaN</td>\n",
       "      <td>...</td>\n",
       "      <td>NaN</td>\n",
       "      <td>UTAHGS-414234112551701</td>\n",
       "      <td>Bar M Spring</td>\n",
       "      <td>Spring</td>\n",
       "      <td>NaN</td>\n",
       "      <td>NaN</td>\n",
       "      <td>NaN</td>\n",
       "      <td>NaN</td>\n",
       "      <td>NaN</td>\n",
       "      <td>WQP</td>\n",
       "    </tr>\n",
       "    <tr>\n",
       "      <th>1536</th>\n",
       "      <td>NaT</td>\n",
       "      <td>NaN</td>\n",
       "      <td>NaN</td>\n",
       "      <td>NaN</td>\n",
       "      <td>NaN</td>\n",
       "      <td>3.0</td>\n",
       "      <td>NaN</td>\n",
       "      <td>NaN</td>\n",
       "      <td>NaN</td>\n",
       "      <td>NaN</td>\n",
       "      <td>...</td>\n",
       "      <td>NaN</td>\n",
       "      <td>UTAHGS-414305112154901</td>\n",
       "      <td>29 Seed</td>\n",
       "      <td>Well</td>\n",
       "      <td>NaN</td>\n",
       "      <td>NaN</td>\n",
       "      <td>NaN</td>\n",
       "      <td>NaN</td>\n",
       "      <td>NaN</td>\n",
       "      <td>WQP</td>\n",
       "    </tr>\n",
       "    <tr>\n",
       "      <th>1537</th>\n",
       "      <td>NaT</td>\n",
       "      <td>NaN</td>\n",
       "      <td>NaN</td>\n",
       "      <td>NaN</td>\n",
       "      <td>NaN</td>\n",
       "      <td>3.0</td>\n",
       "      <td>NaN</td>\n",
       "      <td>NaN</td>\n",
       "      <td>NaN</td>\n",
       "      <td>NaN</td>\n",
       "      <td>...</td>\n",
       "      <td>NaN</td>\n",
       "      <td>UTAHGS-414729113080001</td>\n",
       "      <td>Irrigation well Kelton 20</td>\n",
       "      <td>Well</td>\n",
       "      <td>NaN</td>\n",
       "      <td>NaN</td>\n",
       "      <td>NaN</td>\n",
       "      <td>NaN</td>\n",
       "      <td>NaN</td>\n",
       "      <td>WQP</td>\n",
       "    </tr>\n",
       "    <tr>\n",
       "      <th>1538</th>\n",
       "      <td>NaT</td>\n",
       "      <td>NaN</td>\n",
       "      <td>NaN</td>\n",
       "      <td>NaN</td>\n",
       "      <td>NaN</td>\n",
       "      <td>5.0</td>\n",
       "      <td>NaN</td>\n",
       "      <td>NaN</td>\n",
       "      <td>NaN</td>\n",
       "      <td>NaN</td>\n",
       "      <td>...</td>\n",
       "      <td>NaN</td>\n",
       "      <td>UTAHGS-414904111511001</td>\n",
       "      <td>GGG Well</td>\n",
       "      <td>Well</td>\n",
       "      <td>NaN</td>\n",
       "      <td>NaN</td>\n",
       "      <td>NaN</td>\n",
       "      <td>NaN</td>\n",
       "      <td>NaN</td>\n",
       "      <td>WQP</td>\n",
       "    </tr>\n",
       "  </tbody>\n",
       "</table>\n",
       "<p>2834 rows × 51 columns</p>\n",
       "</div>"
      ],
      "text/plain": [
       "     ActDate ActStatus Aquifer AquiferType  ConstDate  CountyCode  Depth  \\\n",
       "0        NaT       NaN     NaN         NaN        NaN         NaN    NaN   \n",
       "1        NaT       NaN     NaN         NaN        NaN         NaN    NaN   \n",
       "2        NaT       NaN     NaN         NaN        NaN         NaN    NaN   \n",
       "3        NaT       NaN     NaN         NaN        NaN         NaN    NaN   \n",
       "4        NaT       NaN     NaN         NaN        NaN         NaN    NaN   \n",
       "5        NaT       NaN     NaN         NaN        NaN         NaN    NaN   \n",
       "6        NaT       NaN     NaN         NaN        NaN         NaN    NaN   \n",
       "7        NaT       NaN     NaN         NaN        NaN         NaN    NaN   \n",
       "8        NaT       NaN     NaN         NaN        NaN         NaN    NaN   \n",
       "9        NaT       NaN     NaN         NaN        NaN         NaN    NaN   \n",
       "10       NaT       NaN     NaN         NaN        NaN         NaN    NaN   \n",
       "11       NaT       NaN     NaN         NaN        NaN         NaN    NaN   \n",
       "12       NaT       NaN     NaN         NaN        NaN         NaN    NaN   \n",
       "13       NaT       NaN     NaN         NaN        NaN         NaN    NaN   \n",
       "14       NaT       NaN     NaN         NaN        NaN         NaN    NaN   \n",
       "15       NaT       NaN     NaN         NaN        NaN         NaN    NaN   \n",
       "16       NaT       NaN     NaN         NaN        NaN         NaN    NaN   \n",
       "17       NaT       NaN     NaN         NaN        NaN         NaN    NaN   \n",
       "18       NaT       NaN     NaN         NaN        NaN         NaN    NaN   \n",
       "19       NaT       NaN     NaN         NaN        NaN         NaN    NaN   \n",
       "20       NaT       NaN     NaN         NaN        NaN         NaN    NaN   \n",
       "21       NaT       NaN     NaN         NaN        NaN         NaN    NaN   \n",
       "22       NaT       NaN     NaN         NaN        NaN         NaN    NaN   \n",
       "23       NaT       NaN     NaN         NaN        NaN         NaN    NaN   \n",
       "24       NaT       NaN     NaN         NaN        NaN         NaN    NaN   \n",
       "25       NaT       NaN     NaN         NaN        NaN         NaN    NaN   \n",
       "26       NaT       NaN     NaN         NaN        NaN         NaN    NaN   \n",
       "27       NaT       NaN     NaN         NaN        NaN         NaN    NaN   \n",
       "28       NaT       NaN     NaN         NaN        NaN         NaN    NaN   \n",
       "29       NaT       NaN     NaN         NaN        NaN         NaN    NaN   \n",
       "...      ...       ...     ...         ...        ...         ...    ...   \n",
       "1509     NaT       NaN     NaN         NaN        NaN        35.0    NaN   \n",
       "1510     NaT       NaN     NaN         NaN        NaN        35.0    NaN   \n",
       "1511     NaT       NaN     NaN         NaN        NaN        35.0    NaN   \n",
       "1512     NaT       NaN     NaN         NaN        NaN        45.0    NaN   \n",
       "1513     NaT       NaN     NaN         NaN        NaN        45.0    NaN   \n",
       "1514     NaT       NaN     NaN         NaN        NaN        45.0    NaN   \n",
       "1515     NaT       NaN     NaN         NaN        NaN        45.0    NaN   \n",
       "1516     NaT       NaN     NaN         NaN        NaN        45.0    NaN   \n",
       "1517     NaT       NaN     NaN         NaN        NaN        45.0    NaN   \n",
       "1518     NaT       NaN     NaN         NaN        NaN        45.0    NaN   \n",
       "1519     NaT       NaN     NaN         NaN        NaN        45.0    NaN   \n",
       "1520     NaT       NaN     NaN         NaN        NaN        45.0    NaN   \n",
       "1521     NaT       NaN     NaN         NaN        NaN        45.0    NaN   \n",
       "1522     NaT       NaN     NaN         NaN        NaN        45.0    NaN   \n",
       "1523     NaT       NaN     NaN         NaN        NaN        45.0    NaN   \n",
       "1524     NaT       NaN     NaN         NaN        NaN        45.0    NaN   \n",
       "1525     NaT       NaN     NaN         NaN        NaN        45.0    NaN   \n",
       "1526     NaT       NaN     NaN         NaN        NaN        45.0    NaN   \n",
       "1527     NaT       NaN     NaN         NaN        NaN        45.0    NaN   \n",
       "1528     NaT       NaN     NaN         NaN        NaN        35.0    NaN   \n",
       "1529     NaT       NaN     NaN         NaN        NaN        35.0    NaN   \n",
       "1530     NaT       NaN     NaN         NaN        NaN        11.0    NaN   \n",
       "1531     NaT       NaN     NaN         NaN        NaN        11.0    NaN   \n",
       "1532     NaT       NaN     NaN         NaN        NaN        11.0    NaN   \n",
       "1533     NaT       NaN     NaN         NaN        NaN        57.0    NaN   \n",
       "1534     NaT       NaN     NaN         NaN        NaN         3.0    NaN   \n",
       "1535     NaT       NaN     NaN         NaN        NaN         3.0    NaN   \n",
       "1536     NaT       NaN     NaN         NaN        NaN         3.0    NaN   \n",
       "1537     NaT       NaN     NaN         NaN        NaN         3.0    NaN   \n",
       "1538     NaT       NaN     NaN         NaN        NaN         5.0    NaN   \n",
       "\n",
       "     DepthUnit Depth_to_bedrock_ft      Easting     ...      StationComment  \\\n",
       "0          NaN                 NaN  377718.1681     ...                 NaN   \n",
       "1          NaN                 NaN  378707.2462     ...                 NaN   \n",
       "2          NaN                 NaN  378824.5944     ...                 NaN   \n",
       "3          NaN                 NaN  379947.7846     ...                 NaN   \n",
       "4          NaN                 NaN  383451.4678     ...                 NaN   \n",
       "5          NaN                 NaN  384909.9386     ...                 NaN   \n",
       "6          NaN                 NaN  387776.5883     ...                 NaN   \n",
       "7          NaN                 NaN  393040.4948     ...                 NaN   \n",
       "8          NaN                 NaN  393208.1352     ...                 NaN   \n",
       "9          NaN                 NaN  391229.9792     ...                 NaN   \n",
       "10         NaN                 NaN  388899.7785     ...                 NaN   \n",
       "11         NaN                 NaN  379243.6952     ...                 NaN   \n",
       "12         NaN                 NaN  378472.5497     ...                 NaN   \n",
       "13         NaN                 NaN  376812.9104     ...                 NaN   \n",
       "14         NaN                 NaN  376762.6183     ...                 NaN   \n",
       "15         NaN                 NaN  376745.8542     ...                 NaN   \n",
       "16         NaN                 NaN  374348.5974     ...                 NaN   \n",
       "17         NaN                 NaN  372806.3065     ...                 NaN   \n",
       "18         NaN                 NaN  375421.4956     ...                 NaN   \n",
       "19         NaN                 NaN  373979.7887     ...                 NaN   \n",
       "20         NaN                 NaN  375220.3272     ...                 NaN   \n",
       "21         NaN                 NaN  376343.5174     ...                 NaN   \n",
       "22         NaN                 NaN  376511.1578     ...                 NaN   \n",
       "23         NaN                 NaN  376159.1131     ...                 NaN   \n",
       "24         NaN                 NaN  376075.2929     ...                 NaN   \n",
       "25         NaN                 NaN  376863.2025     ...                 NaN   \n",
       "26         NaN                 NaN  377516.9998     ...                 NaN   \n",
       "27         NaN                 NaN  378824.5944     ...                 NaN   \n",
       "28         NaN                 NaN  378740.7742     ...                 NaN   \n",
       "29         NaN                 NaN  378422.2576     ...                 NaN   \n",
       "...        ...                 ...          ...     ...                 ...   \n",
       "1509       NaN                 NaN          NaN     ...                 NaN   \n",
       "1510       NaN                 NaN          NaN     ...                 NaN   \n",
       "1511       NaN                 NaN          NaN     ...                 NaN   \n",
       "1512       NaN                 NaN          NaN     ...                 NaN   \n",
       "1513       NaN                 NaN          NaN     ...                 NaN   \n",
       "1514       NaN                 NaN          NaN     ...                 NaN   \n",
       "1515       NaN                 NaN          NaN     ...                 NaN   \n",
       "1516       NaN                 NaN          NaN     ...                 NaN   \n",
       "1517       NaN                 NaN          NaN     ...                 NaN   \n",
       "1518       NaN                 NaN          NaN     ...                 NaN   \n",
       "1519       NaN                 NaN          NaN     ...                 NaN   \n",
       "1520       NaN                 NaN          NaN     ...                 NaN   \n",
       "1521       NaN                 NaN          NaN     ...                 NaN   \n",
       "1522       NaN                 NaN          NaN     ...                 NaN   \n",
       "1523       NaN                 NaN          NaN     ...                 NaN   \n",
       "1524       NaN                 NaN          NaN     ...                 NaN   \n",
       "1525       NaN                 NaN          NaN     ...                 NaN   \n",
       "1526       NaN                 NaN          NaN     ...                 NaN   \n",
       "1527       NaN                 NaN          NaN     ...                 NaN   \n",
       "1528       NaN                 NaN          NaN     ...                 NaN   \n",
       "1529       NaN                 NaN          NaN     ...                 NaN   \n",
       "1530       NaN                 NaN          NaN     ...                 NaN   \n",
       "1531       NaN                 NaN          NaN     ...                 NaN   \n",
       "1532       NaN                 NaN          NaN     ...                 NaN   \n",
       "1533       NaN                 NaN          NaN     ...                 NaN   \n",
       "1534       NaN                 NaN          NaN     ...                 NaN   \n",
       "1535       NaN                 NaN          NaN     ...                 NaN   \n",
       "1536       NaN                 NaN          NaN     ...                 NaN   \n",
       "1537       NaN                 NaN          NaN     ...                 NaN   \n",
       "1538       NaN                 NaN          NaN     ...                 NaN   \n",
       "\n",
       "                   StationId                            StationName  \\\n",
       "0                  WRI97_148                          (C-2-5)5ccc-2   \n",
       "1                  WRI97_149                          (C-2-5)5dcd-4   \n",
       "2                  WRI97_154                         (C-2-5)17abd-1   \n",
       "3                  WRI97_153                         (C-2-5)16baa-1   \n",
       "4                  WRI97_152                         (C-2-5)14dbb-1   \n",
       "5                  WRI97_151                         (C-2-5)13acc-1   \n",
       "6                  WRI97_110                          (C-2-4)8cdc-1   \n",
       "7                  WRI97_109                          (C-2-4)2abb-1   \n",
       "8                  WRI97_108                          (C-2-4)2aba-1   \n",
       "9                  WRI97_111                         (C-2-4)10cda-1   \n",
       "10                 WRI97_115                         (C-2-4)20aad-1   \n",
       "11                 WRI97_158                         (C-2-5)21cbb-1   \n",
       "12                 WRI97_157                         (C-2-5)20acc-1   \n",
       "13                 WRI97_155                         (C-2-5)18dcc-2   \n",
       "14                 WRI97_150                          (C-2-5)7dcb-1   \n",
       "15                 WRI97_156                         (C-2-5)19dcc-1   \n",
       "16                 WRI97_179                         (C-2-6)14ddd-1   \n",
       "17                 WRI97_180                         (C-2-6)23cbb-1   \n",
       "18                 WRI97_181                         (C-2-6)25abd-1   \n",
       "19                 WRI97_182                         (C-2-6)26dac-1   \n",
       "20                 WRI97_183                         (C-2-6)36acc-2   \n",
       "21                 WRI97_168                         (C-2-5)31cca-1   \n",
       "22                 WRI97_167                         (C-2-5)31bdd-4   \n",
       "23                 WRI97_164                         (C-2-5)30ccc-2   \n",
       "24                 WRI97_163                         (C-2-5)30bcc-1   \n",
       "25                 WRI97_166                         (C-2-5)30dcc-1   \n",
       "26                 WRI97_165                         (C-2-5)30daa-1   \n",
       "27                 WRI97_161                         (C-2-5)29adc-2   \n",
       "28                 WRI97_162                         (C-2-5)29dcd-5   \n",
       "29                 WRI97_169                         (C-2-5)32abc-3   \n",
       "...                      ...                                    ...   \n",
       "1509         UTAHDWQ-5998030      KENNECOTT MAGNA SMELTER WELL 640A   \n",
       "1510         UTAHDWQ-5998040       KENNECOTT TAILINGS WELL NET 604B   \n",
       "1511         UTAHDWQ-5998050       KENNECOTT TAILINGS WELL NET 640B   \n",
       "1512         UTAHDWQ-5998090                       Envirocare GW 29   \n",
       "1513         UTAHDWQ-5998120                       ENVIROCARE GW-20   \n",
       "1514         UTAHDWQ-5998130                       ENVIROCARE GW-24   \n",
       "1515         UTAHDWQ-5998140                       ENVIROCARE GW 37   \n",
       "1516         UTAHDWQ-5998150                       ENVIROCARE GW 57   \n",
       "1517         UTAHDWQ-5998160                       ENVIROCARE GW 28   \n",
       "1518         UTAHDWQ-5998170                       ENVIROCARE GW 58   \n",
       "1519         UTAHDWQ-5998180                       ENVIROCARE GW 26   \n",
       "1520         UTAHDWQ-5998190                       ENVIROCARE GW 27   \n",
       "1521         UTAHDWQ-5998210                       ENVIROCARE GW 38   \n",
       "1522         UTAHDWQ-5998220                    ENVIROCARE P-3 POND   \n",
       "1523         UTAHDWQ-5998230                       ENVIROCARE GW 60   \n",
       "1524         UTAHDWQ-5998240                       ENVIROCARE GW 63   \n",
       "1525         UTAHDWQ-5998250                      ENVIROCARE GW 19A   \n",
       "1526         UTAHDWQ-5998260                       ENVIROCARE GW 36   \n",
       "1527  UTAHGS-404425112384801  Big (Timpie) Spring (C- 1- 7) 9ccc-S1   \n",
       "1528  UTAHGS-404508112522401                 Grateful Tomato Garden   \n",
       "1529  UTAHGS-404724111562501                        Elementary Well   \n",
       "1530  UTAHGS-405456111522501                            Church Well   \n",
       "1531  UTAHGS-410008111545401                 Oak Ridge Country Club   \n",
       "1532  UTAHGS-410619111542501                              Iron View   \n",
       "1533  UTAHGS-411830111581501                                  Stump   \n",
       "1534  UTAHGS-412857111554601                           Maple Spring   \n",
       "1535  UTAHGS-414234112551701                           Bar M Spring   \n",
       "1536  UTAHGS-414305112154901                                29 Seed   \n",
       "1537  UTAHGS-414729113080001              Irrigation well Kelton 20   \n",
       "1538  UTAHGS-414904111511001                               GGG Well   \n",
       "\n",
       "     StationType System        USGSCAD  WELL_ID WIN Yr_drilled data_source  \n",
       "0           Well   Deep  4039581122648      NaN NaN        NaN      WRI 97  \n",
       "1           Well   Deep  4039591122606      NaN NaN        NaN      WRI 97  \n",
       "2           Well   Deep  4038501122559      NaN NaN        NaN      WRI 97  \n",
       "3           Well   Deep  4039051122512      NaN NaN        NaN      WRI 97  \n",
       "4           Well   Deep  4038401122242      NaN NaN        NaN      WRI 97  \n",
       "5           Well   Deep  4038441122140      NaN NaN        NaN      WRI 97  \n",
       "6           Well   Deep  4039131121939      NaN NaN        NaN      WRI 97  \n",
       "7           Well   Deep  4040511121556      NaN NaN        NaN      WRI 97  \n",
       "8           Well   Deep  4040541121549      NaN NaN        NaN      WRI 97  \n",
       "9           Well   Deep  4039191121712      NaN NaN        NaN      WRI 97  \n",
       "10          Well   Deep  4038061121850      NaN NaN        NaN      WRI 97  \n",
       "11          Well   Deep  4037451122540      NaN NaN        NaN      WRI 97  \n",
       "12          Well   Deep  4037481122613      NaN NaN        NaN      WRI 97  \n",
       "13          Well   Deep  4038171122724      NaN NaN        NaN      WRI 97  \n",
       "14          Well   Deep  4039141122728      NaN NaN        NaN      WRI 97  \n",
       "15          Well   Deep  4037201122726      NaN NaN        NaN      WRI 97  \n",
       "16          Well   Deep  4038111122909      NaN NaN        NaN      WRI 97  \n",
       "17          Well   Deep  4038021123015      NaN NaN        NaN      WRI 97  \n",
       "18          Well   Deep  4037061122822      NaN NaN        NaN      WRI 97  \n",
       "19          Well   Deep  4036441122923      NaN NaN        NaN      WRI 97  \n",
       "20          Well   Deep  4036011122829      NaN NaN        NaN      WRI 97  \n",
       "21          Well   Deep  4035411122741      NaN NaN        NaN      WRI 97  \n",
       "22          Well   Deep  4035601122734      NaN NaN        NaN      WRI 97  \n",
       "23          Well   Deep  4036251122750      NaN NaN        NaN      WRI 97  \n",
       "24          Well   Deep  4036531122754      NaN NaN        NaN      WRI 97  \n",
       "25          Well   Deep  4036251122720      NaN NaN        NaN      WRI 97  \n",
       "26          Well   Deep  4036501122653      NaN NaN        NaN      WRI 97  \n",
       "27          Well   Deep  4036551122557      NaN NaN        NaN      WRI 97  \n",
       "28          Well   Deep  4036271122560      NaN NaN        NaN      WRI 97  \n",
       "29          Well   Deep  4036131122613      NaN NaN        NaN      WRI 97  \n",
       "...          ...    ...            ...      ...  ..        ...         ...  \n",
       "1509        Well    NaN            NaN      NaN NaN        NaN         WQP  \n",
       "1510        Well    NaN            NaN      NaN NaN        NaN         WQP  \n",
       "1511        Well    NaN            NaN      NaN NaN        NaN         WQP  \n",
       "1512        Well    NaN            NaN      NaN NaN        NaN         WQP  \n",
       "1513        Well    NaN            NaN      NaN NaN        NaN         WQP  \n",
       "1514        Well    NaN            NaN      NaN NaN        NaN         WQP  \n",
       "1515        Well    NaN            NaN      NaN NaN        NaN         WQP  \n",
       "1516        Well    NaN            NaN      NaN NaN        NaN         WQP  \n",
       "1517        Well    NaN            NaN      NaN NaN        NaN         WQP  \n",
       "1518        Well    NaN            NaN      NaN NaN        NaN         WQP  \n",
       "1519        Well    NaN            NaN      NaN NaN        NaN         WQP  \n",
       "1520        Well    NaN            NaN      NaN NaN        NaN         WQP  \n",
       "1521        Well    NaN            NaN      NaN NaN        NaN         WQP  \n",
       "1522        Well    NaN            NaN      NaN NaN        NaN         WQP  \n",
       "1523        Well    NaN            NaN      NaN NaN        NaN         WQP  \n",
       "1524        Well    NaN            NaN      NaN NaN        NaN         WQP  \n",
       "1525        Well    NaN            NaN      NaN NaN        NaN         WQP  \n",
       "1526        Well    NaN            NaN      NaN NaN        NaN         WQP  \n",
       "1527      Spring    NaN            NaN      NaN NaN        NaN         WQP  \n",
       "1528        Well    NaN            NaN      NaN NaN        NaN         WQP  \n",
       "1529        Well    NaN            NaN      NaN NaN        NaN         WQP  \n",
       "1530        Well    NaN            NaN      NaN NaN        NaN         WQP  \n",
       "1531        Well    NaN            NaN      NaN NaN        NaN         WQP  \n",
       "1532        Well    NaN            NaN      NaN NaN        NaN         WQP  \n",
       "1533        Well    NaN            NaN      NaN NaN        NaN         WQP  \n",
       "1534      Spring    NaN            NaN      NaN NaN        NaN         WQP  \n",
       "1535      Spring    NaN            NaN      NaN NaN        NaN         WQP  \n",
       "1536        Well    NaN            NaN      NaN NaN        NaN         WQP  \n",
       "1537        Well    NaN            NaN      NaN NaN        NaN         WQP  \n",
       "1538        Well    NaN            NaN      NaN NaN        NaN         WQP  \n",
       "\n",
       "[2834 rows x 51 columns]"
      ]
     },
     "execution_count": 119,
     "metadata": {},
     "output_type": "execute_result"
    }
   ],
   "source": [
    "all_stations"
   ]
  },
  {
   "cell_type": "code",
   "execution_count": 118,
   "metadata": {},
   "outputs": [
    {
     "data": {
      "text/plain": [
       "Index(['ActDate', 'ActStatus', 'Aquifer', 'AquiferType', 'ConstDate',\n",
       "       'CountyCode', 'Depth', 'DepthUnit', 'Depth_to_bedrock_ft', 'Easting',\n",
       "       'Elev', 'ElevAcc', 'ElevAccUnit', 'ElevMeth', 'ElevRef', 'ElevUnit',\n",
       "       'Elevation', 'FACTYPETXT', 'FmType', 'HUC10', 'HUC12', 'HUC8',\n",
       "       'HoleDUnit', 'HoleDepth', 'HorAcc', 'HorAccUnit', 'HorCollMeth',\n",
       "       'HorRef', 'ID', 'LABEL', 'Lat_Y', 'Latitude', 'Location', 'Lon_X',\n",
       "       'Longitude', 'MapScale', 'Northing', 'OWNER', 'OrgId', 'OrgName',\n",
       "       'StateCode', 'StationComment', 'StationId', 'StationName',\n",
       "       'StationType', 'System', 'USGSCAD', 'WELL_ID', 'WIN', 'Yr_drilled',\n",
       "       'data_source'],\n",
       "      dtype='object')"
      ]
     },
     "execution_count": 118,
     "metadata": {},
     "output_type": "execute_result"
    }
   ],
   "source": [
    "all_stations = pd.concat([WRI97_Stations,SS126_Stations,SS135_Stations,\n",
    "                         awqm_stations,sdwis_stations,wqp_stations],axis=0)\n",
    "all_stations.columns"
   ]
  },
  {
   "cell_type": "code",
   "execution_count": 99,
   "metadata": {
    "collapsed": true
   },
   "outputs": [],
   "source": [
    "keep_cols = ['OrgId', 'OrgName','StationId', 'StationName',\n",
    "             'Depth', 'Easting','Northing',\n",
    "             'Elev', 'HUC10', 'HUC12', 'HUC8', 'Lat_Y', \n",
    "             'Lon_X', \n",
    "             'StationType','data_source']\n",
    "all_stations[keep_cols].to_csv(saveplace+'all_stations.csv')"
   ]
  }
 ],
 "metadata": {
  "kernelspec": {
   "display_name": "Python 3",
   "language": "python",
   "name": "python3"
  },
  "language_info": {
   "codemirror_mode": {
    "name": "ipython",
    "version": 3
   },
   "file_extension": ".py",
   "mimetype": "text/x-python",
   "name": "python",
   "nbconvert_exporter": "python",
   "pygments_lexer": "ipython3",
   "version": "3.5.3"
  },
  "toc": {
   "nav_menu": {},
   "number_sections": true,
   "sideBar": true,
   "skip_h1_title": false,
   "title_cell": "Table of Contents",
   "title_sidebar": "Contents",
   "toc_cell": false,
   "toc_position": {
    "height": "calc(100% - 180px)",
    "left": "10px",
    "top": "150px",
    "width": "384px"
   },
   "toc_section_display": true,
   "toc_window_display": true
  },
  "varInspector": {
   "cols": {
    "lenName": 16,
    "lenType": 16,
    "lenVar": 40
   },
   "kernels_config": {
    "python": {
     "delete_cmd_postfix": "",
     "delete_cmd_prefix": "del ",
     "library": "var_list.py",
     "varRefreshCmd": "print(var_dic_list())"
    },
    "r": {
     "delete_cmd_postfix": ") ",
     "delete_cmd_prefix": "rm(",
     "library": "var_list.r",
     "varRefreshCmd": "cat(var_dic_list()) "
    }
   },
   "oldHeight": 662,
   "position": {
    "height": "684px",
    "left": "1548px",
    "right": "10px",
    "top": "108px",
    "width": "362px"
   },
   "types_to_exclude": [
    "module",
    "function",
    "builtin_function_or_method",
    "instance",
    "_Feature"
   ],
   "varInspector_section_display": "block",
   "window_display": true
  }
 },
 "nbformat": 4,
 "nbformat_minor": 2
}
